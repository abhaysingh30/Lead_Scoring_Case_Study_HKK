{
  "cells": [
    {
      "cell_type": "code",
      "execution_count": null,
      "id": "fe7ed9f1",
      "metadata": {
        "id": "fe7ed9f1"
      },
      "outputs": [],
      "source": [
        "import pandas as pd\n",
        "import numpy as np\n",
        "import matplotlib.pyplot as plt\n",
        "import seaborn as sns\n",
        "import warnings\n",
        "warnings.filterwarnings('ignore')"
      ]
    },
    {
      "cell_type": "code",
      "execution_count": null,
      "id": "f2844840",
      "metadata": {
        "id": "f2844840",
        "outputId": "2860167b-60cc-4364-e270-6e82028ff0a2"
      },
      "outputs": [
        {
          "data": {
            "text/html": [
              "<div>\n",
              "<style scoped>\n",
              "    .dataframe tbody tr th:only-of-type {\n",
              "        vertical-align: middle;\n",
              "    }\n",
              "\n",
              "    .dataframe tbody tr th {\n",
              "        vertical-align: top;\n",
              "    }\n",
              "\n",
              "    .dataframe thead th {\n",
              "        text-align: right;\n",
              "    }\n",
              "</style>\n",
              "<table border=\"1\" class=\"dataframe\">\n",
              "  <thead>\n",
              "    <tr style=\"text-align: right;\">\n",
              "      <th></th>\n",
              "      <th>Prospect ID</th>\n",
              "      <th>Lead Number</th>\n",
              "      <th>Lead Origin</th>\n",
              "      <th>Lead Source</th>\n",
              "      <th>Do Not Email</th>\n",
              "      <th>Do Not Call</th>\n",
              "      <th>Converted</th>\n",
              "      <th>TotalVisits</th>\n",
              "      <th>Total Time Spent on Website</th>\n",
              "      <th>Page Views Per Visit</th>\n",
              "      <th>...</th>\n",
              "      <th>Get updates on DM Content</th>\n",
              "      <th>Lead Profile</th>\n",
              "      <th>City</th>\n",
              "      <th>Asymmetrique Activity Index</th>\n",
              "      <th>Asymmetrique Profile Index</th>\n",
              "      <th>Asymmetrique Activity Score</th>\n",
              "      <th>Asymmetrique Profile Score</th>\n",
              "      <th>I agree to pay the amount through cheque</th>\n",
              "      <th>A free copy of Mastering The Interview</th>\n",
              "      <th>Last Notable Activity</th>\n",
              "    </tr>\n",
              "  </thead>\n",
              "  <tbody>\n",
              "    <tr>\n",
              "      <th>0</th>\n",
              "      <td>7927b2df-8bba-4d29-b9a2-b6e0beafe620</td>\n",
              "      <td>660737</td>\n",
              "      <td>API</td>\n",
              "      <td>Olark Chat</td>\n",
              "      <td>No</td>\n",
              "      <td>No</td>\n",
              "      <td>0</td>\n",
              "      <td>0.0</td>\n",
              "      <td>0</td>\n",
              "      <td>0.0</td>\n",
              "      <td>...</td>\n",
              "      <td>No</td>\n",
              "      <td>Select</td>\n",
              "      <td>Select</td>\n",
              "      <td>02.Medium</td>\n",
              "      <td>02.Medium</td>\n",
              "      <td>15.0</td>\n",
              "      <td>15.0</td>\n",
              "      <td>No</td>\n",
              "      <td>No</td>\n",
              "      <td>Modified</td>\n",
              "    </tr>\n",
              "    <tr>\n",
              "      <th>1</th>\n",
              "      <td>2a272436-5132-4136-86fa-dcc88c88f482</td>\n",
              "      <td>660728</td>\n",
              "      <td>API</td>\n",
              "      <td>Organic Search</td>\n",
              "      <td>No</td>\n",
              "      <td>No</td>\n",
              "      <td>0</td>\n",
              "      <td>5.0</td>\n",
              "      <td>674</td>\n",
              "      <td>2.5</td>\n",
              "      <td>...</td>\n",
              "      <td>No</td>\n",
              "      <td>Select</td>\n",
              "      <td>Select</td>\n",
              "      <td>02.Medium</td>\n",
              "      <td>02.Medium</td>\n",
              "      <td>15.0</td>\n",
              "      <td>15.0</td>\n",
              "      <td>No</td>\n",
              "      <td>No</td>\n",
              "      <td>Email Opened</td>\n",
              "    </tr>\n",
              "    <tr>\n",
              "      <th>2</th>\n",
              "      <td>8cc8c611-a219-4f35-ad23-fdfd2656bd8a</td>\n",
              "      <td>660727</td>\n",
              "      <td>Landing Page Submission</td>\n",
              "      <td>Direct Traffic</td>\n",
              "      <td>No</td>\n",
              "      <td>No</td>\n",
              "      <td>1</td>\n",
              "      <td>2.0</td>\n",
              "      <td>1532</td>\n",
              "      <td>2.0</td>\n",
              "      <td>...</td>\n",
              "      <td>No</td>\n",
              "      <td>Potential Lead</td>\n",
              "      <td>Mumbai</td>\n",
              "      <td>02.Medium</td>\n",
              "      <td>01.High</td>\n",
              "      <td>14.0</td>\n",
              "      <td>20.0</td>\n",
              "      <td>No</td>\n",
              "      <td>Yes</td>\n",
              "      <td>Email Opened</td>\n",
              "    </tr>\n",
              "    <tr>\n",
              "      <th>3</th>\n",
              "      <td>0cc2df48-7cf4-4e39-9de9-19797f9b38cc</td>\n",
              "      <td>660719</td>\n",
              "      <td>Landing Page Submission</td>\n",
              "      <td>Direct Traffic</td>\n",
              "      <td>No</td>\n",
              "      <td>No</td>\n",
              "      <td>0</td>\n",
              "      <td>1.0</td>\n",
              "      <td>305</td>\n",
              "      <td>1.0</td>\n",
              "      <td>...</td>\n",
              "      <td>No</td>\n",
              "      <td>Select</td>\n",
              "      <td>Mumbai</td>\n",
              "      <td>02.Medium</td>\n",
              "      <td>01.High</td>\n",
              "      <td>13.0</td>\n",
              "      <td>17.0</td>\n",
              "      <td>No</td>\n",
              "      <td>No</td>\n",
              "      <td>Modified</td>\n",
              "    </tr>\n",
              "    <tr>\n",
              "      <th>4</th>\n",
              "      <td>3256f628-e534-4826-9d63-4a8b88782852</td>\n",
              "      <td>660681</td>\n",
              "      <td>Landing Page Submission</td>\n",
              "      <td>Google</td>\n",
              "      <td>No</td>\n",
              "      <td>No</td>\n",
              "      <td>1</td>\n",
              "      <td>2.0</td>\n",
              "      <td>1428</td>\n",
              "      <td>1.0</td>\n",
              "      <td>...</td>\n",
              "      <td>No</td>\n",
              "      <td>Select</td>\n",
              "      <td>Mumbai</td>\n",
              "      <td>02.Medium</td>\n",
              "      <td>01.High</td>\n",
              "      <td>15.0</td>\n",
              "      <td>18.0</td>\n",
              "      <td>No</td>\n",
              "      <td>No</td>\n",
              "      <td>Modified</td>\n",
              "    </tr>\n",
              "  </tbody>\n",
              "</table>\n",
              "<p>5 rows × 37 columns</p>\n",
              "</div>"
            ],
            "text/plain": [
              "                            Prospect ID  Lead Number              Lead Origin  \\\n",
              "0  7927b2df-8bba-4d29-b9a2-b6e0beafe620       660737                      API   \n",
              "1  2a272436-5132-4136-86fa-dcc88c88f482       660728                      API   \n",
              "2  8cc8c611-a219-4f35-ad23-fdfd2656bd8a       660727  Landing Page Submission   \n",
              "3  0cc2df48-7cf4-4e39-9de9-19797f9b38cc       660719  Landing Page Submission   \n",
              "4  3256f628-e534-4826-9d63-4a8b88782852       660681  Landing Page Submission   \n",
              "\n",
              "      Lead Source Do Not Email Do Not Call  Converted  TotalVisits  \\\n",
              "0      Olark Chat           No          No          0          0.0   \n",
              "1  Organic Search           No          No          0          5.0   \n",
              "2  Direct Traffic           No          No          1          2.0   \n",
              "3  Direct Traffic           No          No          0          1.0   \n",
              "4          Google           No          No          1          2.0   \n",
              "\n",
              "   Total Time Spent on Website  Page Views Per Visit  ...  \\\n",
              "0                            0                   0.0  ...   \n",
              "1                          674                   2.5  ...   \n",
              "2                         1532                   2.0  ...   \n",
              "3                          305                   1.0  ...   \n",
              "4                         1428                   1.0  ...   \n",
              "\n",
              "  Get updates on DM Content    Lead Profile    City  \\\n",
              "0                        No          Select  Select   \n",
              "1                        No          Select  Select   \n",
              "2                        No  Potential Lead  Mumbai   \n",
              "3                        No          Select  Mumbai   \n",
              "4                        No          Select  Mumbai   \n",
              "\n",
              "  Asymmetrique Activity Index Asymmetrique Profile Index  \\\n",
              "0                   02.Medium                  02.Medium   \n",
              "1                   02.Medium                  02.Medium   \n",
              "2                   02.Medium                    01.High   \n",
              "3                   02.Medium                    01.High   \n",
              "4                   02.Medium                    01.High   \n",
              "\n",
              "  Asymmetrique Activity Score Asymmetrique Profile Score  \\\n",
              "0                        15.0                       15.0   \n",
              "1                        15.0                       15.0   \n",
              "2                        14.0                       20.0   \n",
              "3                        13.0                       17.0   \n",
              "4                        15.0                       18.0   \n",
              "\n",
              "  I agree to pay the amount through cheque  \\\n",
              "0                                       No   \n",
              "1                                       No   \n",
              "2                                       No   \n",
              "3                                       No   \n",
              "4                                       No   \n",
              "\n",
              "  A free copy of Mastering The Interview Last Notable Activity  \n",
              "0                                     No              Modified  \n",
              "1                                     No          Email Opened  \n",
              "2                                    Yes          Email Opened  \n",
              "3                                     No              Modified  \n",
              "4                                     No              Modified  \n",
              "\n",
              "[5 rows x 37 columns]"
            ]
          },
          "execution_count": 248,
          "metadata": {},
          "output_type": "execute_result"
        }
      ],
      "source": [
        "leads_df = pd.read_csv(r\"C:\\Users\\Yogesh\\Downloads\\Lead Scoring Assignment\\Leads.csv\")\n",
        "leads_df.head()"
      ]
    },
    {
      "cell_type": "code",
      "execution_count": null,
      "id": "82dfb662",
      "metadata": {
        "id": "82dfb662",
        "outputId": "65a072b4-146f-422d-d8ba-88eb7f5f39ab"
      },
      "outputs": [
        {
          "data": {
            "text/html": [
              "<div>\n",
              "<style scoped>\n",
              "    .dataframe tbody tr th:only-of-type {\n",
              "        vertical-align: middle;\n",
              "    }\n",
              "\n",
              "    .dataframe tbody tr th {\n",
              "        vertical-align: top;\n",
              "    }\n",
              "\n",
              "    .dataframe thead th {\n",
              "        text-align: right;\n",
              "    }\n",
              "</style>\n",
              "<table border=\"1\" class=\"dataframe\">\n",
              "  <thead>\n",
              "    <tr style=\"text-align: right;\">\n",
              "      <th></th>\n",
              "      <th>Lead Number</th>\n",
              "      <th>Converted</th>\n",
              "      <th>TotalVisits</th>\n",
              "      <th>Total Time Spent on Website</th>\n",
              "      <th>Page Views Per Visit</th>\n",
              "      <th>Asymmetrique Activity Score</th>\n",
              "      <th>Asymmetrique Profile Score</th>\n",
              "    </tr>\n",
              "  </thead>\n",
              "  <tbody>\n",
              "    <tr>\n",
              "      <th>count</th>\n",
              "      <td>9240.000000</td>\n",
              "      <td>9240.000000</td>\n",
              "      <td>9103.000000</td>\n",
              "      <td>9240.000000</td>\n",
              "      <td>9103.000000</td>\n",
              "      <td>5022.000000</td>\n",
              "      <td>5022.000000</td>\n",
              "    </tr>\n",
              "    <tr>\n",
              "      <th>mean</th>\n",
              "      <td>617188.435606</td>\n",
              "      <td>0.385390</td>\n",
              "      <td>3.445238</td>\n",
              "      <td>487.698268</td>\n",
              "      <td>2.362820</td>\n",
              "      <td>14.306252</td>\n",
              "      <td>16.344883</td>\n",
              "    </tr>\n",
              "    <tr>\n",
              "      <th>std</th>\n",
              "      <td>23405.995698</td>\n",
              "      <td>0.486714</td>\n",
              "      <td>4.854853</td>\n",
              "      <td>548.021466</td>\n",
              "      <td>2.161418</td>\n",
              "      <td>1.386694</td>\n",
              "      <td>1.811395</td>\n",
              "    </tr>\n",
              "    <tr>\n",
              "      <th>min</th>\n",
              "      <td>579533.000000</td>\n",
              "      <td>0.000000</td>\n",
              "      <td>0.000000</td>\n",
              "      <td>0.000000</td>\n",
              "      <td>0.000000</td>\n",
              "      <td>7.000000</td>\n",
              "      <td>11.000000</td>\n",
              "    </tr>\n",
              "    <tr>\n",
              "      <th>25%</th>\n",
              "      <td>596484.500000</td>\n",
              "      <td>0.000000</td>\n",
              "      <td>1.000000</td>\n",
              "      <td>12.000000</td>\n",
              "      <td>1.000000</td>\n",
              "      <td>14.000000</td>\n",
              "      <td>15.000000</td>\n",
              "    </tr>\n",
              "    <tr>\n",
              "      <th>50%</th>\n",
              "      <td>615479.000000</td>\n",
              "      <td>0.000000</td>\n",
              "      <td>3.000000</td>\n",
              "      <td>248.000000</td>\n",
              "      <td>2.000000</td>\n",
              "      <td>14.000000</td>\n",
              "      <td>16.000000</td>\n",
              "    </tr>\n",
              "    <tr>\n",
              "      <th>75%</th>\n",
              "      <td>637387.250000</td>\n",
              "      <td>1.000000</td>\n",
              "      <td>5.000000</td>\n",
              "      <td>936.000000</td>\n",
              "      <td>3.000000</td>\n",
              "      <td>15.000000</td>\n",
              "      <td>18.000000</td>\n",
              "    </tr>\n",
              "    <tr>\n",
              "      <th>max</th>\n",
              "      <td>660737.000000</td>\n",
              "      <td>1.000000</td>\n",
              "      <td>251.000000</td>\n",
              "      <td>2272.000000</td>\n",
              "      <td>55.000000</td>\n",
              "      <td>18.000000</td>\n",
              "      <td>20.000000</td>\n",
              "    </tr>\n",
              "  </tbody>\n",
              "</table>\n",
              "</div>"
            ],
            "text/plain": [
              "         Lead Number    Converted  TotalVisits  Total Time Spent on Website  \\\n",
              "count    9240.000000  9240.000000  9103.000000                  9240.000000   \n",
              "mean   617188.435606     0.385390     3.445238                   487.698268   \n",
              "std     23405.995698     0.486714     4.854853                   548.021466   \n",
              "min    579533.000000     0.000000     0.000000                     0.000000   \n",
              "25%    596484.500000     0.000000     1.000000                    12.000000   \n",
              "50%    615479.000000     0.000000     3.000000                   248.000000   \n",
              "75%    637387.250000     1.000000     5.000000                   936.000000   \n",
              "max    660737.000000     1.000000   251.000000                  2272.000000   \n",
              "\n",
              "       Page Views Per Visit  Asymmetrique Activity Score  \\\n",
              "count           9103.000000                  5022.000000   \n",
              "mean               2.362820                    14.306252   \n",
              "std                2.161418                     1.386694   \n",
              "min                0.000000                     7.000000   \n",
              "25%                1.000000                    14.000000   \n",
              "50%                2.000000                    14.000000   \n",
              "75%                3.000000                    15.000000   \n",
              "max               55.000000                    18.000000   \n",
              "\n",
              "       Asymmetrique Profile Score  \n",
              "count                 5022.000000  \n",
              "mean                    16.344883  \n",
              "std                      1.811395  \n",
              "min                     11.000000  \n",
              "25%                     15.000000  \n",
              "50%                     16.000000  \n",
              "75%                     18.000000  \n",
              "max                     20.000000  "
            ]
          },
          "execution_count": 249,
          "metadata": {},
          "output_type": "execute_result"
        }
      ],
      "source": [
        "leads_df.describe()"
      ]
    },
    {
      "cell_type": "code",
      "execution_count": null,
      "id": "5d4feda7",
      "metadata": {
        "id": "5d4feda7",
        "outputId": "e17b650b-0b8b-4dcb-c2d2-ee585b5e2b93"
      },
      "outputs": [
        {
          "data": {
            "text/plain": [
              "(9240, 37)"
            ]
          },
          "execution_count": 250,
          "metadata": {},
          "output_type": "execute_result"
        }
      ],
      "source": [
        "leads_df.shape"
      ]
    },
    {
      "cell_type": "code",
      "execution_count": null,
      "id": "a9aec243",
      "metadata": {
        "id": "a9aec243",
        "outputId": "6dd98e03-16f3-45a3-d560-fcff1ef400dc"
      },
      "outputs": [
        {
          "name": "stdout",
          "output_type": "stream",
          "text": [
            "<class 'pandas.core.frame.DataFrame'>\n",
            "RangeIndex: 9240 entries, 0 to 9239\n",
            "Data columns (total 37 columns):\n",
            " #   Column                                         Non-Null Count  Dtype  \n",
            "---  ------                                         --------------  -----  \n",
            " 0   Prospect ID                                    9240 non-null   object \n",
            " 1   Lead Number                                    9240 non-null   int64  \n",
            " 2   Lead Origin                                    9240 non-null   object \n",
            " 3   Lead Source                                    9204 non-null   object \n",
            " 4   Do Not Email                                   9240 non-null   object \n",
            " 5   Do Not Call                                    9240 non-null   object \n",
            " 6   Converted                                      9240 non-null   int64  \n",
            " 7   TotalVisits                                    9103 non-null   float64\n",
            " 8   Total Time Spent on Website                    9240 non-null   int64  \n",
            " 9   Page Views Per Visit                           9103 non-null   float64\n",
            " 10  Last Activity                                  9137 non-null   object \n",
            " 11  Country                                        6779 non-null   object \n",
            " 12  Specialization                                 7802 non-null   object \n",
            " 13  How did you hear about X Education             7033 non-null   object \n",
            " 14  What is your current occupation                6550 non-null   object \n",
            " 15  What matters most to you in choosing a course  6531 non-null   object \n",
            " 16  Search                                         9240 non-null   object \n",
            " 17  Magazine                                       9240 non-null   object \n",
            " 18  Newspaper Article                              9240 non-null   object \n",
            " 19  X Education Forums                             9240 non-null   object \n",
            " 20  Newspaper                                      9240 non-null   object \n",
            " 21  Digital Advertisement                          9240 non-null   object \n",
            " 22  Through Recommendations                        9240 non-null   object \n",
            " 23  Receive More Updates About Our Courses         9240 non-null   object \n",
            " 24  Tags                                           5887 non-null   object \n",
            " 25  Lead Quality                                   4473 non-null   object \n",
            " 26  Update me on Supply Chain Content              9240 non-null   object \n",
            " 27  Get updates on DM Content                      9240 non-null   object \n",
            " 28  Lead Profile                                   6531 non-null   object \n",
            " 29  City                                           7820 non-null   object \n",
            " 30  Asymmetrique Activity Index                    5022 non-null   object \n",
            " 31  Asymmetrique Profile Index                     5022 non-null   object \n",
            " 32  Asymmetrique Activity Score                    5022 non-null   float64\n",
            " 33  Asymmetrique Profile Score                     5022 non-null   float64\n",
            " 34  I agree to pay the amount through cheque       9240 non-null   object \n",
            " 35  A free copy of Mastering The Interview         9240 non-null   object \n",
            " 36  Last Notable Activity                          9240 non-null   object \n",
            "dtypes: float64(4), int64(3), object(30)\n",
            "memory usage: 2.6+ MB\n"
          ]
        }
      ],
      "source": [
        "leads_df.info()"
      ]
    },
    {
      "cell_type": "code",
      "execution_count": null,
      "id": "80c4be2e",
      "metadata": {
        "id": "80c4be2e",
        "outputId": "5bc82d41-524d-496d-e7de-45556c77f128"
      },
      "outputs": [
        {
          "data": {
            "text/plain": [
              "Prospect ID                                         0\n",
              "Lead Number                                         0\n",
              "Lead Origin                                         0\n",
              "Lead Source                                        36\n",
              "Do Not Email                                        0\n",
              "Do Not Call                                         0\n",
              "Converted                                           0\n",
              "TotalVisits                                       137\n",
              "Total Time Spent on Website                         0\n",
              "Page Views Per Visit                              137\n",
              "Last Activity                                     103\n",
              "Country                                          2461\n",
              "Specialization                                   1438\n",
              "How did you hear about X Education               2207\n",
              "What is your current occupation                  2690\n",
              "What matters most to you in choosing a course    2709\n",
              "Search                                              0\n",
              "Magazine                                            0\n",
              "Newspaper Article                                   0\n",
              "X Education Forums                                  0\n",
              "Newspaper                                           0\n",
              "Digital Advertisement                               0\n",
              "Through Recommendations                             0\n",
              "Receive More Updates About Our Courses              0\n",
              "Tags                                             3353\n",
              "Lead Quality                                     4767\n",
              "Update me on Supply Chain Content                   0\n",
              "Get updates on DM Content                           0\n",
              "Lead Profile                                     2709\n",
              "City                                             1420\n",
              "Asymmetrique Activity Index                      4218\n",
              "Asymmetrique Profile Index                       4218\n",
              "Asymmetrique Activity Score                      4218\n",
              "Asymmetrique Profile Score                       4218\n",
              "I agree to pay the amount through cheque            0\n",
              "A free copy of Mastering The Interview              0\n",
              "Last Notable Activity                               0\n",
              "dtype: int64"
            ]
          },
          "execution_count": 252,
          "metadata": {},
          "output_type": "execute_result"
        }
      ],
      "source": [
        "# Checking null values\n",
        "\n",
        "leads_df.isnull().sum()"
      ]
    },
    {
      "cell_type": "code",
      "execution_count": null,
      "id": "041b04ea",
      "metadata": {
        "id": "041b04ea",
        "outputId": "9a0eef4d-b5fc-4ec7-c191-23fb675b92bf"
      },
      "outputs": [
        {
          "name": "stdout",
          "output_type": "stream",
          "text": [
            "0\n",
            "0\n"
          ]
        }
      ],
      "source": [
        "# checking duplicate values \n",
        "print(leads_df.duplicated(subset = ['Prospect ID'], keep = False).sum())\n",
        "print(leads_df.duplicated(subset = ['Lead Number'], keep = False).sum())\n"
      ]
    },
    {
      "cell_type": "markdown",
      "id": "195055de",
      "metadata": {
        "id": "195055de"
      },
      "source": [
        "No duplicate values present in the columns 'Prospect ID' and 'Lead Number'\n",
        "This shows that Prospect ID & Lead Number are two variables that are just indicative of ID number of people and can be dropped from dataframe."
      ]
    },
    {
      "cell_type": "markdown",
      "id": "2ab10a9e",
      "metadata": {
        "id": "2ab10a9e"
      },
      "source": [
        "## EXPLORATORY DATA ANALYSIS"
      ]
    },
    {
      "cell_type": "markdown",
      "id": "b81b2726",
      "metadata": {
        "id": "b81b2726"
      },
      "source": [
        "### Data Cleaning & Treatment:"
      ]
    },
    {
      "cell_type": "code",
      "execution_count": null,
      "id": "f1b6e883",
      "metadata": {
        "id": "f1b6e883"
      },
      "outputs": [],
      "source": [
        "# Drop Lead Number and Prospect ID, since they both have only unique values\n",
        "\n",
        "leads_df.drop(['Prospect ID', 'Lead Number'], 1, inplace = True)"
      ]
    },
    {
      "cell_type": "code",
      "execution_count": null,
      "id": "3afcb5bb",
      "metadata": {
        "id": "3afcb5bb"
      },
      "outputs": [],
      "source": [
        "# Converting 'Select' values to NaN\n",
        "\n",
        "leads_df = leads_df.replace('Select', np.nan)"
      ]
    },
    {
      "cell_type": "code",
      "execution_count": null,
      "id": "02e65897",
      "metadata": {
        "id": "02e65897",
        "outputId": "5bc74979-ab88-419c-ec9b-80dd72a8cdde"
      },
      "outputs": [
        {
          "data": {
            "text/plain": [
              "Lead Origin                                         5\n",
              "Lead Source                                        21\n",
              "Do Not Email                                        2\n",
              "Do Not Call                                         2\n",
              "Converted                                           2\n",
              "TotalVisits                                        41\n",
              "Total Time Spent on Website                      1731\n",
              "Page Views Per Visit                              114\n",
              "Last Activity                                      17\n",
              "Country                                            38\n",
              "Specialization                                     18\n",
              "How did you hear about X Education                  9\n",
              "What is your current occupation                     6\n",
              "What matters most to you in choosing a course       3\n",
              "Search                                              2\n",
              "Magazine                                            1\n",
              "Newspaper Article                                   2\n",
              "X Education Forums                                  2\n",
              "Newspaper                                           2\n",
              "Digital Advertisement                               2\n",
              "Through Recommendations                             2\n",
              "Receive More Updates About Our Courses              1\n",
              "Tags                                               26\n",
              "Lead Quality                                        5\n",
              "Update me on Supply Chain Content                   1\n",
              "Get updates on DM Content                           1\n",
              "Lead Profile                                        5\n",
              "City                                                6\n",
              "Asymmetrique Activity Index                         3\n",
              "Asymmetrique Profile Index                          3\n",
              "Asymmetrique Activity Score                        12\n",
              "Asymmetrique Profile Score                         10\n",
              "I agree to pay the amount through cheque            1\n",
              "A free copy of Mastering The Interview              2\n",
              "Last Notable Activity                              16\n",
              "dtype: int64"
            ]
          },
          "execution_count": 256,
          "metadata": {},
          "output_type": "execute_result"
        }
      ],
      "source": [
        "leads_df.nunique()"
      ]
    },
    {
      "cell_type": "code",
      "execution_count": null,
      "id": "b66f5e32",
      "metadata": {
        "id": "b66f5e32"
      },
      "outputs": [],
      "source": [
        "# Drop columns with only single value\n",
        "leads_df= leads_df.drop(['Magazine','Receive More Updates About Our Courses','I agree to pay the amount through cheque','Get updates on DM Content','Update me on Supply Chain Content'],axis=1)"
      ]
    },
    {
      "cell_type": "code",
      "execution_count": null,
      "id": "8e8f0138",
      "metadata": {
        "id": "8e8f0138",
        "outputId": "6a0a1ad8-6332-411c-d840-3b4f4658448a"
      },
      "outputs": [
        {
          "data": {
            "text/plain": [
              "Lead Origin                                       0.000000\n",
              "Lead Source                                       0.389610\n",
              "Do Not Email                                      0.000000\n",
              "Do Not Call                                       0.000000\n",
              "Converted                                         0.000000\n",
              "TotalVisits                                       1.482684\n",
              "Total Time Spent on Website                       0.000000\n",
              "Page Views Per Visit                              1.482684\n",
              "Last Activity                                     1.114719\n",
              "Country                                          26.634199\n",
              "Specialization                                   36.580087\n",
              "How did you hear about X Education               78.463203\n",
              "What is your current occupation                  29.112554\n",
              "What matters most to you in choosing a course    29.318182\n",
              "Search                                            0.000000\n",
              "Newspaper Article                                 0.000000\n",
              "X Education Forums                                0.000000\n",
              "Newspaper                                         0.000000\n",
              "Digital Advertisement                             0.000000\n",
              "Through Recommendations                           0.000000\n",
              "Tags                                             36.287879\n",
              "Lead Quality                                     51.590909\n",
              "Lead Profile                                     74.188312\n",
              "City                                             39.707792\n",
              "Asymmetrique Activity Index                      45.649351\n",
              "Asymmetrique Profile Index                       45.649351\n",
              "Asymmetrique Activity Score                      45.649351\n",
              "Asymmetrique Profile Score                       45.649351\n",
              "A free copy of Mastering The Interview            0.000000\n",
              "Last Notable Activity                             0.000000\n",
              "dtype: float64"
            ]
          },
          "execution_count": 258,
          "metadata": {},
          "output_type": "execute_result"
        }
      ],
      "source": [
        "# Checking for null values in % form\n",
        "\n",
        "100*leads_df.isnull().sum()/len(leads_df)"
      ]
    },
    {
      "cell_type": "code",
      "execution_count": null,
      "id": "2f0e9516",
      "metadata": {
        "id": "2f0e9516"
      },
      "outputs": [],
      "source": [
        "# Drop columns with more than 40% missing values\n",
        "\n",
        "leads_df = leads_df.drop(['Asymmetrique Profile Score', 'Asymmetrique Activity Score', 'Asymmetrique Profile Index', 'Asymmetrique Activity Index', 'Lead Profile', 'Lead Quality', 'How did you hear about X Education'], axis=1)"
      ]
    },
    {
      "cell_type": "code",
      "execution_count": null,
      "id": "afde0939",
      "metadata": {
        "id": "afde0939",
        "outputId": "a75cfa88-0b40-4052-8216-39efa7bb5ff4"
      },
      "outputs": [
        {
          "data": {
            "text/plain": [
              "Lead Origin                                       0.000000\n",
              "Lead Source                                       0.389610\n",
              "Do Not Email                                      0.000000\n",
              "Do Not Call                                       0.000000\n",
              "Converted                                         0.000000\n",
              "TotalVisits                                       1.482684\n",
              "Total Time Spent on Website                       0.000000\n",
              "Page Views Per Visit                              1.482684\n",
              "Last Activity                                     1.114719\n",
              "Country                                          26.634199\n",
              "Specialization                                   36.580087\n",
              "What is your current occupation                  29.112554\n",
              "What matters most to you in choosing a course    29.318182\n",
              "Search                                            0.000000\n",
              "Newspaper Article                                 0.000000\n",
              "X Education Forums                                0.000000\n",
              "Newspaper                                         0.000000\n",
              "Digital Advertisement                             0.000000\n",
              "Through Recommendations                           0.000000\n",
              "Tags                                             36.287879\n",
              "City                                             39.707792\n",
              "A free copy of Mastering The Interview            0.000000\n",
              "Last Notable Activity                             0.000000\n",
              "dtype: float64"
            ]
          },
          "execution_count": 260,
          "metadata": {},
          "output_type": "execute_result"
        }
      ],
      "source": [
        "# Check the percentage of null values\n",
        "\n",
        "100*leads_df.isna().sum()/len(leads_df)"
      ]
    },
    {
      "cell_type": "code",
      "execution_count": null,
      "id": "88a17647",
      "metadata": {
        "id": "88a17647"
      },
      "outputs": [],
      "source": [
        "# Replace the NaN values with 'not_provided'\n",
        "\n",
        "leads_df['City'] = leads_df['City'].fillna('not_provided')\n",
        "leads_df['Tags'] = leads_df['Tags'].fillna('not_provided')\n",
        "leads_df['Country'] = leads_df['Country'].fillna('not_provided')\n",
        "leads_df['Specialization'] = leads_df['Specialization'].fillna('not_provided')\n",
        "leads_df['What is your current occupation'] = leads_df['What is your current occupation'].fillna('not_provided')\n",
        "leads_df['What matters most to you in choosing a course'] = leads_df['What matters most to you in choosing a course'].fillna('not_provided')"
      ]
    },
    {
      "cell_type": "code",
      "execution_count": null,
      "id": "67ea41a7",
      "metadata": {
        "id": "67ea41a7",
        "outputId": "a9af5dc8-f312-436f-8561-26646c65d0da"
      },
      "outputs": [
        {
          "name": "stdout",
          "output_type": "stream",
          "text": [
            "<class 'pandas.core.frame.DataFrame'>\n",
            "RangeIndex: 9240 entries, 0 to 9239\n",
            "Data columns (total 23 columns):\n",
            " #   Column                                         Non-Null Count  Dtype  \n",
            "---  ------                                         --------------  -----  \n",
            " 0   Lead Origin                                    9240 non-null   object \n",
            " 1   Lead Source                                    9204 non-null   object \n",
            " 2   Do Not Email                                   9240 non-null   object \n",
            " 3   Do Not Call                                    9240 non-null   object \n",
            " 4   Converted                                      9240 non-null   int64  \n",
            " 5   TotalVisits                                    9103 non-null   float64\n",
            " 6   Total Time Spent on Website                    9240 non-null   int64  \n",
            " 7   Page Views Per Visit                           9103 non-null   float64\n",
            " 8   Last Activity                                  9137 non-null   object \n",
            " 9   Country                                        9240 non-null   object \n",
            " 10  Specialization                                 9240 non-null   object \n",
            " 11  What is your current occupation                9240 non-null   object \n",
            " 12  What matters most to you in choosing a course  9240 non-null   object \n",
            " 13  Search                                         9240 non-null   object \n",
            " 14  Newspaper Article                              9240 non-null   object \n",
            " 15  X Education Forums                             9240 non-null   object \n",
            " 16  Newspaper                                      9240 non-null   object \n",
            " 17  Digital Advertisement                          9240 non-null   object \n",
            " 18  Through Recommendations                        9240 non-null   object \n",
            " 19  Tags                                           9240 non-null   object \n",
            " 20  City                                           9240 non-null   object \n",
            " 21  A free copy of Mastering The Interview         9240 non-null   object \n",
            " 22  Last Notable Activity                          9240 non-null   object \n",
            "dtypes: float64(2), int64(2), object(19)\n",
            "memory usage: 1.6+ MB\n"
          ]
        }
      ],
      "source": [
        "leads_df.info()"
      ]
    },
    {
      "cell_type": "code",
      "execution_count": null,
      "id": "5a441714",
      "metadata": {
        "id": "5a441714",
        "outputId": "91555d08-b22a-44e8-f79d-3e994ceee57f"
      },
      "outputs": [
        {
          "data": {
            "text/plain": [
              "Lead Origin                                      0.00\n",
              "Lead Source                                      0.39\n",
              "Do Not Email                                     0.00\n",
              "Do Not Call                                      0.00\n",
              "Converted                                        0.00\n",
              "TotalVisits                                      1.48\n",
              "Total Time Spent on Website                      0.00\n",
              "Page Views Per Visit                             1.48\n",
              "Last Activity                                    1.11\n",
              "Country                                          0.00\n",
              "Specialization                                   0.00\n",
              "What is your current occupation                  0.00\n",
              "What matters most to you in choosing a course    0.00\n",
              "Search                                           0.00\n",
              "Newspaper Article                                0.00\n",
              "X Education Forums                               0.00\n",
              "Newspaper                                        0.00\n",
              "Digital Advertisement                            0.00\n",
              "Through Recommendations                          0.00\n",
              "Tags                                             0.00\n",
              "City                                             0.00\n",
              "A free copy of Mastering The Interview           0.00\n",
              "Last Notable Activity                            0.00\n",
              "dtype: float64"
            ]
          },
          "execution_count": 263,
          "metadata": {},
          "output_type": "execute_result"
        }
      ],
      "source": [
        "# checking the percentage of null values again:\n",
        "round(100*leads_df.isna().sum()/len(leads_df),2)"
      ]
    },
    {
      "cell_type": "markdown",
      "id": "20dc6725",
      "metadata": {
        "id": "20dc6725"
      },
      "source": [
        "### Categorical Data Analysis:"
      ]
    },
    {
      "cell_type": "code",
      "execution_count": null,
      "id": "9bc604e6",
      "metadata": {
        "id": "9bc604e6",
        "outputId": "93d825ac-bcef-405c-f2f9-6a06b347ca0d"
      },
      "outputs": [
        {
          "data": {
            "text/plain": [
              "India                   6492\n",
              "not_provided            2461\n",
              "United States             69\n",
              "United Arab Emirates      53\n",
              "Singapore                 24\n",
              "Saudi Arabia              21\n",
              "United Kingdom            15\n",
              "Australia                 13\n",
              "Qatar                     10\n",
              "Bahrain                    7\n",
              "Hong Kong                  7\n",
              "Oman                       6\n",
              "France                     6\n",
              "unknown                    5\n",
              "Kuwait                     4\n",
              "South Africa               4\n",
              "Canada                     4\n",
              "Nigeria                    4\n",
              "Germany                    4\n",
              "Sweden                     3\n",
              "Philippines                2\n",
              "Uganda                     2\n",
              "Italy                      2\n",
              "Bangladesh                 2\n",
              "Netherlands                2\n",
              "Asia/Pacific Region        2\n",
              "China                      2\n",
              "Belgium                    2\n",
              "Ghana                      2\n",
              "Kenya                      1\n",
              "Sri Lanka                  1\n",
              "Tanzania                   1\n",
              "Malaysia                   1\n",
              "Liberia                    1\n",
              "Switzerland                1\n",
              "Denmark                    1\n",
              "Russia                     1\n",
              "Vietnam                    1\n",
              "Indonesia                  1\n",
              "Name: Country, dtype: int64"
            ]
          },
          "execution_count": 264,
          "metadata": {},
          "output_type": "execute_result"
        }
      ],
      "source": [
        "leads_df['Country'].value_counts()"
      ]
    },
    {
      "cell_type": "code",
      "execution_count": null,
      "id": "b7b7f646",
      "metadata": {
        "id": "b7b7f646"
      },
      "outputs": [],
      "source": [
        "def slots(x):\n",
        "    bloc = \"\"\n",
        "    if x == 'India':\n",
        "        bloc = 'India'\n",
        "    elif x == 'not_provided':\n",
        "        bloc = 'not_provided'\n",
        "    else:\n",
        "        bloc = 'Outside India'\n",
        "    return bloc\n",
        "\n"
      ]
    },
    {
      "cell_type": "code",
      "execution_count": null,
      "id": "fd133d45",
      "metadata": {
        "id": "fd133d45",
        "outputId": "b5fd1282-de93-4c6d-c892-ac369cf47827"
      },
      "outputs": [
        {
          "data": {
            "text/plain": [
              "India            6492\n",
              "not_provided     2461\n",
              "Outside India     287\n",
              "Name: Country, dtype: int64"
            ]
          },
          "execution_count": 266,
          "metadata": {},
          "output_type": "execute_result"
        }
      ],
      "source": [
        "leads_df['Country'] = leads_df.apply(lambda x: slots(x['Country']), axis=1)\n",
        "leads_df.Country.value_counts()"
      ]
    },
    {
      "cell_type": "code",
      "execution_count": null,
      "id": "3d543be2",
      "metadata": {
        "id": "3d543be2",
        "outputId": "29675a30-743e-4536-a9dc-3bd02de020f3"
      },
      "outputs": [
        {
          "data": {
            "text/plain": [
              "India            8953\n",
              "Outside India     287\n",
              "Name: Country, dtype: int64"
            ]
          },
          "execution_count": 267,
          "metadata": {},
          "output_type": "execute_result"
        }
      ],
      "source": [
        "# Since around 70% values of Country column is 'India'\n",
        "# so we are replacing the 'not_provided' value with 'India'\n",
        "\n",
        "leads_df.Country = leads_df.Country.replace('not_provided', 'India')\n",
        "leads_df.Country.value_counts()"
      ]
    },
    {
      "cell_type": "code",
      "execution_count": null,
      "id": "421c0004",
      "metadata": {
        "id": "421c0004",
        "outputId": "e4c3fd9f-46af-4c7d-a8a1-825f31c07880"
      },
      "outputs": [
        {
          "data": {
            "text/plain": [
              "1.48"
            ]
          },
          "execution_count": 268,
          "metadata": {},
          "output_type": "execute_result"
        }
      ],
      "source": [
        "# Check the percent of lose if the null values are removed\n",
        "round(100*(sum(leads_df.isnull().sum(axis=1) > 1)/leads_df.shape[0]),2)"
      ]
    },
    {
      "cell_type": "code",
      "execution_count": null,
      "id": "ea4991df",
      "metadata": {
        "id": "ea4991df"
      },
      "outputs": [],
      "source": [
        "leads_df = leads_df[leads_df.isnull().sum(axis=1) <1]"
      ]
    },
    {
      "cell_type": "code",
      "execution_count": null,
      "id": "3c69e52c",
      "metadata": {
        "id": "3c69e52c",
        "outputId": "70212cba-3278-4e23-afea-41e0c59b1067"
      },
      "outputs": [
        {
          "data": {
            "text/plain": [
              "Lead Origin                                      0.0\n",
              "Lead Source                                      0.0\n",
              "Do Not Email                                     0.0\n",
              "Do Not Call                                      0.0\n",
              "Converted                                        0.0\n",
              "TotalVisits                                      0.0\n",
              "Total Time Spent on Website                      0.0\n",
              "Page Views Per Visit                             0.0\n",
              "Last Activity                                    0.0\n",
              "Country                                          0.0\n",
              "Specialization                                   0.0\n",
              "What is your current occupation                  0.0\n",
              "What matters most to you in choosing a course    0.0\n",
              "Search                                           0.0\n",
              "Newspaper Article                                0.0\n",
              "X Education Forums                               0.0\n",
              "Newspaper                                        0.0\n",
              "Digital Advertisement                            0.0\n",
              "Through Recommendations                          0.0\n",
              "Tags                                             0.0\n",
              "City                                             0.0\n",
              "A free copy of Mastering The Interview           0.0\n",
              "Last Notable Activity                            0.0\n",
              "dtype: float64"
            ]
          },
          "execution_count": 270,
          "metadata": {},
          "output_type": "execute_result"
        }
      ],
      "source": [
        "# Re-checking the percentage of missing values\n",
        "round(100*(leads_df.isnull().sum()/len(leads_df.index)), 2)"
      ]
    },
    {
      "cell_type": "code",
      "execution_count": null,
      "id": "16115a11",
      "metadata": {
        "id": "16115a11",
        "outputId": "72cfe0fc-2d44-4832-8f48-e4a8486e4841"
      },
      "outputs": [
        {
          "data": {
            "text/plain": [
              "(9074, 23)"
            ]
          },
          "execution_count": 271,
          "metadata": {},
          "output_type": "execute_result"
        }
      ],
      "source": [
        "leads_df.shape"
      ]
    },
    {
      "cell_type": "code",
      "execution_count": null,
      "id": "73a18ded",
      "metadata": {
        "id": "73a18ded",
        "outputId": "159df9d1-e243-40ac-9e1f-8ec31844fdcc"
      },
      "outputs": [
        {
          "data": {
            "image/png": "[encoded data removed]",
            "text/plain": [
              "<Figure size 1008x432 with 1 Axes>"
            ]
          },
          "metadata": {
            "needs_background": "light"
          },
          "output_type": "display_data"
        }
      ],
      "source": [
        "# Country Column: spread plot\n",
        "\n",
        "plt.figure(figsize=(14,6))\n",
        "p1=sns.countplot(leads_df.Country, hue=leads_df.Converted, palette='mako')\n",
        "p1.set_xticklabels(p1.get_xticklabels(),rotation=90)\n",
        "plt.show()"
      ]
    },
    {
      "cell_type": "code",
      "execution_count": null,
      "id": "9fb0d64d",
      "metadata": {
        "id": "9fb0d64d"
      },
      "outputs": [],
      "source": [
        "## We can see the Number of Values for India are quite high (nearly 97% of the Data),\n",
        "# so this column ('Country') can be dropped\n",
        "# Making a list of the columns that can be dropped\n",
        "cols_to_drop=['Country']"
      ]
    },
    {
      "cell_type": "code",
      "execution_count": null,
      "id": "aca8f1e6",
      "metadata": {
        "id": "aca8f1e6",
        "outputId": "eac0ce21-6737-40ae-dd34-e6d005b59ed8"
      },
      "outputs": [
        {
          "data": {
            "text/plain": [
              "not_provided                   3575\n",
              "Mumbai                         3177\n",
              "Thane & Outskirts               745\n",
              "Other Cities                    680\n",
              "Other Cities of Maharashtra     446\n",
              "Other Metro Cities              377\n",
              "Tier II Cities                   74\n",
              "Name: City, dtype: int64"
            ]
          },
          "execution_count": 274,
          "metadata": {},
          "output_type": "execute_result"
        }
      ],
      "source": [
        "# Value counts check of \"City\" column\n",
        "\n",
        "leads_df['City'].value_counts(dropna=False)"
      ]
    },
    {
      "cell_type": "code",
      "execution_count": null,
      "id": "917c2403",
      "metadata": {
        "id": "917c2403",
        "outputId": "50054665-7cb6-4f1a-f943-f1c9b16f6eb7"
      },
      "outputs": [
        {
          "data": {
            "image/png": "[encoded data removed]",
            "text/plain": [
              "<Figure size 792x432 with 1 Axes>"
            ]
          },
          "metadata": {
            "needs_background": "light"
          },
          "output_type": "display_data"
        }
      ],
      "source": [
        "# Spread of 'City' columnn:\n",
        "\n",
        "plt.figure(figsize=(11,6))\n",
        "p1=sns.countplot(leads_df.City, hue=leads_df.Converted, palette='mako')\n",
        "p1.set_xticklabels(p1.get_xticklabels(),rotation=90)\n",
        "plt.show()"
      ]
    },
    {
      "cell_type": "code",
      "execution_count": null,
      "id": "6cefae4b",
      "metadata": {
        "id": "6cefae4b",
        "outputId": "b44205bb-e4dc-4d3d-decb-ff3d8e37e13b"
      },
      "outputs": [
        {
          "data": {
            "image/png": "[encoded data removed]",
            "text/plain": [
              "<Figure size 1800x3240 with 10 Axes>"
            ]
          },
          "metadata": {
            "needs_background": "light"
          },
          "output_type": "display_data"
        }
      ],
      "source": [
        "plt.figure(figsize = (25,45))\n",
        "\n",
        "plt.subplot(7,3,1)\n",
        "sns.countplot(leads_df['Lead Origin'])\n",
        "plt.title('Lead Origin')\n",
        "\n",
        "plt.subplot(7,3,2)\n",
        "sns.countplot(leads_df['Do Not Email'])\n",
        "plt.title('Do Not Email')\n",
        "\n",
        "plt.subplot(7,3,3)\n",
        "sns.countplot(leads_df['Do Not Call'])\n",
        "plt.title('Do Not Call')\n",
        "\n",
        "plt.subplot(7,3,4)\n",
        "sns.countplot(leads_df['Country'])\n",
        "plt.title('Country')\n",
        "\n",
        "plt.subplot(7,3,5)\n",
        "sns.countplot(leads_df['Search'])\n",
        "plt.title('Search')\n",
        "\n",
        "plt.subplot(7,3,6)\n",
        "sns.countplot(leads_df['X Education Forums'])\n",
        "plt.title('X Education Forums')\n",
        "\n",
        "plt.subplot(7,3,7)\n",
        "sns.countplot(leads_df['Newspaper'])\n",
        "plt.title('Newspaper')\n",
        "\n",
        "plt.subplot(7,3,8)\n",
        "sns.countplot(leads_df['Digital Advertisement'])\n",
        "plt.title('Digital Advertisement')\n",
        "\n",
        "plt.subplot(7,3,9)\n",
        "sns.countplot(leads_df['Through Recommendations'])\n",
        "plt.title('Through Recommendations')\n",
        "\n",
        "\n",
        "plt.subplot(7,3,10)\n",
        "sns.countplot(leads_df['Last Notable Activity']).tick_params(axis='x', rotation = 90)\n",
        "plt.title('Last Notable Activity')\n",
        "\n",
        "\n",
        "plt.show()"
      ]
    },
    {
      "cell_type": "code",
      "execution_count": null,
      "id": "6e1ae92c",
      "metadata": {
        "id": "6e1ae92c",
        "outputId": "2ef7641d-221e-4212-b1af-b5333ff2f4e9"
      },
      "outputs": [
        {
          "data": {
            "image/png": "[encoded data removed]",
            "text/plain": [
              "<Figure size 432x288 with 1 Axes>"
            ]
          },
          "metadata": {
            "needs_background": "light"
          },
          "output_type": "display_data"
        }
      ],
      "source": [
        "sns.countplot(leads_df['Lead Source']).tick_params(axis='x', rotation = 90)\n",
        "plt.title('Sources of leads')\n",
        "plt.show()"
      ]
    },
    {
      "cell_type": "code",
      "execution_count": null,
      "id": "13ce37c6",
      "metadata": {
        "id": "13ce37c6",
        "outputId": "c1f7b263-016b-4720-ef90-aa6eaabc1119"
      },
      "outputs": [
        {
          "data": {
            "image/png": "[encoded data removed]",
            "text/plain": [
              "<Figure size 1512x2232 with 4 Axes>"
            ]
          },
          "metadata": {
            "needs_background": "light"
          },
          "output_type": "display_data"
        }
      ],
      "source": [
        "plt.figure(figsize = (21,31))\n",
        "\n",
        "plt.subplot(2,2,1)\n",
        "sns.countplot(leads_df['Specialization']).tick_params(axis='x', rotation = 90)\n",
        "plt.title('Specialization')\n",
        "\n",
        "plt.subplot(2,2,2)\n",
        "sns.countplot(leads_df['What is your current occupation']).tick_params(axis='x', rotation = 90)\n",
        "plt.title('Current Occupation')\n",
        "\n",
        "plt.subplot(2,2,3)\n",
        "sns.countplot(leads_df['What matters most to you in choosing a course']).tick_params(axis='x', rotation = 90)\n",
        "plt.title('What matters most to you in choosing a course')\n",
        "\n",
        "plt.subplot(2,2,4)\n",
        "sns.countplot(leads_df['Last Activity']).tick_params(axis='x', rotation = 90)\n",
        "plt.title('Last Activity')\n",
        "plt.show()"
      ]
    },
    {
      "cell_type": "code",
      "execution_count": null,
      "id": "e38570f1",
      "metadata": {
        "id": "e38570f1",
        "outputId": "3bca6eba-7d0f-4f88-981e-5efa4c289093"
      },
      "outputs": [
        {
          "data": {
            "image/png": "[encoded data removed]",
            "text/plain": [
              "<Figure size 432x288 with 1 Axes>"
            ]
          },
          "metadata": {
            "needs_background": "light"
          },
          "output_type": "display_data"
        }
      ],
      "source": [
        "sns.countplot(leads_df['Converted'], palette='mako')\n",
        "plt.title('Converted(\"Y variable\")')\n",
        "plt.show()"
      ]
    },
    {
      "cell_type": "markdown",
      "id": "b8cc872f",
      "metadata": {
        "id": "b8cc872f"
      },
      "source": [
        "### Numerical Variables Analysis"
      ]
    },
    {
      "cell_type": "code",
      "execution_count": null,
      "id": "3023309d",
      "metadata": {
        "id": "3023309d",
        "outputId": "e6cb3d95-e75e-49a8-c139-56dd701438c9"
      },
      "outputs": [
        {
          "data": {
            "image/png": "[encoded data removed]",
            "text/plain": [
              "<Figure size 1080x1080 with 3 Axes>"
            ]
          },
          "metadata": {
            "needs_background": "light"
          },
          "output_type": "display_data"
        }
      ],
      "source": [
        "plt.figure(figsize = (15,15))\n",
        "plt.subplot(221)\n",
        "plt.hist(leads_df['TotalVisits'], bins = 200)\n",
        "plt.title('Total Visits')\n",
        "plt.xlim(0,30)\n",
        "\n",
        "plt.subplot(222)\n",
        "plt.hist(leads_df['Total Time Spent on Website'], bins = 10)\n",
        "plt.title('Total Time Spent on Website')\n",
        "\n",
        "plt.subplot(223)\n",
        "plt.hist(leads_df['Page Views Per Visit'], bins = 20)\n",
        "plt.title('Page Views Per Visit')\n",
        "plt.xlim(0,25)\n",
        "plt.show( )"
      ]
    },
    {
      "cell_type": "markdown",
      "id": "864b3947",
      "metadata": {
        "id": "864b3947"
      },
      "source": [
        "## Relation of the categorical variables with convert"
      ]
    },
    {
      "cell_type": "code",
      "execution_count": null,
      "id": "b90c6f70",
      "metadata": {
        "id": "b90c6f70",
        "outputId": "0bff5cc2-1e8f-4f69-f84e-a2ef91d16f7b"
      },
      "outputs": [
        {
          "data": {
            "image/png": "[encoded data removed]",
            "text/plain": [
              "<Figure size 720x720 with 2 Axes>"
            ]
          },
          "metadata": {
            "needs_background": "light"
          },
          "output_type": "display_data"
        }
      ],
      "source": [
        "plt.figure(figsize = (10,10))\n",
        "\n",
        "plt.subplot(2,2,1)\n",
        "sns.countplot(x='Lead Origin', hue='Converted', data= leads_df, palette='mako').tick_params(axis='x', rotation = 90)\n",
        "plt.title('Lead Origin')\n",
        "\n",
        "plt.subplot(2,2,2)\n",
        "sns.countplot(x='Lead Source', hue='Converted', data= leads_df, palette='mako').tick_params(axis='x', rotation = 90)\n",
        "plt.title('Lead Source')\n",
        "plt.show()\n",
        "\n"
      ]
    },
    {
      "cell_type": "code",
      "execution_count": null,
      "id": "c46a023c",
      "metadata": {
        "id": "c46a023c",
        "outputId": "0156cc79-578c-48cb-b37c-d907878169f2"
      },
      "outputs": [
        {
          "data": {
            "image/png": "[encoded data removed]",
            "text/plain": [
              "<Figure size 864x432 with 2 Axes>"
            ]
          },
          "metadata": {
            "needs_background": "light"
          },
          "output_type": "display_data"
        }
      ],
      "source": [
        "plt.figure(figsize=(12 ,6))\n",
        "plt.subplot(1,2,1)\n",
        "sns.countplot(x='Do Not Email', hue='Converted', data= leads_df, palette='mako').tick_params(axis='x', rotation = 90)\n",
        "plt.title('Do Not Email')\n",
        "\n",
        "plt.subplot(1,2,2)\n",
        "sns.countplot(x='Do Not Call', hue='Converted', data= leads_df, palette='mako').tick_params(axis='x', rotation = 90)\n",
        "plt.title('Do Not Call')\n",
        "plt.show()"
      ]
    },
    {
      "cell_type": "code",
      "execution_count": null,
      "id": "cb1b6c68",
      "metadata": {
        "id": "cb1b6c68",
        "outputId": "99fb82b3-7e4a-4321-f8e6-3297665c5d16"
      },
      "outputs": [
        {
          "data": {
            "image/png": "[encoded data removed]",
            "text/plain": [
              "<Figure size 864x432 with 2 Axes>"
            ]
          },
          "metadata": {
            "needs_background": "light"
          },
          "output_type": "display_data"
        }
      ],
      "source": [
        "plt.figure(figsize = (12,6))\n",
        "\n",
        "plt.subplot(1,2,1)\n",
        "sns.countplot(x='Last Activity', hue='Converted', data= leads_df, palette='mako').tick_params(axis='x', rotation = 90)\n",
        "plt.title('Last Activity')\n",
        "\n",
        "plt.subplot(1,2,2)\n",
        "sns.countplot(x='Country', hue='Converted', data= leads_df, palette='mako').tick_params(axis='x', rotation = 90)\n",
        "plt.title('Country')\n",
        "plt.show()"
      ]
    },
    {
      "cell_type": "code",
      "execution_count": null,
      "id": "7f7c2d23",
      "metadata": {
        "id": "7f7c2d23",
        "outputId": "65919c27-be07-453f-d2c5-cf756d5c76b1"
      },
      "outputs": [
        {
          "data": {
            "image/png": "[encoded data removed]",
            "text/plain": [
              "<Figure size 864x432 with 2 Axes>"
            ]
          },
          "metadata": {
            "needs_background": "light"
          },
          "output_type": "display_data"
        }
      ],
      "source": [
        "plt.figure(figsize = (12,6))\n",
        "\n",
        "plt.subplot(1,2,1)\n",
        "sns.countplot(x='Specialization', hue='Converted', data= leads_df, palette='mako').tick_params(axis='x', rotation = 90)\n",
        "plt.title('Specialization')\n",
        "\n",
        "plt.subplot(1,2,2)\n",
        "sns.countplot(x='What is your current occupation', hue='Converted', data= leads_df, palette='mako').tick_params(axis='x', rotation = 90)\n",
        "plt.title('What is your current occupation')\n",
        "plt.show()"
      ]
    },
    {
      "cell_type": "code",
      "execution_count": null,
      "id": "68d81dbe",
      "metadata": {
        "id": "68d81dbe",
        "outputId": "cdf1a997-2295-44a2-b47a-2755d86eba49"
      },
      "outputs": [
        {
          "data": {
            "image/png": "[encoded data removed]",
            "text/plain": [
              "<Figure size 864x432 with 2 Axes>"
            ]
          },
          "metadata": {
            "needs_background": "light"
          },
          "output_type": "display_data"
        }
      ],
      "source": [
        "plt.figure(figsize = (12,6))\n",
        "\n",
        "plt.subplot(1,2,1)\n",
        "sns.countplot(x='What matters most to you in choosing a course', hue='Converted', data= leads_df, palette='mako').tick_params(axis='x', rotation = 90)\n",
        "plt.title('What matters most to you in choosing a course')\n",
        "\n",
        "plt.subplot(1,2,2)\n",
        "sns.countplot(x='Search', hue='Converted', data= leads_df, palette='mako').tick_params(axis='x', rotation = 90)\n",
        "plt.title('Search')\n",
        "plt.show()"
      ]
    },
    {
      "cell_type": "code",
      "execution_count": null,
      "id": "43c96e7d",
      "metadata": {
        "id": "43c96e7d",
        "outputId": "2fa0321e-a21a-468b-a471-8b0609e08b13"
      },
      "outputs": [
        {
          "data": {
            "image/png": "[encoded data removed]",
            "text/plain": [
              "<Figure size 864x432 with 2 Axes>"
            ]
          },
          "metadata": {
            "needs_background": "light"
          },
          "output_type": "display_data"
        }
      ],
      "source": [
        "plt.figure(figsize = (12,6))\n",
        "\n",
        "plt.subplot(1,2,1)\n",
        "sns.countplot(x='Newspaper Article', hue='Converted', data= leads_df, palette='mako').tick_params(axis='x', rotation = 90)\n",
        "plt.title('Newspaper Article')\n",
        "\n",
        "plt.subplot(1,2,2)\n",
        "sns.countplot(x='X Education Forums', hue='Converted', data= leads_df, palette='mako').tick_params(axis='x', rotation = 90)\n",
        "plt.title('X Education Forums')\n",
        "plt.show()"
      ]
    },
    {
      "cell_type": "code",
      "execution_count": null,
      "id": "785d3fae",
      "metadata": {
        "id": "785d3fae",
        "outputId": "5aff35d2-8f45-41dc-e72a-effd92e43138"
      },
      "outputs": [
        {
          "data": {
            "image/png": "[encoded data removed]",
            "text/plain": [
              "<Figure size 864x432 with 2 Axes>"
            ]
          },
          "metadata": {
            "needs_background": "light"
          },
          "output_type": "display_data"
        }
      ],
      "source": [
        "plt.figure(figsize = (12,6))\n",
        "\n",
        "plt.subplot(1,2,1)\n",
        "sns.countplot(x='Through Recommendations', hue='Converted', data= leads_df, palette='mako').tick_params(axis='x', rotation = 90)\n",
        "plt.title('Through Recommendations')\n",
        "\n",
        "plt.subplot(1,2,2)\n",
        "sns.countplot(x='A free copy of Mastering The Interview', hue='Converted', data= leads_df, palette='mako').tick_params(axis='x', rotation = 90)\n",
        "plt.title('A free copy of Mastering The Interview')\n",
        "plt.show()"
      ]
    },
    {
      "cell_type": "code",
      "execution_count": null,
      "id": "996a86fe",
      "metadata": {
        "id": "996a86fe",
        "outputId": "fe60cde1-8105-4ac2-d321-e2a3b243e764"
      },
      "outputs": [
        {
          "data": {
            "image/png": "[encoded data removed]",
            "text/plain": [
              "<Figure size 432x288 with 1 Axes>"
            ]
          },
          "metadata": {
            "needs_background": "light"
          },
          "output_type": "display_data"
        }
      ],
      "source": [
        "sns.countplot(x='Last Notable Activity', hue='Converted', data= leads_df, palette='mako').tick_params(axis='x', rotation = 90)\n",
        "plt.title('Last Notable Activity')\n",
        "plt.show()"
      ]
    },
    {
      "cell_type": "code",
      "execution_count": null,
      "id": "d9baf60e",
      "metadata": {
        "id": "d9baf60e",
        "outputId": "29230bbe-a3ab-465d-bedb-62b643e37a39"
      },
      "outputs": [
        {
          "data": {
            "image/png": "[encoded data removed]",
            "text/plain": [
              "<Figure size 864x432 with 2 Axes>"
            ]
          },
          "metadata": {
            "needs_background": "light"
          },
          "output_type": "display_data"
        }
      ],
      "source": [
        "# To check the correlation among varibles\n",
        "plt.figure(figsize=(12,6))\n",
        "sns.heatmap(leads_df.corr())\n",
        "plt.show()"
      ]
    },
    {
      "cell_type": "markdown",
      "id": "1fc1d154",
      "metadata": {
        "id": "1fc1d154"
      },
      "source": [
        "We can observe from above that there are elements having little data so they might be of less relevance to our analysis."
      ]
    },
    {
      "cell_type": "markdown",
      "id": "5e98251a",
      "metadata": {
        "id": "5e98251a"
      },
      "source": [
        "## Outliers\n"
      ]
    },
    {
      "cell_type": "code",
      "execution_count": null,
      "id": "8e42e44b",
      "metadata": {
        "id": "8e42e44b",
        "outputId": "b106d5e7-7f04-41be-993f-bd0a4b89e489"
      },
      "outputs": [
        {
          "data": {
            "text/html": [
              "<div>\n",
              "<style scoped>\n",
              "    .dataframe tbody tr th:only-of-type {\n",
              "        vertical-align: middle;\n",
              "    }\n",
              "\n",
              "    .dataframe tbody tr th {\n",
              "        vertical-align: top;\n",
              "    }\n",
              "\n",
              "    .dataframe thead th {\n",
              "        text-align: right;\n",
              "    }\n",
              "</style>\n",
              "<table border=\"1\" class=\"dataframe\">\n",
              "  <thead>\n",
              "    <tr style=\"text-align: right;\">\n",
              "      <th></th>\n",
              "      <th>TotalVisits</th>\n",
              "      <th>Total Time Spent on Website</th>\n",
              "      <th>Page Views Per Visit</th>\n",
              "    </tr>\n",
              "  </thead>\n",
              "  <tbody>\n",
              "    <tr>\n",
              "      <th>count</th>\n",
              "      <td>9074.000000</td>\n",
              "      <td>9074.000000</td>\n",
              "      <td>9074.000000</td>\n",
              "    </tr>\n",
              "    <tr>\n",
              "      <th>mean</th>\n",
              "      <td>3.456028</td>\n",
              "      <td>482.887481</td>\n",
              "      <td>2.370151</td>\n",
              "    </tr>\n",
              "    <tr>\n",
              "      <th>std</th>\n",
              "      <td>4.858802</td>\n",
              "      <td>545.256560</td>\n",
              "      <td>2.160871</td>\n",
              "    </tr>\n",
              "    <tr>\n",
              "      <th>min</th>\n",
              "      <td>0.000000</td>\n",
              "      <td>0.000000</td>\n",
              "      <td>0.000000</td>\n",
              "    </tr>\n",
              "    <tr>\n",
              "      <th>25%</th>\n",
              "      <td>1.000000</td>\n",
              "      <td>11.000000</td>\n",
              "      <td>1.000000</td>\n",
              "    </tr>\n",
              "    <tr>\n",
              "      <th>50%</th>\n",
              "      <td>3.000000</td>\n",
              "      <td>246.000000</td>\n",
              "      <td>2.000000</td>\n",
              "    </tr>\n",
              "    <tr>\n",
              "      <th>75%</th>\n",
              "      <td>5.000000</td>\n",
              "      <td>922.750000</td>\n",
              "      <td>3.200000</td>\n",
              "    </tr>\n",
              "    <tr>\n",
              "      <th>90%</th>\n",
              "      <td>7.000000</td>\n",
              "      <td>1373.000000</td>\n",
              "      <td>5.000000</td>\n",
              "    </tr>\n",
              "    <tr>\n",
              "      <th>99%</th>\n",
              "      <td>17.000000</td>\n",
              "      <td>1839.000000</td>\n",
              "      <td>9.000000</td>\n",
              "    </tr>\n",
              "    <tr>\n",
              "      <th>max</th>\n",
              "      <td>251.000000</td>\n",
              "      <td>2272.000000</td>\n",
              "      <td>55.000000</td>\n",
              "    </tr>\n",
              "  </tbody>\n",
              "</table>\n",
              "</div>"
            ],
            "text/plain": [
              "       TotalVisits  Total Time Spent on Website  Page Views Per Visit\n",
              "count  9074.000000                  9074.000000           9074.000000\n",
              "mean      3.456028                   482.887481              2.370151\n",
              "std       4.858802                   545.256560              2.160871\n",
              "min       0.000000                     0.000000              0.000000\n",
              "25%       1.000000                    11.000000              1.000000\n",
              "50%       3.000000                   246.000000              2.000000\n",
              "75%       5.000000                   922.750000              3.200000\n",
              "90%       7.000000                  1373.000000              5.000000\n",
              "99%      17.000000                  1839.000000              9.000000\n",
              "max     251.000000                  2272.000000             55.000000"
            ]
          },
          "execution_count": 290,
          "metadata": {},
          "output_type": "execute_result"
        }
      ],
      "source": [
        "num = leads_df[['TotalVisits','Total Time Spent on Website','Page Views Per Visit']]\n",
        "num.describe(percentiles=[0.25,0.5,0.75,0.9,0.99])"
      ]
    },
    {
      "cell_type": "code",
      "execution_count": null,
      "id": "f7ea7fa1",
      "metadata": {
        "id": "f7ea7fa1",
        "outputId": "2d668a52-0bdf-425d-e549-20951577645c"
      },
      "outputs": [
        {
          "data": {
            "image/png": "[encoded data removed]",
            "text/plain": [
              "<Figure size 432x432 with 1 Axes>"
            ]
          },
          "metadata": {
            "needs_background": "light"
          },
          "output_type": "display_data"
        }
      ],
      "source": [
        "plt.figure(figsize = (6,6))\n",
        "sns.boxplot(y=leads_df['TotalVisits'])\n",
        "plt.show()\n",
        "\n"
      ]
    },
    {
      "cell_type": "code",
      "execution_count": null,
      "id": "2a688ea7",
      "metadata": {
        "id": "2a688ea7",
        "outputId": "d1ca76af-a546-4103-ae9b-9773618234a3"
      },
      "outputs": [
        {
          "data": {
            "image/png": "[encoded data removed]",
            "text/plain": [
              "<Figure size 432x288 with 1 Axes>"
            ]
          },
          "metadata": {
            "needs_background": "light"
          },
          "output_type": "display_data"
        }
      ],
      "source": [
        "sns.boxplot(y=leads_df['Page Views Per Visit'],palette='Set1')\n",
        "plt.show()\n"
      ]
    },
    {
      "cell_type": "code",
      "execution_count": null,
      "id": "4ad8f5d4",
      "metadata": {
        "id": "4ad8f5d4",
        "outputId": "2768c3ca-0a7f-4e53-dabc-dc8b3e58c5bb"
      },
      "outputs": [
        {
          "data": {
            "image/png": "[encoded data removed]",
            "text/plain": [
              "<Figure size 432x288 with 1 Axes>"
            ]
          },
          "metadata": {
            "needs_background": "light"
          },
          "output_type": "display_data"
        }
      ],
      "source": [
        "sns.boxplot(y=leads_df['Total Time Spent on Website'])\n",
        "plt.show()\n"
      ]
    },
    {
      "cell_type": "code",
      "execution_count": null,
      "id": "752ffe54",
      "metadata": {
        "id": "752ffe54",
        "outputId": "0b864c22-e689-4c69-ca64-3be82d1a3caa"
      },
      "outputs": [
        {
          "data": {
            "image/png": "[encoded data removed]",
            "text/plain": [
              "<Figure size 432x288 with 1 Axes>"
            ]
          },
          "metadata": {
            "needs_background": "light"
          },
          "output_type": "display_data"
        }
      ],
      "source": [
        "#Outlier Treatment: Remove top & bottom 1% of the Column Outlier values\n",
        "\n",
        "Q3 = leads_df.TotalVisits.quantile(0.99)\n",
        "leads_df = leads_df[(leads_df.TotalVisits <= Q3)]\n",
        "Q1 = leads_df.TotalVisits.quantile(0.01)\n",
        "leads_df = leads_df[(leads_df.TotalVisits >= Q1)]\n",
        "sns.boxplot(y=leads_df['TotalVisits'],palette='Set1')\n",
        "plt.show()"
      ]
    },
    {
      "cell_type": "markdown",
      "id": "daf685dc",
      "metadata": {
        "id": "daf685dc"
      },
      "source": [
        "## Dummy Variables"
      ]
    },
    {
      "cell_type": "code",
      "execution_count": null,
      "id": "716ab982",
      "metadata": {
        "id": "716ab982"
      },
      "outputs": [],
      "source": [
        "#list of columns to be dropped\n",
        "cols_to_drop=['Country','Tags']\n",
        "\n",
        "## \"Tags\" column can be dropped. Since tags variable is generated by the sales team after disscussion with the student, otherwise it can raise the model accuracy ."
      ]
    },
    {
      "cell_type": "code",
      "execution_count": null,
      "id": "f7f62049",
      "metadata": {
        "id": "f7f62049"
      },
      "outputs": [],
      "source": [
        "# Columns to be dropped\n",
        "\n",
        "leads_df = leads_df.drop(cols_to_drop,1)"
      ]
    },
    {
      "cell_type": "code",
      "execution_count": null,
      "id": "1d4fb7a1",
      "metadata": {
        "id": "1d4fb7a1",
        "outputId": "4807c07c-7b47-4544-83cc-faa070ab48ec"
      },
      "outputs": [
        {
          "name": "stdout",
          "output_type": "stream",
          "text": [
            "<class 'pandas.core.frame.DataFrame'>\n",
            "Int64Index: 8991 entries, 0 to 9239\n",
            "Data columns (total 21 columns):\n",
            " #   Column                                         Non-Null Count  Dtype  \n",
            "---  ------                                         --------------  -----  \n",
            " 0   Lead Origin                                    8991 non-null   object \n",
            " 1   Lead Source                                    8991 non-null   object \n",
            " 2   Do Not Email                                   8991 non-null   object \n",
            " 3   Do Not Call                                    8991 non-null   object \n",
            " 4   Converted                                      8991 non-null   int64  \n",
            " 5   TotalVisits                                    8991 non-null   float64\n",
            " 6   Total Time Spent on Website                    8991 non-null   int64  \n",
            " 7   Page Views Per Visit                           8991 non-null   float64\n",
            " 8   Last Activity                                  8991 non-null   object \n",
            " 9   Specialization                                 8991 non-null   object \n",
            " 10  What is your current occupation                8991 non-null   object \n",
            " 11  What matters most to you in choosing a course  8991 non-null   object \n",
            " 12  Search                                         8991 non-null   object \n",
            " 13  Newspaper Article                              8991 non-null   object \n",
            " 14  X Education Forums                             8991 non-null   object \n",
            " 15  Newspaper                                      8991 non-null   object \n",
            " 16  Digital Advertisement                          8991 non-null   object \n",
            " 17  Through Recommendations                        8991 non-null   object \n",
            " 18  City                                           8991 non-null   object \n",
            " 19  A free copy of Mastering The Interview         8991 non-null   object \n",
            " 20  Last Notable Activity                          8991 non-null   object \n",
            "dtypes: float64(2), int64(2), object(17)\n",
            "memory usage: 1.5+ MB\n"
          ]
        }
      ],
      "source": [
        "leads_df.info()"
      ]
    },
    {
      "cell_type": "code",
      "execution_count": null,
      "id": "bde0d547",
      "metadata": {
        "id": "bde0d547",
        "outputId": "8b9659cd-ca06-47d7-e009-8f7ea94c486d"
      },
      "outputs": [
        {
          "data": {
            "text/plain": [
              "Index(['Lead Origin', 'Lead Source', 'Do Not Email', 'Do Not Call',\n",
              "       'Last Activity', 'Specialization', 'What is your current occupation',\n",
              "       'What matters most to you in choosing a course', 'Search',\n",
              "       'Newspaper Article', 'X Education Forums', 'Newspaper',\n",
              "       'Digital Advertisement', 'Through Recommendations', 'City',\n",
              "       'A free copy of Mastering The Interview', 'Last Notable Activity'],\n",
              "      dtype='object')"
            ]
          },
          "execution_count": 298,
          "metadata": {},
          "output_type": "execute_result"
        }
      ],
      "source": [
        "# Generating a categorical columns list:\n",
        "\n",
        "catcols= leads_df.select_dtypes(include=['object']).columns\n",
        "catcols"
      ]
    },
    {
      "cell_type": "code",
      "execution_count": null,
      "id": "afc63bc6",
      "metadata": {
        "id": "afc63bc6",
        "outputId": "731644e7-8b52-4aaa-8898-ed4012b1ff6f"
      },
      "outputs": [
        {
          "data": {
            "text/html": [
              "<div>\n",
              "<style scoped>\n",
              "    .dataframe tbody tr th:only-of-type {\n",
              "        vertical-align: middle;\n",
              "    }\n",
              "\n",
              "    .dataframe tbody tr th {\n",
              "        vertical-align: top;\n",
              "    }\n",
              "\n",
              "    .dataframe thead th {\n",
              "        text-align: right;\n",
              "    }\n",
              "</style>\n",
              "<table border=\"1\" class=\"dataframe\">\n",
              "  <thead>\n",
              "    <tr style=\"text-align: right;\">\n",
              "      <th></th>\n",
              "      <th>Lead Origin</th>\n",
              "      <th>Lead Source</th>\n",
              "      <th>Do Not Email</th>\n",
              "      <th>Do Not Call</th>\n",
              "      <th>Converted</th>\n",
              "      <th>TotalVisits</th>\n",
              "      <th>Total Time Spent on Website</th>\n",
              "      <th>Page Views Per Visit</th>\n",
              "      <th>Last Activity</th>\n",
              "      <th>Specialization</th>\n",
              "      <th>...</th>\n",
              "      <th>Last Notable Activity_Form Submitted on Website</th>\n",
              "      <th>Last Notable Activity_Had a Phone Conversation</th>\n",
              "      <th>Last Notable Activity_Modified</th>\n",
              "      <th>Last Notable Activity_Olark Chat Conversation</th>\n",
              "      <th>Last Notable Activity_Page Visited on Website</th>\n",
              "      <th>Last Notable Activity_Resubscribed to emails</th>\n",
              "      <th>Last Notable Activity_SMS Sent</th>\n",
              "      <th>Last Notable Activity_Unreachable</th>\n",
              "      <th>Last Notable Activity_Unsubscribed</th>\n",
              "      <th>Last Notable Activity_View in browser link Clicked</th>\n",
              "    </tr>\n",
              "  </thead>\n",
              "  <tbody>\n",
              "    <tr>\n",
              "      <th>0</th>\n",
              "      <td>API</td>\n",
              "      <td>Olark Chat</td>\n",
              "      <td>No</td>\n",
              "      <td>No</td>\n",
              "      <td>0</td>\n",
              "      <td>0.0</td>\n",
              "      <td>0</td>\n",
              "      <td>0.00</td>\n",
              "      <td>Page Visited on Website</td>\n",
              "      <td>not_provided</td>\n",
              "      <td>...</td>\n",
              "      <td>0</td>\n",
              "      <td>0</td>\n",
              "      <td>1</td>\n",
              "      <td>0</td>\n",
              "      <td>0</td>\n",
              "      <td>0</td>\n",
              "      <td>0</td>\n",
              "      <td>0</td>\n",
              "      <td>0</td>\n",
              "      <td>0</td>\n",
              "    </tr>\n",
              "    <tr>\n",
              "      <th>1</th>\n",
              "      <td>API</td>\n",
              "      <td>Organic Search</td>\n",
              "      <td>No</td>\n",
              "      <td>No</td>\n",
              "      <td>0</td>\n",
              "      <td>5.0</td>\n",
              "      <td>674</td>\n",
              "      <td>2.50</td>\n",
              "      <td>Email Opened</td>\n",
              "      <td>not_provided</td>\n",
              "      <td>...</td>\n",
              "      <td>0</td>\n",
              "      <td>0</td>\n",
              "      <td>0</td>\n",
              "      <td>0</td>\n",
              "      <td>0</td>\n",
              "      <td>0</td>\n",
              "      <td>0</td>\n",
              "      <td>0</td>\n",
              "      <td>0</td>\n",
              "      <td>0</td>\n",
              "    </tr>\n",
              "    <tr>\n",
              "      <th>2</th>\n",
              "      <td>Landing Page Submission</td>\n",
              "      <td>Direct Traffic</td>\n",
              "      <td>No</td>\n",
              "      <td>No</td>\n",
              "      <td>1</td>\n",
              "      <td>2.0</td>\n",
              "      <td>1532</td>\n",
              "      <td>2.00</td>\n",
              "      <td>Email Opened</td>\n",
              "      <td>Business Administration</td>\n",
              "      <td>...</td>\n",
              "      <td>0</td>\n",
              "      <td>0</td>\n",
              "      <td>0</td>\n",
              "      <td>0</td>\n",
              "      <td>0</td>\n",
              "      <td>0</td>\n",
              "      <td>0</td>\n",
              "      <td>0</td>\n",
              "      <td>0</td>\n",
              "      <td>0</td>\n",
              "    </tr>\n",
              "    <tr>\n",
              "      <th>3</th>\n",
              "      <td>Landing Page Submission</td>\n",
              "      <td>Direct Traffic</td>\n",
              "      <td>No</td>\n",
              "      <td>No</td>\n",
              "      <td>0</td>\n",
              "      <td>1.0</td>\n",
              "      <td>305</td>\n",
              "      <td>1.00</td>\n",
              "      <td>Unreachable</td>\n",
              "      <td>Media and Advertising</td>\n",
              "      <td>...</td>\n",
              "      <td>0</td>\n",
              "      <td>0</td>\n",
              "      <td>1</td>\n",
              "      <td>0</td>\n",
              "      <td>0</td>\n",
              "      <td>0</td>\n",
              "      <td>0</td>\n",
              "      <td>0</td>\n",
              "      <td>0</td>\n",
              "      <td>0</td>\n",
              "    </tr>\n",
              "    <tr>\n",
              "      <th>4</th>\n",
              "      <td>Landing Page Submission</td>\n",
              "      <td>Google</td>\n",
              "      <td>No</td>\n",
              "      <td>No</td>\n",
              "      <td>1</td>\n",
              "      <td>2.0</td>\n",
              "      <td>1428</td>\n",
              "      <td>1.00</td>\n",
              "      <td>Converted to Lead</td>\n",
              "      <td>not_provided</td>\n",
              "      <td>...</td>\n",
              "      <td>0</td>\n",
              "      <td>0</td>\n",
              "      <td>1</td>\n",
              "      <td>0</td>\n",
              "      <td>0</td>\n",
              "      <td>0</td>\n",
              "      <td>0</td>\n",
              "      <td>0</td>\n",
              "      <td>0</td>\n",
              "      <td>0</td>\n",
              "    </tr>\n",
              "    <tr>\n",
              "      <th>...</th>\n",
              "      <td>...</td>\n",
              "      <td>...</td>\n",
              "      <td>...</td>\n",
              "      <td>...</td>\n",
              "      <td>...</td>\n",
              "      <td>...</td>\n",
              "      <td>...</td>\n",
              "      <td>...</td>\n",
              "      <td>...</td>\n",
              "      <td>...</td>\n",
              "      <td>...</td>\n",
              "      <td>...</td>\n",
              "      <td>...</td>\n",
              "      <td>...</td>\n",
              "      <td>...</td>\n",
              "      <td>...</td>\n",
              "      <td>...</td>\n",
              "      <td>...</td>\n",
              "      <td>...</td>\n",
              "      <td>...</td>\n",
              "      <td>...</td>\n",
              "    </tr>\n",
              "    <tr>\n",
              "      <th>9235</th>\n",
              "      <td>Landing Page Submission</td>\n",
              "      <td>Direct Traffic</td>\n",
              "      <td>Yes</td>\n",
              "      <td>No</td>\n",
              "      <td>1</td>\n",
              "      <td>8.0</td>\n",
              "      <td>1845</td>\n",
              "      <td>2.67</td>\n",
              "      <td>Email Marked Spam</td>\n",
              "      <td>IT Projects Management</td>\n",
              "      <td>...</td>\n",
              "      <td>0</td>\n",
              "      <td>0</td>\n",
              "      <td>0</td>\n",
              "      <td>0</td>\n",
              "      <td>0</td>\n",
              "      <td>0</td>\n",
              "      <td>0</td>\n",
              "      <td>0</td>\n",
              "      <td>0</td>\n",
              "      <td>0</td>\n",
              "    </tr>\n",
              "    <tr>\n",
              "      <th>9236</th>\n",
              "      <td>Landing Page Submission</td>\n",
              "      <td>Direct Traffic</td>\n",
              "      <td>No</td>\n",
              "      <td>No</td>\n",
              "      <td>0</td>\n",
              "      <td>2.0</td>\n",
              "      <td>238</td>\n",
              "      <td>2.00</td>\n",
              "      <td>SMS Sent</td>\n",
              "      <td>Media and Advertising</td>\n",
              "      <td>...</td>\n",
              "      <td>0</td>\n",
              "      <td>0</td>\n",
              "      <td>0</td>\n",
              "      <td>0</td>\n",
              "      <td>0</td>\n",
              "      <td>0</td>\n",
              "      <td>1</td>\n",
              "      <td>0</td>\n",
              "      <td>0</td>\n",
              "      <td>0</td>\n",
              "    </tr>\n",
              "    <tr>\n",
              "      <th>9237</th>\n",
              "      <td>Landing Page Submission</td>\n",
              "      <td>Direct Traffic</td>\n",
              "      <td>Yes</td>\n",
              "      <td>No</td>\n",
              "      <td>0</td>\n",
              "      <td>2.0</td>\n",
              "      <td>199</td>\n",
              "      <td>2.00</td>\n",
              "      <td>SMS Sent</td>\n",
              "      <td>Business Administration</td>\n",
              "      <td>...</td>\n",
              "      <td>0</td>\n",
              "      <td>0</td>\n",
              "      <td>0</td>\n",
              "      <td>0</td>\n",
              "      <td>0</td>\n",
              "      <td>0</td>\n",
              "      <td>1</td>\n",
              "      <td>0</td>\n",
              "      <td>0</td>\n",
              "      <td>0</td>\n",
              "    </tr>\n",
              "    <tr>\n",
              "      <th>9238</th>\n",
              "      <td>Landing Page Submission</td>\n",
              "      <td>Google</td>\n",
              "      <td>No</td>\n",
              "      <td>No</td>\n",
              "      <td>1</td>\n",
              "      <td>3.0</td>\n",
              "      <td>499</td>\n",
              "      <td>3.00</td>\n",
              "      <td>SMS Sent</td>\n",
              "      <td>Human Resource Management</td>\n",
              "      <td>...</td>\n",
              "      <td>0</td>\n",
              "      <td>0</td>\n",
              "      <td>0</td>\n",
              "      <td>0</td>\n",
              "      <td>0</td>\n",
              "      <td>0</td>\n",
              "      <td>1</td>\n",
              "      <td>0</td>\n",
              "      <td>0</td>\n",
              "      <td>0</td>\n",
              "    </tr>\n",
              "    <tr>\n",
              "      <th>9239</th>\n",
              "      <td>Landing Page Submission</td>\n",
              "      <td>Direct Traffic</td>\n",
              "      <td>No</td>\n",
              "      <td>No</td>\n",
              "      <td>1</td>\n",
              "      <td>6.0</td>\n",
              "      <td>1279</td>\n",
              "      <td>3.00</td>\n",
              "      <td>SMS Sent</td>\n",
              "      <td>Supply Chain Management</td>\n",
              "      <td>...</td>\n",
              "      <td>0</td>\n",
              "      <td>0</td>\n",
              "      <td>1</td>\n",
              "      <td>0</td>\n",
              "      <td>0</td>\n",
              "      <td>0</td>\n",
              "      <td>0</td>\n",
              "      <td>0</td>\n",
              "      <td>0</td>\n",
              "      <td>0</td>\n",
              "    </tr>\n",
              "  </tbody>\n",
              "</table>\n",
              "<p>8991 rows × 101 columns</p>\n",
              "</div>"
            ],
            "text/plain": [
              "                  Lead Origin     Lead Source Do Not Email Do Not Call  \\\n",
              "0                         API      Olark Chat           No          No   \n",
              "1                         API  Organic Search           No          No   \n",
              "2     Landing Page Submission  Direct Traffic           No          No   \n",
              "3     Landing Page Submission  Direct Traffic           No          No   \n",
              "4     Landing Page Submission          Google           No          No   \n",
              "...                       ...             ...          ...         ...   \n",
              "9235  Landing Page Submission  Direct Traffic          Yes          No   \n",
              "9236  Landing Page Submission  Direct Traffic           No          No   \n",
              "9237  Landing Page Submission  Direct Traffic          Yes          No   \n",
              "9238  Landing Page Submission          Google           No          No   \n",
              "9239  Landing Page Submission  Direct Traffic           No          No   \n",
              "\n",
              "      Converted  TotalVisits  Total Time Spent on Website  \\\n",
              "0             0          0.0                            0   \n",
              "1             0          5.0                          674   \n",
              "2             1          2.0                         1532   \n",
              "3             0          1.0                          305   \n",
              "4             1          2.0                         1428   \n",
              "...         ...          ...                          ...   \n",
              "9235          1          8.0                         1845   \n",
              "9236          0          2.0                          238   \n",
              "9237          0          2.0                          199   \n",
              "9238          1          3.0                          499   \n",
              "9239          1          6.0                         1279   \n",
              "\n",
              "      Page Views Per Visit            Last Activity  \\\n",
              "0                     0.00  Page Visited on Website   \n",
              "1                     2.50             Email Opened   \n",
              "2                     2.00             Email Opened   \n",
              "3                     1.00              Unreachable   \n",
              "4                     1.00        Converted to Lead   \n",
              "...                    ...                      ...   \n",
              "9235                  2.67        Email Marked Spam   \n",
              "9236                  2.00                 SMS Sent   \n",
              "9237                  2.00                 SMS Sent   \n",
              "9238                  3.00                 SMS Sent   \n",
              "9239                  3.00                 SMS Sent   \n",
              "\n",
              "                 Specialization  ...  \\\n",
              "0                  not_provided  ...   \n",
              "1                  not_provided  ...   \n",
              "2       Business Administration  ...   \n",
              "3         Media and Advertising  ...   \n",
              "4                  not_provided  ...   \n",
              "...                         ...  ...   \n",
              "9235     IT Projects Management  ...   \n",
              "9236      Media and Advertising  ...   \n",
              "9237    Business Administration  ...   \n",
              "9238  Human Resource Management  ...   \n",
              "9239    Supply Chain Management  ...   \n",
              "\n",
              "     Last Notable Activity_Form Submitted on Website  \\\n",
              "0                                                  0   \n",
              "1                                                  0   \n",
              "2                                                  0   \n",
              "3                                                  0   \n",
              "4                                                  0   \n",
              "...                                              ...   \n",
              "9235                                               0   \n",
              "9236                                               0   \n",
              "9237                                               0   \n",
              "9238                                               0   \n",
              "9239                                               0   \n",
              "\n",
              "     Last Notable Activity_Had a Phone Conversation  \\\n",
              "0                                                 0   \n",
              "1                                                 0   \n",
              "2                                                 0   \n",
              "3                                                 0   \n",
              "4                                                 0   \n",
              "...                                             ...   \n",
              "9235                                              0   \n",
              "9236                                              0   \n",
              "9237                                              0   \n",
              "9238                                              0   \n",
              "9239                                              0   \n",
              "\n",
              "     Last Notable Activity_Modified  \\\n",
              "0                                 1   \n",
              "1                                 0   \n",
              "2                                 0   \n",
              "3                                 1   \n",
              "4                                 1   \n",
              "...                             ...   \n",
              "9235                              0   \n",
              "9236                              0   \n",
              "9237                              0   \n",
              "9238                              0   \n",
              "9239                              1   \n",
              "\n",
              "     Last Notable Activity_Olark Chat Conversation  \\\n",
              "0                                                0   \n",
              "1                                                0   \n",
              "2                                                0   \n",
              "3                                                0   \n",
              "4                                                0   \n",
              "...                                            ...   \n",
              "9235                                             0   \n",
              "9236                                             0   \n",
              "9237                                             0   \n",
              "9238                                             0   \n",
              "9239                                             0   \n",
              "\n",
              "     Last Notable Activity_Page Visited on Website  \\\n",
              "0                                                0   \n",
              "1                                                0   \n",
              "2                                                0   \n",
              "3                                                0   \n",
              "4                                                0   \n",
              "...                                            ...   \n",
              "9235                                             0   \n",
              "9236                                             0   \n",
              "9237                                             0   \n",
              "9238                                             0   \n",
              "9239                                             0   \n",
              "\n",
              "     Last Notable Activity_Resubscribed to emails  \\\n",
              "0                                               0   \n",
              "1                                               0   \n",
              "2                                               0   \n",
              "3                                               0   \n",
              "4                                               0   \n",
              "...                                           ...   \n",
              "9235                                            0   \n",
              "9236                                            0   \n",
              "9237                                            0   \n",
              "9238                                            0   \n",
              "9239                                            0   \n",
              "\n",
              "     Last Notable Activity_SMS Sent Last Notable Activity_Unreachable  \\\n",
              "0                                 0                                 0   \n",
              "1                                 0                                 0   \n",
              "2                                 0                                 0   \n",
              "3                                 0                                 0   \n",
              "4                                 0                                 0   \n",
              "...                             ...                               ...   \n",
              "9235                              0                                 0   \n",
              "9236                              1                                 0   \n",
              "9237                              1                                 0   \n",
              "9238                              1                                 0   \n",
              "9239                              0                                 0   \n",
              "\n",
              "     Last Notable Activity_Unsubscribed  \\\n",
              "0                                     0   \n",
              "1                                     0   \n",
              "2                                     0   \n",
              "3                                     0   \n",
              "4                                     0   \n",
              "...                                 ...   \n",
              "9235                                  0   \n",
              "9236                                  0   \n",
              "9237                                  0   \n",
              "9238                                  0   \n",
              "9239                                  0   \n",
              "\n",
              "     Last Notable Activity_View in browser link Clicked  \n",
              "0                                                     0  \n",
              "1                                                     0  \n",
              "2                                                     0  \n",
              "3                                                     0  \n",
              "4                                                     0  \n",
              "...                                                 ...  \n",
              "9235                                                  0  \n",
              "9236                                                  0  \n",
              "9237                                                  0  \n",
              "9238                                                  0  \n",
              "9239                                                  0  \n",
              "\n",
              "[8991 rows x 101 columns]"
            ]
          },
          "execution_count": 299,
          "metadata": {},
          "output_type": "execute_result"
        }
      ],
      "source": [
        "# Generating the dummy variables\n",
        "\n",
        "dum = pd.get_dummies(leads_df[['Lead Origin','Specialization' ,'Lead Source', 'Do Not Email', 'Last Activity', 'What is your current occupation','A free copy of Mastering The Interview', 'Last Notable Activity']], drop_first=True)\n",
        "# Add the results to the master dataframe\n",
        "leads_df_dum = pd.concat([leads_df, dum], axis=1)\n",
        "leads_df_dum"
      ]
    },
    {
      "cell_type": "code",
      "execution_count": null,
      "id": "f7914cc2",
      "metadata": {
        "id": "f7914cc2",
        "outputId": "03826148-0601-4946-bc8e-d2f9eded6d57"
      },
      "outputs": [
        {
          "data": {
            "text/html": [
              "<div>\n",
              "<style scoped>\n",
              "    .dataframe tbody tr th:only-of-type {\n",
              "        vertical-align: middle;\n",
              "    }\n",
              "\n",
              "    .dataframe tbody tr th {\n",
              "        vertical-align: top;\n",
              "    }\n",
              "\n",
              "    .dataframe thead th {\n",
              "        text-align: right;\n",
              "    }\n",
              "</style>\n",
              "<table border=\"1\" class=\"dataframe\">\n",
              "  <thead>\n",
              "    <tr style=\"text-align: right;\">\n",
              "      <th></th>\n",
              "      <th>Converted</th>\n",
              "      <th>TotalVisits</th>\n",
              "      <th>Total Time Spent on Website</th>\n",
              "      <th>Page Views Per Visit</th>\n",
              "      <th>Lead Origin_Landing Page Submission</th>\n",
              "      <th>Lead Origin_Lead Add Form</th>\n",
              "      <th>Lead Origin_Lead Import</th>\n",
              "      <th>Specialization_Business Administration</th>\n",
              "      <th>Specialization_E-Business</th>\n",
              "      <th>Specialization_E-COMMERCE</th>\n",
              "      <th>...</th>\n",
              "      <th>Last Notable Activity_Form Submitted on Website</th>\n",
              "      <th>Last Notable Activity_Had a Phone Conversation</th>\n",
              "      <th>Last Notable Activity_Modified</th>\n",
              "      <th>Last Notable Activity_Olark Chat Conversation</th>\n",
              "      <th>Last Notable Activity_Page Visited on Website</th>\n",
              "      <th>Last Notable Activity_Resubscribed to emails</th>\n",
              "      <th>Last Notable Activity_SMS Sent</th>\n",
              "      <th>Last Notable Activity_Unreachable</th>\n",
              "      <th>Last Notable Activity_Unsubscribed</th>\n",
              "      <th>Last Notable Activity_View in browser link Clicked</th>\n",
              "    </tr>\n",
              "  </thead>\n",
              "  <tbody>\n",
              "    <tr>\n",
              "      <th>0</th>\n",
              "      <td>0</td>\n",
              "      <td>0.0</td>\n",
              "      <td>0</td>\n",
              "      <td>0.00</td>\n",
              "      <td>0</td>\n",
              "      <td>0</td>\n",
              "      <td>0</td>\n",
              "      <td>0</td>\n",
              "      <td>0</td>\n",
              "      <td>0</td>\n",
              "      <td>...</td>\n",
              "      <td>0</td>\n",
              "      <td>0</td>\n",
              "      <td>1</td>\n",
              "      <td>0</td>\n",
              "      <td>0</td>\n",
              "      <td>0</td>\n",
              "      <td>0</td>\n",
              "      <td>0</td>\n",
              "      <td>0</td>\n",
              "      <td>0</td>\n",
              "    </tr>\n",
              "    <tr>\n",
              "      <th>1</th>\n",
              "      <td>0</td>\n",
              "      <td>5.0</td>\n",
              "      <td>674</td>\n",
              "      <td>2.50</td>\n",
              "      <td>0</td>\n",
              "      <td>0</td>\n",
              "      <td>0</td>\n",
              "      <td>0</td>\n",
              "      <td>0</td>\n",
              "      <td>0</td>\n",
              "      <td>...</td>\n",
              "      <td>0</td>\n",
              "      <td>0</td>\n",
              "      <td>0</td>\n",
              "      <td>0</td>\n",
              "      <td>0</td>\n",
              "      <td>0</td>\n",
              "      <td>0</td>\n",
              "      <td>0</td>\n",
              "      <td>0</td>\n",
              "      <td>0</td>\n",
              "    </tr>\n",
              "    <tr>\n",
              "      <th>2</th>\n",
              "      <td>1</td>\n",
              "      <td>2.0</td>\n",
              "      <td>1532</td>\n",
              "      <td>2.00</td>\n",
              "      <td>1</td>\n",
              "      <td>0</td>\n",
              "      <td>0</td>\n",
              "      <td>1</td>\n",
              "      <td>0</td>\n",
              "      <td>0</td>\n",
              "      <td>...</td>\n",
              "      <td>0</td>\n",
              "      <td>0</td>\n",
              "      <td>0</td>\n",
              "      <td>0</td>\n",
              "      <td>0</td>\n",
              "      <td>0</td>\n",
              "      <td>0</td>\n",
              "      <td>0</td>\n",
              "      <td>0</td>\n",
              "      <td>0</td>\n",
              "    </tr>\n",
              "    <tr>\n",
              "      <th>3</th>\n",
              "      <td>0</td>\n",
              "      <td>1.0</td>\n",
              "      <td>305</td>\n",
              "      <td>1.00</td>\n",
              "      <td>1</td>\n",
              "      <td>0</td>\n",
              "      <td>0</td>\n",
              "      <td>0</td>\n",
              "      <td>0</td>\n",
              "      <td>0</td>\n",
              "      <td>...</td>\n",
              "      <td>0</td>\n",
              "      <td>0</td>\n",
              "      <td>1</td>\n",
              "      <td>0</td>\n",
              "      <td>0</td>\n",
              "      <td>0</td>\n",
              "      <td>0</td>\n",
              "      <td>0</td>\n",
              "      <td>0</td>\n",
              "      <td>0</td>\n",
              "    </tr>\n",
              "    <tr>\n",
              "      <th>4</th>\n",
              "      <td>1</td>\n",
              "      <td>2.0</td>\n",
              "      <td>1428</td>\n",
              "      <td>1.00</td>\n",
              "      <td>1</td>\n",
              "      <td>0</td>\n",
              "      <td>0</td>\n",
              "      <td>0</td>\n",
              "      <td>0</td>\n",
              "      <td>0</td>\n",
              "      <td>...</td>\n",
              "      <td>0</td>\n",
              "      <td>0</td>\n",
              "      <td>1</td>\n",
              "      <td>0</td>\n",
              "      <td>0</td>\n",
              "      <td>0</td>\n",
              "      <td>0</td>\n",
              "      <td>0</td>\n",
              "      <td>0</td>\n",
              "      <td>0</td>\n",
              "    </tr>\n",
              "    <tr>\n",
              "      <th>...</th>\n",
              "      <td>...</td>\n",
              "      <td>...</td>\n",
              "      <td>...</td>\n",
              "      <td>...</td>\n",
              "      <td>...</td>\n",
              "      <td>...</td>\n",
              "      <td>...</td>\n",
              "      <td>...</td>\n",
              "      <td>...</td>\n",
              "      <td>...</td>\n",
              "      <td>...</td>\n",
              "      <td>...</td>\n",
              "      <td>...</td>\n",
              "      <td>...</td>\n",
              "      <td>...</td>\n",
              "      <td>...</td>\n",
              "      <td>...</td>\n",
              "      <td>...</td>\n",
              "      <td>...</td>\n",
              "      <td>...</td>\n",
              "      <td>...</td>\n",
              "    </tr>\n",
              "    <tr>\n",
              "      <th>9235</th>\n",
              "      <td>1</td>\n",
              "      <td>8.0</td>\n",
              "      <td>1845</td>\n",
              "      <td>2.67</td>\n",
              "      <td>1</td>\n",
              "      <td>0</td>\n",
              "      <td>0</td>\n",
              "      <td>0</td>\n",
              "      <td>0</td>\n",
              "      <td>0</td>\n",
              "      <td>...</td>\n",
              "      <td>0</td>\n",
              "      <td>0</td>\n",
              "      <td>0</td>\n",
              "      <td>0</td>\n",
              "      <td>0</td>\n",
              "      <td>0</td>\n",
              "      <td>0</td>\n",
              "      <td>0</td>\n",
              "      <td>0</td>\n",
              "      <td>0</td>\n",
              "    </tr>\n",
              "    <tr>\n",
              "      <th>9236</th>\n",
              "      <td>0</td>\n",
              "      <td>2.0</td>\n",
              "      <td>238</td>\n",
              "      <td>2.00</td>\n",
              "      <td>1</td>\n",
              "      <td>0</td>\n",
              "      <td>0</td>\n",
              "      <td>0</td>\n",
              "      <td>0</td>\n",
              "      <td>0</td>\n",
              "      <td>...</td>\n",
              "      <td>0</td>\n",
              "      <td>0</td>\n",
              "      <td>0</td>\n",
              "      <td>0</td>\n",
              "      <td>0</td>\n",
              "      <td>0</td>\n",
              "      <td>1</td>\n",
              "      <td>0</td>\n",
              "      <td>0</td>\n",
              "      <td>0</td>\n",
              "    </tr>\n",
              "    <tr>\n",
              "      <th>9237</th>\n",
              "      <td>0</td>\n",
              "      <td>2.0</td>\n",
              "      <td>199</td>\n",
              "      <td>2.00</td>\n",
              "      <td>1</td>\n",
              "      <td>0</td>\n",
              "      <td>0</td>\n",
              "      <td>1</td>\n",
              "      <td>0</td>\n",
              "      <td>0</td>\n",
              "      <td>...</td>\n",
              "      <td>0</td>\n",
              "      <td>0</td>\n",
              "      <td>0</td>\n",
              "      <td>0</td>\n",
              "      <td>0</td>\n",
              "      <td>0</td>\n",
              "      <td>1</td>\n",
              "      <td>0</td>\n",
              "      <td>0</td>\n",
              "      <td>0</td>\n",
              "    </tr>\n",
              "    <tr>\n",
              "      <th>9238</th>\n",
              "      <td>1</td>\n",
              "      <td>3.0</td>\n",
              "      <td>499</td>\n",
              "      <td>3.00</td>\n",
              "      <td>1</td>\n",
              "      <td>0</td>\n",
              "      <td>0</td>\n",
              "      <td>0</td>\n",
              "      <td>0</td>\n",
              "      <td>0</td>\n",
              "      <td>...</td>\n",
              "      <td>0</td>\n",
              "      <td>0</td>\n",
              "      <td>0</td>\n",
              "      <td>0</td>\n",
              "      <td>0</td>\n",
              "      <td>0</td>\n",
              "      <td>1</td>\n",
              "      <td>0</td>\n",
              "      <td>0</td>\n",
              "      <td>0</td>\n",
              "    </tr>\n",
              "    <tr>\n",
              "      <th>9239</th>\n",
              "      <td>1</td>\n",
              "      <td>6.0</td>\n",
              "      <td>1279</td>\n",
              "      <td>3.00</td>\n",
              "      <td>1</td>\n",
              "      <td>0</td>\n",
              "      <td>0</td>\n",
              "      <td>0</td>\n",
              "      <td>0</td>\n",
              "      <td>0</td>\n",
              "      <td>...</td>\n",
              "      <td>0</td>\n",
              "      <td>0</td>\n",
              "      <td>1</td>\n",
              "      <td>0</td>\n",
              "      <td>0</td>\n",
              "      <td>0</td>\n",
              "      <td>0</td>\n",
              "      <td>0</td>\n",
              "      <td>0</td>\n",
              "      <td>0</td>\n",
              "    </tr>\n",
              "  </tbody>\n",
              "</table>\n",
              "<p>8991 rows × 84 columns</p>\n",
              "</div>"
            ],
            "text/plain": [
              "      Converted  TotalVisits  Total Time Spent on Website  \\\n",
              "0             0          0.0                            0   \n",
              "1             0          5.0                          674   \n",
              "2             1          2.0                         1532   \n",
              "3             0          1.0                          305   \n",
              "4             1          2.0                         1428   \n",
              "...         ...          ...                          ...   \n",
              "9235          1          8.0                         1845   \n",
              "9236          0          2.0                          238   \n",
              "9237          0          2.0                          199   \n",
              "9238          1          3.0                          499   \n",
              "9239          1          6.0                         1279   \n",
              "\n",
              "      Page Views Per Visit  Lead Origin_Landing Page Submission  \\\n",
              "0                     0.00                                    0   \n",
              "1                     2.50                                    0   \n",
              "2                     2.00                                    1   \n",
              "3                     1.00                                    1   \n",
              "4                     1.00                                    1   \n",
              "...                    ...                                  ...   \n",
              "9235                  2.67                                    1   \n",
              "9236                  2.00                                    1   \n",
              "9237                  2.00                                    1   \n",
              "9238                  3.00                                    1   \n",
              "9239                  3.00                                    1   \n",
              "\n",
              "      Lead Origin_Lead Add Form  Lead Origin_Lead Import  \\\n",
              "0                             0                        0   \n",
              "1                             0                        0   \n",
              "2                             0                        0   \n",
              "3                             0                        0   \n",
              "4                             0                        0   \n",
              "...                         ...                      ...   \n",
              "9235                          0                        0   \n",
              "9236                          0                        0   \n",
              "9237                          0                        0   \n",
              "9238                          0                        0   \n",
              "9239                          0                        0   \n",
              "\n",
              "      Specialization_Business Administration  Specialization_E-Business  \\\n",
              "0                                          0                          0   \n",
              "1                                          0                          0   \n",
              "2                                          1                          0   \n",
              "3                                          0                          0   \n",
              "4                                          0                          0   \n",
              "...                                      ...                        ...   \n",
              "9235                                       0                          0   \n",
              "9236                                       0                          0   \n",
              "9237                                       1                          0   \n",
              "9238                                       0                          0   \n",
              "9239                                       0                          0   \n",
              "\n",
              "      Specialization_E-COMMERCE  ...  \\\n",
              "0                             0  ...   \n",
              "1                             0  ...   \n",
              "2                             0  ...   \n",
              "3                             0  ...   \n",
              "4                             0  ...   \n",
              "...                         ...  ...   \n",
              "9235                          0  ...   \n",
              "9236                          0  ...   \n",
              "9237                          0  ...   \n",
              "9238                          0  ...   \n",
              "9239                          0  ...   \n",
              "\n",
              "      Last Notable Activity_Form Submitted on Website  \\\n",
              "0                                                   0   \n",
              "1                                                   0   \n",
              "2                                                   0   \n",
              "3                                                   0   \n",
              "4                                                   0   \n",
              "...                                               ...   \n",
              "9235                                                0   \n",
              "9236                                                0   \n",
              "9237                                                0   \n",
              "9238                                                0   \n",
              "9239                                                0   \n",
              "\n",
              "      Last Notable Activity_Had a Phone Conversation  \\\n",
              "0                                                  0   \n",
              "1                                                  0   \n",
              "2                                                  0   \n",
              "3                                                  0   \n",
              "4                                                  0   \n",
              "...                                              ...   \n",
              "9235                                               0   \n",
              "9236                                               0   \n",
              "9237                                               0   \n",
              "9238                                               0   \n",
              "9239                                               0   \n",
              "\n",
              "      Last Notable Activity_Modified  \\\n",
              "0                                  1   \n",
              "1                                  0   \n",
              "2                                  0   \n",
              "3                                  1   \n",
              "4                                  1   \n",
              "...                              ...   \n",
              "9235                               0   \n",
              "9236                               0   \n",
              "9237                               0   \n",
              "9238                               0   \n",
              "9239                               1   \n",
              "\n",
              "      Last Notable Activity_Olark Chat Conversation  \\\n",
              "0                                                 0   \n",
              "1                                                 0   \n",
              "2                                                 0   \n",
              "3                                                 0   \n",
              "4                                                 0   \n",
              "...                                             ...   \n",
              "9235                                              0   \n",
              "9236                                              0   \n",
              "9237                                              0   \n",
              "9238                                              0   \n",
              "9239                                              0   \n",
              "\n",
              "      Last Notable Activity_Page Visited on Website  \\\n",
              "0                                                 0   \n",
              "1                                                 0   \n",
              "2                                                 0   \n",
              "3                                                 0   \n",
              "4                                                 0   \n",
              "...                                             ...   \n",
              "9235                                              0   \n",
              "9236                                              0   \n",
              "9237                                              0   \n",
              "9238                                              0   \n",
              "9239                                              0   \n",
              "\n",
              "      Last Notable Activity_Resubscribed to emails  \\\n",
              "0                                                0   \n",
              "1                                                0   \n",
              "2                                                0   \n",
              "3                                                0   \n",
              "4                                                0   \n",
              "...                                            ...   \n",
              "9235                                             0   \n",
              "9236                                             0   \n",
              "9237                                             0   \n",
              "9238                                             0   \n",
              "9239                                             0   \n",
              "\n",
              "      Last Notable Activity_SMS Sent  Last Notable Activity_Unreachable  \\\n",
              "0                                  0                                  0   \n",
              "1                                  0                                  0   \n",
              "2                                  0                                  0   \n",
              "3                                  0                                  0   \n",
              "4                                  0                                  0   \n",
              "...                              ...                                ...   \n",
              "9235                               0                                  0   \n",
              "9236                               1                                  0   \n",
              "9237                               1                                  0   \n",
              "9238                               1                                  0   \n",
              "9239                               0                                  0   \n",
              "\n",
              "      Last Notable Activity_Unsubscribed  \\\n",
              "0                                      0   \n",
              "1                                      0   \n",
              "2                                      0   \n",
              "3                                      0   \n",
              "4                                      0   \n",
              "...                                  ...   \n",
              "9235                                   0   \n",
              "9236                                   0   \n",
              "9237                                   0   \n",
              "9238                                   0   \n",
              "9239                                   0   \n",
              "\n",
              "      Last Notable Activity_View in browser link Clicked  \n",
              "0                                                     0   \n",
              "1                                                     0   \n",
              "2                                                     0   \n",
              "3                                                     0   \n",
              "4                                                     0   \n",
              "...                                                 ...   \n",
              "9235                                                  0   \n",
              "9236                                                  0   \n",
              "9237                                                  0   \n",
              "9238                                                  0   \n",
              "9239                                                  0   \n",
              "\n",
              "[8991 rows x 84 columns]"
            ]
          },
          "execution_count": 300,
          "metadata": {},
          "output_type": "execute_result"
        }
      ],
      "source": [
        "leads_df_dum = leads_df_dum.drop(['City','Lead Origin', 'Lead Source', 'Do Not Email', 'Do Not Call','Last Activity', 'Specialization', 'What is your current occupation','What matters most to you in choosing a course', 'Search','Newspaper Article', 'X Education Forums', 'Newspaper','Digital Advertisement', 'Through Recommendations','A free copy of Mastering The Interview', 'Last Notable Activity'], 1)\n",
        "leads_df_dum"
      ]
    },
    {
      "cell_type": "markdown",
      "id": "d623002d",
      "metadata": {
        "id": "d623002d"
      },
      "source": [
        "## Train Test Split"
      ]
    },
    {
      "cell_type": "code",
      "execution_count": null,
      "id": "96dac365",
      "metadata": {
        "id": "96dac365"
      },
      "outputs": [],
      "source": [
        " # Importing the required library\n",
        "from sklearn.model_selection import train_test_split"
      ]
    },
    {
      "cell_type": "code",
      "execution_count": null,
      "id": "8767761b",
      "metadata": {
        "id": "8767761b",
        "outputId": "e057fdb0-326b-4b43-b17a-b158e7bdf53b"
      },
      "outputs": [
        {
          "data": {
            "text/html": [
              "<div>\n",
              "<style scoped>\n",
              "    .dataframe tbody tr th:only-of-type {\n",
              "        vertical-align: middle;\n",
              "    }\n",
              "\n",
              "    .dataframe tbody tr th {\n",
              "        vertical-align: top;\n",
              "    }\n",
              "\n",
              "    .dataframe thead th {\n",
              "        text-align: right;\n",
              "    }\n",
              "</style>\n",
              "<table border=\"1\" class=\"dataframe\">\n",
              "  <thead>\n",
              "    <tr style=\"text-align: right;\">\n",
              "      <th></th>\n",
              "      <th>TotalVisits</th>\n",
              "      <th>Total Time Spent on Website</th>\n",
              "      <th>Page Views Per Visit</th>\n",
              "      <th>Lead Origin_Landing Page Submission</th>\n",
              "      <th>Lead Origin_Lead Add Form</th>\n",
              "      <th>Lead Origin_Lead Import</th>\n",
              "      <th>Specialization_Business Administration</th>\n",
              "      <th>Specialization_E-Business</th>\n",
              "      <th>Specialization_E-COMMERCE</th>\n",
              "      <th>Specialization_Finance Management</th>\n",
              "      <th>...</th>\n",
              "      <th>Last Notable Activity_Form Submitted on Website</th>\n",
              "      <th>Last Notable Activity_Had a Phone Conversation</th>\n",
              "      <th>Last Notable Activity_Modified</th>\n",
              "      <th>Last Notable Activity_Olark Chat Conversation</th>\n",
              "      <th>Last Notable Activity_Page Visited on Website</th>\n",
              "      <th>Last Notable Activity_Resubscribed to emails</th>\n",
              "      <th>Last Notable Activity_SMS Sent</th>\n",
              "      <th>Last Notable Activity_Unreachable</th>\n",
              "      <th>Last Notable Activity_Unsubscribed</th>\n",
              "      <th>Last Notable Activity_View in browser link Clicked</th>\n",
              "    </tr>\n",
              "  </thead>\n",
              "  <tbody>\n",
              "    <tr>\n",
              "      <th>0</th>\n",
              "      <td>0.0</td>\n",
              "      <td>0</td>\n",
              "      <td>0.0</td>\n",
              "      <td>0</td>\n",
              "      <td>0</td>\n",
              "      <td>0</td>\n",
              "      <td>0</td>\n",
              "      <td>0</td>\n",
              "      <td>0</td>\n",
              "      <td>0</td>\n",
              "      <td>...</td>\n",
              "      <td>0</td>\n",
              "      <td>0</td>\n",
              "      <td>1</td>\n",
              "      <td>0</td>\n",
              "      <td>0</td>\n",
              "      <td>0</td>\n",
              "      <td>0</td>\n",
              "      <td>0</td>\n",
              "      <td>0</td>\n",
              "      <td>0</td>\n",
              "    </tr>\n",
              "    <tr>\n",
              "      <th>1</th>\n",
              "      <td>5.0</td>\n",
              "      <td>674</td>\n",
              "      <td>2.5</td>\n",
              "      <td>0</td>\n",
              "      <td>0</td>\n",
              "      <td>0</td>\n",
              "      <td>0</td>\n",
              "      <td>0</td>\n",
              "      <td>0</td>\n",
              "      <td>0</td>\n",
              "      <td>...</td>\n",
              "      <td>0</td>\n",
              "      <td>0</td>\n",
              "      <td>0</td>\n",
              "      <td>0</td>\n",
              "      <td>0</td>\n",
              "      <td>0</td>\n",
              "      <td>0</td>\n",
              "      <td>0</td>\n",
              "      <td>0</td>\n",
              "      <td>0</td>\n",
              "    </tr>\n",
              "    <tr>\n",
              "      <th>2</th>\n",
              "      <td>2.0</td>\n",
              "      <td>1532</td>\n",
              "      <td>2.0</td>\n",
              "      <td>1</td>\n",
              "      <td>0</td>\n",
              "      <td>0</td>\n",
              "      <td>1</td>\n",
              "      <td>0</td>\n",
              "      <td>0</td>\n",
              "      <td>0</td>\n",
              "      <td>...</td>\n",
              "      <td>0</td>\n",
              "      <td>0</td>\n",
              "      <td>0</td>\n",
              "      <td>0</td>\n",
              "      <td>0</td>\n",
              "      <td>0</td>\n",
              "      <td>0</td>\n",
              "      <td>0</td>\n",
              "      <td>0</td>\n",
              "      <td>0</td>\n",
              "    </tr>\n",
              "    <tr>\n",
              "      <th>3</th>\n",
              "      <td>1.0</td>\n",
              "      <td>305</td>\n",
              "      <td>1.0</td>\n",
              "      <td>1</td>\n",
              "      <td>0</td>\n",
              "      <td>0</td>\n",
              "      <td>0</td>\n",
              "      <td>0</td>\n",
              "      <td>0</td>\n",
              "      <td>0</td>\n",
              "      <td>...</td>\n",
              "      <td>0</td>\n",
              "      <td>0</td>\n",
              "      <td>1</td>\n",
              "      <td>0</td>\n",
              "      <td>0</td>\n",
              "      <td>0</td>\n",
              "      <td>0</td>\n",
              "      <td>0</td>\n",
              "      <td>0</td>\n",
              "      <td>0</td>\n",
              "    </tr>\n",
              "    <tr>\n",
              "      <th>4</th>\n",
              "      <td>2.0</td>\n",
              "      <td>1428</td>\n",
              "      <td>1.0</td>\n",
              "      <td>1</td>\n",
              "      <td>0</td>\n",
              "      <td>0</td>\n",
              "      <td>0</td>\n",
              "      <td>0</td>\n",
              "      <td>0</td>\n",
              "      <td>0</td>\n",
              "      <td>...</td>\n",
              "      <td>0</td>\n",
              "      <td>0</td>\n",
              "      <td>1</td>\n",
              "      <td>0</td>\n",
              "      <td>0</td>\n",
              "      <td>0</td>\n",
              "      <td>0</td>\n",
              "      <td>0</td>\n",
              "      <td>0</td>\n",
              "      <td>0</td>\n",
              "    </tr>\n",
              "  </tbody>\n",
              "</table>\n",
              "<p>5 rows × 83 columns</p>\n",
              "</div>"
            ],
            "text/plain": [
              "   TotalVisits  Total Time Spent on Website  Page Views Per Visit  \\\n",
              "0          0.0                            0                   0.0   \n",
              "1          5.0                          674                   2.5   \n",
              "2          2.0                         1532                   2.0   \n",
              "3          1.0                          305                   1.0   \n",
              "4          2.0                         1428                   1.0   \n",
              "\n",
              "   Lead Origin_Landing Page Submission  Lead Origin_Lead Add Form  \\\n",
              "0                                    0                          0   \n",
              "1                                    0                          0   \n",
              "2                                    1                          0   \n",
              "3                                    1                          0   \n",
              "4                                    1                          0   \n",
              "\n",
              "   Lead Origin_Lead Import  Specialization_Business Administration  \\\n",
              "0                        0                                       0   \n",
              "1                        0                                       0   \n",
              "2                        0                                       1   \n",
              "3                        0                                       0   \n",
              "4                        0                                       0   \n",
              "\n",
              "   Specialization_E-Business  Specialization_E-COMMERCE  \\\n",
              "0                          0                          0   \n",
              "1                          0                          0   \n",
              "2                          0                          0   \n",
              "3                          0                          0   \n",
              "4                          0                          0   \n",
              "\n",
              "   Specialization_Finance Management  ...  \\\n",
              "0                                  0  ...   \n",
              "1                                  0  ...   \n",
              "2                                  0  ...   \n",
              "3                                  0  ...   \n",
              "4                                  0  ...   \n",
              "\n",
              "   Last Notable Activity_Form Submitted on Website  \\\n",
              "0                                                0   \n",
              "1                                                0   \n",
              "2                                                0   \n",
              "3                                                0   \n",
              "4                                                0   \n",
              "\n",
              "   Last Notable Activity_Had a Phone Conversation  \\\n",
              "0                                               0   \n",
              "1                                               0   \n",
              "2                                               0   \n",
              "3                                               0   \n",
              "4                                               0   \n",
              "\n",
              "   Last Notable Activity_Modified  \\\n",
              "0                               1   \n",
              "1                               0   \n",
              "2                               0   \n",
              "3                               1   \n",
              "4                               1   \n",
              "\n",
              "   Last Notable Activity_Olark Chat Conversation  \\\n",
              "0                                              0   \n",
              "1                                              0   \n",
              "2                                              0   \n",
              "3                                              0   \n",
              "4                                              0   \n",
              "\n",
              "   Last Notable Activity_Page Visited on Website  \\\n",
              "0                                              0   \n",
              "1                                              0   \n",
              "2                                              0   \n",
              "3                                              0   \n",
              "4                                              0   \n",
              "\n",
              "   Last Notable Activity_Resubscribed to emails  \\\n",
              "0                                             0   \n",
              "1                                             0   \n",
              "2                                             0   \n",
              "3                                             0   \n",
              "4                                             0   \n",
              "\n",
              "   Last Notable Activity_SMS Sent  Last Notable Activity_Unreachable  \\\n",
              "0                               0                                  0   \n",
              "1                               0                                  0   \n",
              "2                               0                                  0   \n",
              "3                               0                                  0   \n",
              "4                               0                                  0   \n",
              "\n",
              "   Last Notable Activity_Unsubscribed  \\\n",
              "0                                   0   \n",
              "1                                   0   \n",
              "2                                   0   \n",
              "3                                   0   \n",
              "4                                   0   \n",
              "\n",
              "   Last Notable Activity_View in browser link Clicked  \n",
              "0                                                  0   \n",
              "1                                                  0   \n",
              "2                                                  0   \n",
              "3                                                  0   \n",
              "4                                                  0   \n",
              "\n",
              "[5 rows x 83 columns]"
            ]
          },
          "execution_count": 302,
          "metadata": {},
          "output_type": "execute_result"
        }
      ],
      "source": [
        "X = leads_df_dum.drop(['Converted'], 1)\n",
        "X.head()"
      ]
    },
    {
      "cell_type": "code",
      "execution_count": null,
      "id": "3f1a048b",
      "metadata": {
        "id": "3f1a048b",
        "outputId": "7e79ca5f-0f67-4840-88c8-c4c12f81c596"
      },
      "outputs": [
        {
          "data": {
            "text/plain": [
              "0    0\n",
              "1    0\n",
              "2    1\n",
              "3    0\n",
              "4    1\n",
              "Name: Converted, dtype: int64"
            ]
          },
          "execution_count": 303,
          "metadata": {},
          "output_type": "execute_result"
        }
      ],
      "source": [
        "y = leads_df_dum['Converted']\n",
        "y.head()\n"
      ]
    },
    {
      "cell_type": "code",
      "execution_count": null,
      "id": "9c7f1bdd",
      "metadata": {
        "id": "9c7f1bdd"
      },
      "outputs": [],
      "source": [
        "# Dataset split into 70% train and 30% test.\n",
        "\n",
        "X_train, X_test, y_train, y_test = train_test_split(X, y, train_size=0.7, test_size=0.3, random_state=10)"
      ]
    },
    {
      "cell_type": "code",
      "execution_count": null,
      "id": "1f0bf3f6",
      "metadata": {
        "id": "1f0bf3f6",
        "outputId": "1fd7d2b3-6146-41d4-cd12-5436cd9d5652"
      },
      "outputs": [
        {
          "data": {
            "text/html": [
              "<div>\n",
              "<style scoped>\n",
              "    .dataframe tbody tr th:only-of-type {\n",
              "        vertical-align: middle;\n",
              "    }\n",
              "\n",
              "    .dataframe tbody tr th {\n",
              "        vertical-align: top;\n",
              "    }\n",
              "\n",
              "    .dataframe thead th {\n",
              "        text-align: right;\n",
              "    }\n",
              "</style>\n",
              "<table border=\"1\" class=\"dataframe\">\n",
              "  <thead>\n",
              "    <tr style=\"text-align: right;\">\n",
              "      <th></th>\n",
              "      <th>TotalVisits</th>\n",
              "      <th>Total Time Spent on Website</th>\n",
              "      <th>Page Views Per Visit</th>\n",
              "      <th>Lead Origin_Landing Page Submission</th>\n",
              "      <th>Lead Origin_Lead Add Form</th>\n",
              "      <th>Lead Origin_Lead Import</th>\n",
              "      <th>Specialization_Business Administration</th>\n",
              "      <th>Specialization_E-Business</th>\n",
              "      <th>Specialization_E-COMMERCE</th>\n",
              "      <th>Specialization_Finance Management</th>\n",
              "      <th>...</th>\n",
              "      <th>Last Notable Activity_Form Submitted on Website</th>\n",
              "      <th>Last Notable Activity_Had a Phone Conversation</th>\n",
              "      <th>Last Notable Activity_Modified</th>\n",
              "      <th>Last Notable Activity_Olark Chat Conversation</th>\n",
              "      <th>Last Notable Activity_Page Visited on Website</th>\n",
              "      <th>Last Notable Activity_Resubscribed to emails</th>\n",
              "      <th>Last Notable Activity_SMS Sent</th>\n",
              "      <th>Last Notable Activity_Unreachable</th>\n",
              "      <th>Last Notable Activity_Unsubscribed</th>\n",
              "      <th>Last Notable Activity_View in browser link Clicked</th>\n",
              "    </tr>\n",
              "  </thead>\n",
              "  <tbody>\n",
              "    <tr>\n",
              "      <th>3523</th>\n",
              "      <td>0.117647</td>\n",
              "      <td>0.057218</td>\n",
              "      <td>0.0625</td>\n",
              "      <td>0</td>\n",
              "      <td>0</td>\n",
              "      <td>0</td>\n",
              "      <td>1</td>\n",
              "      <td>0</td>\n",
              "      <td>0</td>\n",
              "      <td>0</td>\n",
              "      <td>...</td>\n",
              "      <td>0</td>\n",
              "      <td>0</td>\n",
              "      <td>1</td>\n",
              "      <td>0</td>\n",
              "      <td>0</td>\n",
              "      <td>0</td>\n",
              "      <td>0</td>\n",
              "      <td>0</td>\n",
              "      <td>0</td>\n",
              "      <td>0</td>\n",
              "    </tr>\n",
              "    <tr>\n",
              "      <th>3267</th>\n",
              "      <td>0.000000</td>\n",
              "      <td>0.000000</td>\n",
              "      <td>0.0000</td>\n",
              "      <td>0</td>\n",
              "      <td>1</td>\n",
              "      <td>0</td>\n",
              "      <td>0</td>\n",
              "      <td>0</td>\n",
              "      <td>0</td>\n",
              "      <td>0</td>\n",
              "      <td>...</td>\n",
              "      <td>0</td>\n",
              "      <td>0</td>\n",
              "      <td>0</td>\n",
              "      <td>0</td>\n",
              "      <td>0</td>\n",
              "      <td>0</td>\n",
              "      <td>1</td>\n",
              "      <td>0</td>\n",
              "      <td>0</td>\n",
              "      <td>0</td>\n",
              "    </tr>\n",
              "    <tr>\n",
              "      <th>5653</th>\n",
              "      <td>0.117647</td>\n",
              "      <td>0.404049</td>\n",
              "      <td>0.1250</td>\n",
              "      <td>1</td>\n",
              "      <td>0</td>\n",
              "      <td>0</td>\n",
              "      <td>0</td>\n",
              "      <td>0</td>\n",
              "      <td>0</td>\n",
              "      <td>0</td>\n",
              "      <td>...</td>\n",
              "      <td>0</td>\n",
              "      <td>0</td>\n",
              "      <td>0</td>\n",
              "      <td>0</td>\n",
              "      <td>0</td>\n",
              "      <td>0</td>\n",
              "      <td>0</td>\n",
              "      <td>0</td>\n",
              "      <td>0</td>\n",
              "      <td>0</td>\n",
              "    </tr>\n",
              "    <tr>\n",
              "      <th>5072</th>\n",
              "      <td>0.000000</td>\n",
              "      <td>0.000000</td>\n",
              "      <td>0.0000</td>\n",
              "      <td>0</td>\n",
              "      <td>0</td>\n",
              "      <td>0</td>\n",
              "      <td>0</td>\n",
              "      <td>0</td>\n",
              "      <td>0</td>\n",
              "      <td>0</td>\n",
              "      <td>...</td>\n",
              "      <td>0</td>\n",
              "      <td>0</td>\n",
              "      <td>0</td>\n",
              "      <td>0</td>\n",
              "      <td>0</td>\n",
              "      <td>0</td>\n",
              "      <td>0</td>\n",
              "      <td>0</td>\n",
              "      <td>0</td>\n",
              "      <td>0</td>\n",
              "    </tr>\n",
              "    <tr>\n",
              "      <th>3704</th>\n",
              "      <td>0.235294</td>\n",
              "      <td>0.043134</td>\n",
              "      <td>0.2500</td>\n",
              "      <td>1</td>\n",
              "      <td>0</td>\n",
              "      <td>0</td>\n",
              "      <td>0</td>\n",
              "      <td>0</td>\n",
              "      <td>0</td>\n",
              "      <td>0</td>\n",
              "      <td>...</td>\n",
              "      <td>0</td>\n",
              "      <td>0</td>\n",
              "      <td>0</td>\n",
              "      <td>0</td>\n",
              "      <td>0</td>\n",
              "      <td>0</td>\n",
              "      <td>0</td>\n",
              "      <td>0</td>\n",
              "      <td>0</td>\n",
              "      <td>0</td>\n",
              "    </tr>\n",
              "  </tbody>\n",
              "</table>\n",
              "<p>5 rows × 83 columns</p>\n",
              "</div>"
            ],
            "text/plain": [
              "      TotalVisits  Total Time Spent on Website  Page Views Per Visit  \\\n",
              "3523     0.117647                     0.057218                0.0625   \n",
              "3267     0.000000                     0.000000                0.0000   \n",
              "5653     0.117647                     0.404049                0.1250   \n",
              "5072     0.000000                     0.000000                0.0000   \n",
              "3704     0.235294                     0.043134                0.2500   \n",
              "\n",
              "      Lead Origin_Landing Page Submission  Lead Origin_Lead Add Form  \\\n",
              "3523                                    0                          0   \n",
              "3267                                    0                          1   \n",
              "5653                                    1                          0   \n",
              "5072                                    0                          0   \n",
              "3704                                    1                          0   \n",
              "\n",
              "      Lead Origin_Lead Import  Specialization_Business Administration  \\\n",
              "3523                        0                                       1   \n",
              "3267                        0                                       0   \n",
              "5653                        0                                       0   \n",
              "5072                        0                                       0   \n",
              "3704                        0                                       0   \n",
              "\n",
              "      Specialization_E-Business  Specialization_E-COMMERCE  \\\n",
              "3523                          0                          0   \n",
              "3267                          0                          0   \n",
              "5653                          0                          0   \n",
              "5072                          0                          0   \n",
              "3704                          0                          0   \n",
              "\n",
              "      Specialization_Finance Management  ...  \\\n",
              "3523                                  0  ...   \n",
              "3267                                  0  ...   \n",
              "5653                                  0  ...   \n",
              "5072                                  0  ...   \n",
              "3704                                  0  ...   \n",
              "\n",
              "      Last Notable Activity_Form Submitted on Website  \\\n",
              "3523                                                0   \n",
              "3267                                                0   \n",
              "5653                                                0   \n",
              "5072                                                0   \n",
              "3704                                                0   \n",
              "\n",
              "      Last Notable Activity_Had a Phone Conversation  \\\n",
              "3523                                               0   \n",
              "3267                                               0   \n",
              "5653                                               0   \n",
              "5072                                               0   \n",
              "3704                                               0   \n",
              "\n",
              "      Last Notable Activity_Modified  \\\n",
              "3523                               1   \n",
              "3267                               0   \n",
              "5653                               0   \n",
              "5072                               0   \n",
              "3704                               0   \n",
              "\n",
              "      Last Notable Activity_Olark Chat Conversation  \\\n",
              "3523                                              0   \n",
              "3267                                              0   \n",
              "5653                                              0   \n",
              "5072                                              0   \n",
              "3704                                              0   \n",
              "\n",
              "      Last Notable Activity_Page Visited on Website  \\\n",
              "3523                                              0   \n",
              "3267                                              0   \n",
              "5653                                              0   \n",
              "5072                                              0   \n",
              "3704                                              0   \n",
              "\n",
              "      Last Notable Activity_Resubscribed to emails  \\\n",
              "3523                                             0   \n",
              "3267                                             0   \n",
              "5653                                             0   \n",
              "5072                                             0   \n",
              "3704                                             0   \n",
              "\n",
              "      Last Notable Activity_SMS Sent  Last Notable Activity_Unreachable  \\\n",
              "3523                               0                                  0   \n",
              "3267                               1                                  0   \n",
              "5653                               0                                  0   \n",
              "5072                               0                                  0   \n",
              "3704                               0                                  0   \n",
              "\n",
              "      Last Notable Activity_Unsubscribed  \\\n",
              "3523                                   0   \n",
              "3267                                   0   \n",
              "5653                                   0   \n",
              "5072                                   0   \n",
              "3704                                   0   \n",
              "\n",
              "      Last Notable Activity_View in browser link Clicked  \n",
              "3523                                                  0   \n",
              "3267                                                  0   \n",
              "5653                                                  0   \n",
              "5072                                                  0   \n",
              "3704                                                  0   \n",
              "\n",
              "[5 rows x 83 columns]"
            ]
          },
          "execution_count": 305,
          "metadata": {},
          "output_type": "execute_result"
        }
      ],
      "source": [
        "# Import MinMax scaler\n",
        "from sklearn.preprocessing import MinMaxScaler\n",
        "\n",
        "# Scaling the three numeric features\n",
        "scaler = MinMaxScaler()\n",
        "X_train[['TotalVisits', 'Page Views Per Visit', 'Total Time Spent on Website']] = scaler.fit_transform(X_train[['TotalVisits', 'Page Views Per Visit', 'Total Time Spent on Website']])\n",
        "X_train.head()"
      ]
    },
    {
      "cell_type": "markdown",
      "id": "be6d3298",
      "metadata": {
        "id": "be6d3298"
      },
      "source": [
        "# Building the Model"
      ]
    },
    {
      "cell_type": "code",
      "execution_count": null,
      "id": "15ff68dd",
      "metadata": {
        "id": "15ff68dd"
      },
      "outputs": [],
      "source": [
        "# Importing 'LogisticRegression'\n",
        "\n",
        "from sklearn.linear_model import LogisticRegression\n",
        "lr = LogisticRegression()"
      ]
    },
    {
      "cell_type": "code",
      "execution_count": null,
      "id": "4366dd31",
      "metadata": {
        "id": "4366dd31"
      },
      "outputs": [],
      "source": [
        "# Import RFE\n",
        "from sklearn.feature_selection import RFE"
      ]
    },
    {
      "cell_type": "code",
      "execution_count": null,
      "id": "376654da",
      "metadata": {
        "id": "376654da"
      },
      "outputs": [],
      "source": [
        "# Running RFE with 15 variables as output\n",
        "rfe = RFE(lr, n_features_to_select=15)\n",
        "rfe = rfe.fit(X_train, y_train)"
      ]
    },
    {
      "cell_type": "code",
      "execution_count": null,
      "id": "6ed1e2e6",
      "metadata": {
        "id": "6ed1e2e6",
        "outputId": "095fe551-99fe-42b6-f3f2-779b4a71e71d"
      },
      "outputs": [
        {
          "data": {
            "text/plain": [
              "[('TotalVisits', True, 1),\n",
              " ('Total Time Spent on Website', True, 1),\n",
              " ('Page Views Per Visit', True, 1),\n",
              " ('Lead Origin_Landing Page Submission', False, 5),\n",
              " ('Lead Origin_Lead Add Form', True, 1),\n",
              " ('Lead Origin_Lead Import', False, 40),\n",
              " ('Specialization_Business Administration', False, 63),\n",
              " ('Specialization_E-Business', False, 31),\n",
              " ('Specialization_E-COMMERCE', False, 60),\n",
              " ('Specialization_Finance Management', False, 44),\n",
              " ('Specialization_Healthcare Management', False, 54),\n",
              " ('Specialization_Hospitality Management', False, 25),\n",
              " ('Specialization_Human Resource Management', False, 65),\n",
              " ('Specialization_IT Projects Management', False, 59),\n",
              " ('Specialization_International Business', False, 62),\n",
              " ('Specialization_Marketing Management', False, 45),\n",
              " ('Specialization_Media and Advertising', False, 26),\n",
              " ('Specialization_Operations Management', False, 52),\n",
              " ('Specialization_Retail Management', False, 20),\n",
              " ('Specialization_Rural and Agribusiness', False, 64),\n",
              " ('Specialization_Services Excellence', False, 42),\n",
              " ('Specialization_Supply Chain Management', False, 61),\n",
              " ('Specialization_Travel and Tourism', False, 56),\n",
              " ('Specialization_not_provided', False, 6),\n",
              " ('Lead Source_Direct Traffic', False, 16),\n",
              " ('Lead Source_Facebook', False, 41),\n",
              " ('Lead Source_Google', False, 19),\n",
              " ('Lead Source_Live Chat', False, 55),\n",
              " ('Lead Source_NC_EDM', False, 22),\n",
              " ('Lead Source_Olark Chat', True, 1),\n",
              " ('Lead Source_Organic Search', False, 17),\n",
              " ('Lead Source_Pay per Click Ads', False, 35),\n",
              " ('Lead Source_Press_Release', False, 53),\n",
              " ('Lead Source_Reference', False, 27),\n",
              " ('Lead Source_Referral Sites', False, 18),\n",
              " ('Lead Source_Social Media', False, 21),\n",
              " ('Lead Source_WeLearn', False, 32),\n",
              " ('Lead Source_Welingak Website', True, 1),\n",
              " ('Lead Source_bing', False, 46),\n",
              " ('Lead Source_blog', False, 33),\n",
              " ('Lead Source_google', False, 29),\n",
              " ('Lead Source_testone', False, 34),\n",
              " ('Lead Source_welearnblog_Home', False, 68),\n",
              " ('Lead Source_youtubechannel', False, 67),\n",
              " ('Do Not Email_Yes', True, 1),\n",
              " ('Last Activity_Converted to Lead', False, 7),\n",
              " ('Last Activity_Email Bounced', False, 2),\n",
              " ('Last Activity_Email Link Clicked', False, 50),\n",
              " ('Last Activity_Email Marked Spam', False, 28),\n",
              " ('Last Activity_Email Opened', False, 36),\n",
              " ('Last Activity_Email Received', False, 51),\n",
              " ('Last Activity_Form Submitted on Website', False, 8),\n",
              " ('Last Activity_Had a Phone Conversation', False, 14),\n",
              " ('Last Activity_Olark Chat Conversation', True, 1),\n",
              " ('Last Activity_Page Visited on Website', False, 9),\n",
              " ('Last Activity_Resubscribed to emails', False, 15),\n",
              " ('Last Activity_SMS Sent', False, 13),\n",
              " ('Last Activity_Unreachable', False, 10),\n",
              " ('Last Activity_Unsubscribed', False, 49),\n",
              " ('Last Activity_View in browser link Clicked', False, 48),\n",
              " ('Last Activity_Visited Booth in Tradeshow', False, 47),\n",
              " ('What is your current occupation_Housewife', True, 1),\n",
              " ('What is your current occupation_Other', False, 66),\n",
              " ('What is your current occupation_Student', False, 23),\n",
              " ('What is your current occupation_Unemployed', False, 24),\n",
              " ('What is your current occupation_Working Professional', True, 1),\n",
              " ('What is your current occupation_not_provided', False, 3),\n",
              " ('A free copy of Mastering The Interview_Yes', False, 43),\n",
              " ('Last Notable Activity_Email Bounced', False, 39),\n",
              " ('Last Notable Activity_Email Link Clicked', True, 1),\n",
              " ('Last Notable Activity_Email Marked Spam', False, 30),\n",
              " ('Last Notable Activity_Email Opened', True, 1),\n",
              " ('Last Notable Activity_Email Received', False, 57),\n",
              " ('Last Notable Activity_Form Submitted on Website', False, 58),\n",
              " ('Last Notable Activity_Had a Phone Conversation', False, 4),\n",
              " ('Last Notable Activity_Modified', True, 1),\n",
              " ('Last Notable Activity_Olark Chat Conversation', True, 1),\n",
              " ('Last Notable Activity_Page Visited on Website', True, 1),\n",
              " ('Last Notable Activity_Resubscribed to emails', False, 11),\n",
              " ('Last Notable Activity_SMS Sent', False, 38),\n",
              " ('Last Notable Activity_Unreachable', False, 12),\n",
              " ('Last Notable Activity_Unsubscribed', False, 37),\n",
              " ('Last Notable Activity_View in browser link Clicked', False, 69)]"
            ]
          },
          "execution_count": 309,
          "metadata": {},
          "output_type": "execute_result"
        }
      ],
      "source": [
        "# List of features\n",
        "\n",
        "list(zip(X_train.columns, rfe.support_, rfe.ranking_))"
      ]
    },
    {
      "cell_type": "code",
      "execution_count": null,
      "id": "6a5bf318",
      "metadata": {
        "id": "6a5bf318"
      },
      "outputs": [],
      "source": [
        "# Put all the columns selected by RFE in the variable 'col'\n",
        "cols = X_train.columns[rfe.support_]"
      ]
    },
    {
      "cell_type": "code",
      "execution_count": null,
      "id": "25db1171",
      "metadata": {
        "id": "25db1171"
      },
      "outputs": [],
      "source": [
        "# Selecting columns selected by RFE\n",
        "X_train = X_train[cols]\n"
      ]
    },
    {
      "cell_type": "code",
      "execution_count": null,
      "id": "09683fdc",
      "metadata": {
        "id": "09683fdc",
        "outputId": "d0cfaea2-0ace-4550-c7e0-050d8d271d50"
      },
      "outputs": [
        {
          "data": {
            "text/plain": [
              "Index(['TotalVisits', 'Total Time Spent on Website', 'Page Views Per Visit',\n",
              "       'Lead Origin_Lead Add Form', 'Lead Source_Olark Chat',\n",
              "       'Lead Source_Welingak Website', 'Do Not Email_Yes',\n",
              "       'Last Activity_Olark Chat Conversation',\n",
              "       'What is your current occupation_Housewife',\n",
              "       'What is your current occupation_Working Professional',\n",
              "       'Last Notable Activity_Email Link Clicked',\n",
              "       'Last Notable Activity_Email Opened', 'Last Notable Activity_Modified',\n",
              "       'Last Notable Activity_Olark Chat Conversation',\n",
              "       'Last Notable Activity_Page Visited on Website'],\n",
              "      dtype='object')"
            ]
          },
          "execution_count": 312,
          "metadata": {},
          "output_type": "execute_result"
        }
      ],
      "source": [
        "X_train.columns"
      ]
    },
    {
      "cell_type": "code",
      "execution_count": null,
      "id": "0336ce38",
      "metadata": {
        "id": "0336ce38"
      },
      "outputs": [],
      "source": [
        "# Importing statsmodels\n",
        "import statsmodels.api as sm\n"
      ]
    },
    {
      "cell_type": "code",
      "execution_count": null,
      "id": "fa9f6ca8",
      "metadata": {
        "id": "fa9f6ca8",
        "outputId": "595676f4-7a05-4b35-9bd7-9bc6cdee282b"
      },
      "outputs": [
        {
          "data": {
            "text/html": [
              "<table class=\"simpletable\">\n",
              "<caption>Generalized Linear Model Regression Results</caption>\n",
              "<tr>\n",
              "  <th>Dep. Variable:</th>       <td>Converted</td>    <th>  No. Observations:  </th>  <td>  6293</td> \n",
              "</tr>\n",
              "<tr>\n",
              "  <th>Model:</th>                  <td>GLM</td>       <th>  Df Residuals:      </th>  <td>  6277</td> \n",
              "</tr>\n",
              "<tr>\n",
              "  <th>Model Family:</th>        <td>Binomial</td>     <th>  Df Model:          </th>  <td>    15</td> \n",
              "</tr>\n",
              "<tr>\n",
              "  <th>Link Function:</th>         <td>Logit</td>      <th>  Scale:             </th> <td>  1.0000</td>\n",
              "</tr>\n",
              "<tr>\n",
              "  <th>Method:</th>                <td>IRLS</td>       <th>  Log-Likelihood:    </th> <td> -2594.6</td>\n",
              "</tr>\n",
              "<tr>\n",
              "  <th>Date:</th>            <td>Tue, 28 Feb 2023</td> <th>  Deviance:          </th> <td>  5189.2</td>\n",
              "</tr>\n",
              "<tr>\n",
              "  <th>Time:</th>                <td>14:43:27</td>     <th>  Pearson chi2:      </th> <td>6.56e+03</td>\n",
              "</tr>\n",
              "<tr>\n",
              "  <th>No. Iterations:</th>         <td>21</td>        <th>  Pseudo R-squ. (CS):</th>  <td>0.3943</td> \n",
              "</tr>\n",
              "<tr>\n",
              "  <th>Covariance Type:</th>     <td>nonrobust</td>    <th>                     </th>     <td> </td>   \n",
              "</tr>\n",
              "</table>\n",
              "<table class=\"simpletable\">\n",
              "<tr>\n",
              "                            <td></td>                              <th>coef</th>     <th>std err</th>      <th>z</th>      <th>P>|z|</th>  <th>[0.025</th>    <th>0.975]</th>  \n",
              "</tr>\n",
              "<tr>\n",
              "  <th>const</th>                                                <td>   -0.9203</td> <td>    0.112</td> <td>   -8.198</td> <td> 0.000</td> <td>   -1.140</td> <td>   -0.700</td>\n",
              "</tr>\n",
              "<tr>\n",
              "  <th>TotalVisits</th>                                          <td>    1.9197</td> <td>    0.297</td> <td>    6.470</td> <td> 0.000</td> <td>    1.338</td> <td>    2.501</td>\n",
              "</tr>\n",
              "<tr>\n",
              "  <th>Total Time Spent on Website</th>                          <td>    4.6860</td> <td>    0.169</td> <td>   27.710</td> <td> 0.000</td> <td>    4.355</td> <td>    5.017</td>\n",
              "</tr>\n",
              "<tr>\n",
              "  <th>Page Views Per Visit</th>                                 <td>   -1.9973</td> <td>    0.440</td> <td>   -4.534</td> <td> 0.000</td> <td>   -2.861</td> <td>   -1.134</td>\n",
              "</tr>\n",
              "<tr>\n",
              "  <th>Lead Origin_Lead Add Form</th>                            <td>    4.3894</td> <td>    0.262</td> <td>   16.761</td> <td> 0.000</td> <td>    3.876</td> <td>    4.903</td>\n",
              "</tr>\n",
              "<tr>\n",
              "  <th>Lead Source_Olark Chat</th>                               <td>    1.3239</td> <td>    0.125</td> <td>   10.602</td> <td> 0.000</td> <td>    1.079</td> <td>    1.569</td>\n",
              "</tr>\n",
              "<tr>\n",
              "  <th>Lead Source_Welingak Website</th>                         <td>    2.4919</td> <td>    1.043</td> <td>    2.390</td> <td> 0.017</td> <td>    0.449</td> <td>    4.535</td>\n",
              "</tr>\n",
              "<tr>\n",
              "  <th>Do Not Email_Yes</th>                                     <td>   -1.8023</td> <td>    0.178</td> <td>  -10.153</td> <td> 0.000</td> <td>   -2.150</td> <td>   -1.454</td>\n",
              "</tr>\n",
              "<tr>\n",
              "  <th>Last Activity_Olark Chat Conversation</th>                <td>   -1.2806</td> <td>    0.193</td> <td>   -6.633</td> <td> 0.000</td> <td>   -1.659</td> <td>   -0.902</td>\n",
              "</tr>\n",
              "<tr>\n",
              "  <th>What is your current occupation_Housewife</th>            <td>   22.3996</td> <td> 1.75e+04</td> <td>    0.001</td> <td> 0.999</td> <td>-3.43e+04</td> <td> 3.43e+04</td>\n",
              "</tr>\n",
              "<tr>\n",
              "  <th>What is your current occupation_Working Professional</th> <td>    2.7658</td> <td>    0.190</td> <td>   14.533</td> <td> 0.000</td> <td>    2.393</td> <td>    3.139</td>\n",
              "</tr>\n",
              "<tr>\n",
              "  <th>Last Notable Activity_Email Link Clicked</th>             <td>   -2.0941</td> <td>    0.264</td> <td>   -7.918</td> <td> 0.000</td> <td>   -2.612</td> <td>   -1.576</td>\n",
              "</tr>\n",
              "<tr>\n",
              "  <th>Last Notable Activity_Email Opened</th>                   <td>   -1.4257</td> <td>    0.089</td> <td>  -15.969</td> <td> 0.000</td> <td>   -1.601</td> <td>   -1.251</td>\n",
              "</tr>\n",
              "<tr>\n",
              "  <th>Last Notable Activity_Modified</th>                       <td>   -1.8460</td> <td>    0.098</td> <td>  -18.811</td> <td> 0.000</td> <td>   -2.038</td> <td>   -1.654</td>\n",
              "</tr>\n",
              "<tr>\n",
              "  <th>Last Notable Activity_Olark Chat Conversation</th>        <td>   -1.5957</td> <td>    0.370</td> <td>   -4.316</td> <td> 0.000</td> <td>   -2.320</td> <td>   -0.871</td>\n",
              "</tr>\n",
              "<tr>\n",
              "  <th>Last Notable Activity_Page Visited on Website</th>        <td>   -2.1194</td> <td>    0.216</td> <td>   -9.823</td> <td> 0.000</td> <td>   -2.542</td> <td>   -1.697</td>\n",
              "</tr>\n",
              "</table>"
            ],
            "text/plain": [
              "<class 'statsmodels.iolib.summary.Summary'>\n",
              "\"\"\"\n",
              "                 Generalized Linear Model Regression Results                  \n",
              "==============================================================================\n",
              "Dep. Variable:              Converted   No. Observations:                 6293\n",
              "Model:                            GLM   Df Residuals:                     6277\n",
              "Model Family:                Binomial   Df Model:                           15\n",
              "Link Function:                  Logit   Scale:                          1.0000\n",
              "Method:                          IRLS   Log-Likelihood:                -2594.6\n",
              "Date:                Tue, 28 Feb 2023   Deviance:                       5189.2\n",
              "Time:                        14:43:27   Pearson chi2:                 6.56e+03\n",
              "No. Iterations:                    21   Pseudo R-squ. (CS):             0.3943\n",
              "Covariance Type:            nonrobust                                         \n",
              "========================================================================================================================\n",
              "                                                           coef    std err          z      P>|z|      [0.025      0.975]\n",
              "------------------------------------------------------------------------------------------------------------------------\n",
              "const                                                   -0.9203      0.112     -8.198      0.000      -1.140      -0.700\n",
              "TotalVisits                                              1.9197      0.297      6.470      0.000       1.338       2.501\n",
              "Total Time Spent on Website                              4.6860      0.169     27.710      0.000       4.355       5.017\n",
              "Page Views Per Visit                                    -1.9973      0.440     -4.534      0.000      -2.861      -1.134\n",
              "Lead Origin_Lead Add Form                                4.3894      0.262     16.761      0.000       3.876       4.903\n",
              "Lead Source_Olark Chat                                   1.3239      0.125     10.602      0.000       1.079       1.569\n",
              "Lead Source_Welingak Website                             2.4919      1.043      2.390      0.017       0.449       4.535\n",
              "Do Not Email_Yes                                        -1.8023      0.178    -10.153      0.000      -2.150      -1.454\n",
              "Last Activity_Olark Chat Conversation                   -1.2806      0.193     -6.633      0.000      -1.659      -0.902\n",
              "What is your current occupation_Housewife               22.3996   1.75e+04      0.001      0.999   -3.43e+04    3.43e+04\n",
              "What is your current occupation_Working Professional     2.7658      0.190     14.533      0.000       2.393       3.139\n",
              "Last Notable Activity_Email Link Clicked                -2.0941      0.264     -7.918      0.000      -2.612      -1.576\n",
              "Last Notable Activity_Email Opened                      -1.4257      0.089    -15.969      0.000      -1.601      -1.251\n",
              "Last Notable Activity_Modified                          -1.8460      0.098    -18.811      0.000      -2.038      -1.654\n",
              "Last Notable Activity_Olark Chat Conversation           -1.5957      0.370     -4.316      0.000      -2.320      -0.871\n",
              "Last Notable Activity_Page Visited on Website           -2.1194      0.216     -9.823      0.000      -2.542      -1.697\n",
              "========================================================================================================================\n",
              "\"\"\""
            ]
          },
          "execution_count": 314,
          "metadata": {},
          "output_type": "execute_result"
        }
      ],
      "source": [
        "X_train_sm = sm.add_constant(X_train)\n",
        "logm1 = sm.GLM(y_train, X_train_sm, family = sm.families.Binomial())\n",
        "res = logm1.fit()\n",
        "res.summary()\n"
      ]
    },
    {
      "cell_type": "code",
      "execution_count": null,
      "id": "78cb1423",
      "metadata": {
        "id": "78cb1423"
      },
      "outputs": [],
      "source": [
        "# Importing 'variance_inflation_factor'\n",
        "from statsmodels.stats.outliers_influence import variance_inflation_factor\n"
      ]
    },
    {
      "cell_type": "code",
      "execution_count": null,
      "id": "45e5a4a3",
      "metadata": {
        "id": "45e5a4a3",
        "outputId": "9f407c69-8a3d-449a-f552-e8be97f6797c"
      },
      "outputs": [
        {
          "data": {
            "text/html": [
              "<div>\n",
              "<style scoped>\n",
              "    .dataframe tbody tr th:only-of-type {\n",
              "        vertical-align: middle;\n",
              "    }\n",
              "\n",
              "    .dataframe tbody tr th {\n",
              "        vertical-align: top;\n",
              "    }\n",
              "\n",
              "    .dataframe thead th {\n",
              "        text-align: right;\n",
              "    }\n",
              "</style>\n",
              "<table border=\"1\" class=\"dataframe\">\n",
              "  <thead>\n",
              "    <tr style=\"text-align: right;\">\n",
              "      <th></th>\n",
              "      <th>Features</th>\n",
              "      <th>VIF</th>\n",
              "    </tr>\n",
              "  </thead>\n",
              "  <tbody>\n",
              "    <tr>\n",
              "      <th>2</th>\n",
              "      <td>Page Views Per Visit</td>\n",
              "      <td>5.30</td>\n",
              "    </tr>\n",
              "    <tr>\n",
              "      <th>0</th>\n",
              "      <td>TotalVisits</td>\n",
              "      <td>5.28</td>\n",
              "    </tr>\n",
              "    <tr>\n",
              "      <th>12</th>\n",
              "      <td>Last Notable Activity_Modified</td>\n",
              "      <td>2.02</td>\n",
              "    </tr>\n",
              "    <tr>\n",
              "      <th>1</th>\n",
              "      <td>Total Time Spent on Website</td>\n",
              "      <td>1.99</td>\n",
              "    </tr>\n",
              "    <tr>\n",
              "      <th>7</th>\n",
              "      <td>Last Activity_Olark Chat Conversation</td>\n",
              "      <td>1.95</td>\n",
              "    </tr>\n",
              "    <tr>\n",
              "      <th>11</th>\n",
              "      <td>Last Notable Activity_Email Opened</td>\n",
              "      <td>1.74</td>\n",
              "    </tr>\n",
              "    <tr>\n",
              "      <th>4</th>\n",
              "      <td>Lead Source_Olark Chat</td>\n",
              "      <td>1.70</td>\n",
              "    </tr>\n",
              "    <tr>\n",
              "      <th>3</th>\n",
              "      <td>Lead Origin_Lead Add Form</td>\n",
              "      <td>1.51</td>\n",
              "    </tr>\n",
              "    <tr>\n",
              "      <th>13</th>\n",
              "      <td>Last Notable Activity_Olark Chat Conversation</td>\n",
              "      <td>1.35</td>\n",
              "    </tr>\n",
              "    <tr>\n",
              "      <th>5</th>\n",
              "      <td>Lead Source_Welingak Website</td>\n",
              "      <td>1.34</td>\n",
              "    </tr>\n",
              "    <tr>\n",
              "      <th>9</th>\n",
              "      <td>What is your current occupation_Working Profes...</td>\n",
              "      <td>1.18</td>\n",
              "    </tr>\n",
              "    <tr>\n",
              "      <th>14</th>\n",
              "      <td>Last Notable Activity_Page Visited on Website</td>\n",
              "      <td>1.17</td>\n",
              "    </tr>\n",
              "    <tr>\n",
              "      <th>6</th>\n",
              "      <td>Do Not Email_Yes</td>\n",
              "      <td>1.12</td>\n",
              "    </tr>\n",
              "    <tr>\n",
              "      <th>10</th>\n",
              "      <td>Last Notable Activity_Email Link Clicked</td>\n",
              "      <td>1.06</td>\n",
              "    </tr>\n",
              "    <tr>\n",
              "      <th>8</th>\n",
              "      <td>What is your current occupation_Housewife</td>\n",
              "      <td>1.01</td>\n",
              "    </tr>\n",
              "  </tbody>\n",
              "</table>\n",
              "</div>"
            ],
            "text/plain": [
              "                                             Features   VIF\n",
              "2                                Page Views Per Visit  5.30\n",
              "0                                         TotalVisits  5.28\n",
              "12                     Last Notable Activity_Modified  2.02\n",
              "1                         Total Time Spent on Website  1.99\n",
              "7               Last Activity_Olark Chat Conversation  1.95\n",
              "11                 Last Notable Activity_Email Opened  1.74\n",
              "4                              Lead Source_Olark Chat  1.70\n",
              "3                           Lead Origin_Lead Add Form  1.51\n",
              "13      Last Notable Activity_Olark Chat Conversation  1.35\n",
              "5                        Lead Source_Welingak Website  1.34\n",
              "9   What is your current occupation_Working Profes...  1.18\n",
              "14      Last Notable Activity_Page Visited on Website  1.17\n",
              "6                                    Do Not Email_Yes  1.12\n",
              "10           Last Notable Activity_Email Link Clicked  1.06\n",
              "8           What is your current occupation_Housewife  1.01"
            ]
          },
          "execution_count": 316,
          "metadata": {},
          "output_type": "execute_result"
        }
      ],
      "source": [
        "# Creating VIF dataframe containing all the variables\n",
        "\n",
        "vif = pd.DataFrame()\n",
        "vif['Features'] = X_train.columns\n",
        "vif['VIF'] = [variance_inflation_factor(X_train.values, i) for i in range(X_train.shape[1])]\n",
        "vif['VIF'] = round(vif['VIF'], 2)\n",
        "vif = vif.sort_values(by = \"VIF\", ascending = False)\n",
        "vif\n"
      ]
    },
    {
      "cell_type": "code",
      "execution_count": null,
      "id": "ad64c448",
      "metadata": {
        "id": "ad64c448"
      },
      "outputs": [],
      "source": [
        "## Removing 'What is your current occupation_Housewife' column as its p value is almost 100%\n",
        "\n",
        "X_train.drop(['What is your current occupation_Housewife'], axis = 1, inplace = True)"
      ]
    },
    {
      "cell_type": "code",
      "execution_count": null,
      "id": "4a7cecb0",
      "metadata": {
        "id": "4a7cecb0",
        "outputId": "983650bf-8f01-441e-ba2e-5e71369bc1c0"
      },
      "outputs": [
        {
          "data": {
            "text/html": [
              "<table class=\"simpletable\">\n",
              "<caption>Generalized Linear Model Regression Results</caption>\n",
              "<tr>\n",
              "  <th>Dep. Variable:</th>       <td>Converted</td>    <th>  No. Observations:  </th>  <td>  6293</td> \n",
              "</tr>\n",
              "<tr>\n",
              "  <th>Model:</th>                  <td>GLM</td>       <th>  Df Residuals:      </th>  <td>  6278</td> \n",
              "</tr>\n",
              "<tr>\n",
              "  <th>Model Family:</th>        <td>Binomial</td>     <th>  Df Model:          </th>  <td>    14</td> \n",
              "</tr>\n",
              "<tr>\n",
              "  <th>Link Function:</th>         <td>Logit</td>      <th>  Scale:             </th> <td>  1.0000</td>\n",
              "</tr>\n",
              "<tr>\n",
              "  <th>Method:</th>                <td>IRLS</td>       <th>  Log-Likelihood:    </th> <td> -2598.0</td>\n",
              "</tr>\n",
              "<tr>\n",
              "  <th>Date:</th>            <td>Tue, 28 Feb 2023</td> <th>  Deviance:          </th> <td>  5196.1</td>\n",
              "</tr>\n",
              "<tr>\n",
              "  <th>Time:</th>                <td>14:43:27</td>     <th>  Pearson chi2:      </th> <td>6.58e+03</td>\n",
              "</tr>\n",
              "<tr>\n",
              "  <th>No. Iterations:</th>          <td>7</td>        <th>  Pseudo R-squ. (CS):</th>  <td>0.3937</td> \n",
              "</tr>\n",
              "<tr>\n",
              "  <th>Covariance Type:</th>     <td>nonrobust</td>    <th>                     </th>     <td> </td>   \n",
              "</tr>\n",
              "</table>\n",
              "<table class=\"simpletable\">\n",
              "<tr>\n",
              "                            <td></td>                              <th>coef</th>     <th>std err</th>      <th>z</th>      <th>P>|z|</th>  <th>[0.025</th>    <th>0.975]</th>  \n",
              "</tr>\n",
              "<tr>\n",
              "  <th>const</th>                                                <td>   -0.9194</td> <td>    0.112</td> <td>   -8.193</td> <td> 0.000</td> <td>   -1.139</td> <td>   -0.699</td>\n",
              "</tr>\n",
              "<tr>\n",
              "  <th>TotalVisits</th>                                          <td>    1.9082</td> <td>    0.297</td> <td>    6.433</td> <td> 0.000</td> <td>    1.327</td> <td>    2.490</td>\n",
              "</tr>\n",
              "<tr>\n",
              "  <th>Total Time Spent on Website</th>                          <td>    4.6897</td> <td>    0.169</td> <td>   27.742</td> <td> 0.000</td> <td>    4.358</td> <td>    5.021</td>\n",
              "</tr>\n",
              "<tr>\n",
              "  <th>Page Views Per Visit</th>                                 <td>   -1.9902</td> <td>    0.440</td> <td>   -4.520</td> <td> 0.000</td> <td>   -2.853</td> <td>   -1.127</td>\n",
              "</tr>\n",
              "<tr>\n",
              "  <th>Lead Origin_Lead Add Form</th>                            <td>    4.4126</td> <td>    0.262</td> <td>   16.874</td> <td> 0.000</td> <td>    3.900</td> <td>    4.925</td>\n",
              "</tr>\n",
              "<tr>\n",
              "  <th>Lead Source_Olark Chat</th>                               <td>    1.3207</td> <td>    0.125</td> <td>   10.583</td> <td> 0.000</td> <td>    1.076</td> <td>    1.565</td>\n",
              "</tr>\n",
              "<tr>\n",
              "  <th>Lead Source_Welingak Website</th>                         <td>    2.4653</td> <td>    1.042</td> <td>    2.365</td> <td> 0.018</td> <td>    0.422</td> <td>    4.509</td>\n",
              "</tr>\n",
              "<tr>\n",
              "  <th>Do Not Email_Yes</th>                                     <td>   -1.8048</td> <td>    0.178</td> <td>  -10.165</td> <td> 0.000</td> <td>   -2.153</td> <td>   -1.457</td>\n",
              "</tr>\n",
              "<tr>\n",
              "  <th>Last Activity_Olark Chat Conversation</th>                <td>   -1.2829</td> <td>    0.193</td> <td>   -6.646</td> <td> 0.000</td> <td>   -1.661</td> <td>   -0.905</td>\n",
              "</tr>\n",
              "<tr>\n",
              "  <th>What is your current occupation_Working Professional</th> <td>    2.7625</td> <td>    0.190</td> <td>   14.515</td> <td> 0.000</td> <td>    2.390</td> <td>    3.136</td>\n",
              "</tr>\n",
              "<tr>\n",
              "  <th>Last Notable Activity_Email Link Clicked</th>             <td>   -2.0810</td> <td>    0.263</td> <td>   -7.923</td> <td> 0.000</td> <td>   -2.596</td> <td>   -1.566</td>\n",
              "</tr>\n",
              "<tr>\n",
              "  <th>Last Notable Activity_Email Opened</th>                   <td>   -1.4225</td> <td>    0.089</td> <td>  -15.938</td> <td> 0.000</td> <td>   -1.597</td> <td>   -1.248</td>\n",
              "</tr>\n",
              "<tr>\n",
              "  <th>Last Notable Activity_Modified</th>                       <td>   -1.8421</td> <td>    0.098</td> <td>  -18.782</td> <td> 0.000</td> <td>   -2.034</td> <td>   -1.650</td>\n",
              "</tr>\n",
              "<tr>\n",
              "  <th>Last Notable Activity_Olark Chat Conversation</th>        <td>   -1.5917</td> <td>    0.370</td> <td>   -4.305</td> <td> 0.000</td> <td>   -2.316</td> <td>   -0.867</td>\n",
              "</tr>\n",
              "<tr>\n",
              "  <th>Last Notable Activity_Page Visited on Website</th>        <td>   -2.1174</td> <td>    0.216</td> <td>   -9.814</td> <td> 0.000</td> <td>   -2.540</td> <td>   -1.695</td>\n",
              "</tr>\n",
              "</table>"
            ],
            "text/plain": [
              "<class 'statsmodels.iolib.summary.Summary'>\n",
              "\"\"\"\n",
              "                 Generalized Linear Model Regression Results                  \n",
              "==============================================================================\n",
              "Dep. Variable:              Converted   No. Observations:                 6293\n",
              "Model:                            GLM   Df Residuals:                     6278\n",
              "Model Family:                Binomial   Df Model:                           14\n",
              "Link Function:                  Logit   Scale:                          1.0000\n",
              "Method:                          IRLS   Log-Likelihood:                -2598.0\n",
              "Date:                Tue, 28 Feb 2023   Deviance:                       5196.1\n",
              "Time:                        14:43:27   Pearson chi2:                 6.58e+03\n",
              "No. Iterations:                     7   Pseudo R-squ. (CS):             0.3937\n",
              "Covariance Type:            nonrobust                                         \n",
              "========================================================================================================================\n",
              "                                                           coef    std err          z      P>|z|      [0.025      0.975]\n",
              "------------------------------------------------------------------------------------------------------------------------\n",
              "const                                                   -0.9194      0.112     -8.193      0.000      -1.139      -0.699\n",
              "TotalVisits                                              1.9082      0.297      6.433      0.000       1.327       2.490\n",
              "Total Time Spent on Website                              4.6897      0.169     27.742      0.000       4.358       5.021\n",
              "Page Views Per Visit                                    -1.9902      0.440     -4.520      0.000      -2.853      -1.127\n",
              "Lead Origin_Lead Add Form                                4.4126      0.262     16.874      0.000       3.900       4.925\n",
              "Lead Source_Olark Chat                                   1.3207      0.125     10.583      0.000       1.076       1.565\n",
              "Lead Source_Welingak Website                             2.4653      1.042      2.365      0.018       0.422       4.509\n",
              "Do Not Email_Yes                                        -1.8048      0.178    -10.165      0.000      -2.153      -1.457\n",
              "Last Activity_Olark Chat Conversation                   -1.2829      0.193     -6.646      0.000      -1.661      -0.905\n",
              "What is your current occupation_Working Professional     2.7625      0.190     14.515      0.000       2.390       3.136\n",
              "Last Notable Activity_Email Link Clicked                -2.0810      0.263     -7.923      0.000      -2.596      -1.566\n",
              "Last Notable Activity_Email Opened                      -1.4225      0.089    -15.938      0.000      -1.597      -1.248\n",
              "Last Notable Activity_Modified                          -1.8421      0.098    -18.782      0.000      -2.034      -1.650\n",
              "Last Notable Activity_Olark Chat Conversation           -1.5917      0.370     -4.305      0.000      -2.316      -0.867\n",
              "Last Notable Activity_Page Visited on Website           -2.1174      0.216     -9.814      0.000      -2.540      -1.695\n",
              "========================================================================================================================\n",
              "\"\"\""
            ]
          },
          "execution_count": 318,
          "metadata": {},
          "output_type": "execute_result"
        }
      ],
      "source": [
        "# Refitting the model with the reduced new features set\n",
        "\n",
        "X_train_sm = sm.add_constant(X_train)\n",
        "logm3 = sm.GLM(y_train, X_train_sm, family = sm.families.Binomial())\n",
        "res = logm3.fit()\n",
        "res.summary()"
      ]
    },
    {
      "cell_type": "code",
      "execution_count": null,
      "id": "7073448c",
      "metadata": {
        "id": "7073448c",
        "outputId": "5118efae-5dcb-44ac-8b15-da1d30b22eb8"
      },
      "outputs": [
        {
          "data": {
            "text/html": [
              "<div>\n",
              "<style scoped>\n",
              "    .dataframe tbody tr th:only-of-type {\n",
              "        vertical-align: middle;\n",
              "    }\n",
              "\n",
              "    .dataframe tbody tr th {\n",
              "        vertical-align: top;\n",
              "    }\n",
              "\n",
              "    .dataframe thead th {\n",
              "        text-align: right;\n",
              "    }\n",
              "</style>\n",
              "<table border=\"1\" class=\"dataframe\">\n",
              "  <thead>\n",
              "    <tr style=\"text-align: right;\">\n",
              "      <th></th>\n",
              "      <th>Features</th>\n",
              "      <th>VIF</th>\n",
              "    </tr>\n",
              "  </thead>\n",
              "  <tbody>\n",
              "    <tr>\n",
              "      <th>2</th>\n",
              "      <td>Page Views Per Visit</td>\n",
              "      <td>5.30</td>\n",
              "    </tr>\n",
              "    <tr>\n",
              "      <th>0</th>\n",
              "      <td>TotalVisits</td>\n",
              "      <td>5.28</td>\n",
              "    </tr>\n",
              "    <tr>\n",
              "      <th>11</th>\n",
              "      <td>Last Notable Activity_Modified</td>\n",
              "      <td>2.02</td>\n",
              "    </tr>\n",
              "    <tr>\n",
              "      <th>1</th>\n",
              "      <td>Total Time Spent on Website</td>\n",
              "      <td>1.99</td>\n",
              "    </tr>\n",
              "    <tr>\n",
              "      <th>7</th>\n",
              "      <td>Last Activity_Olark Chat Conversation</td>\n",
              "      <td>1.95</td>\n",
              "    </tr>\n",
              "    <tr>\n",
              "      <th>10</th>\n",
              "      <td>Last Notable Activity_Email Opened</td>\n",
              "      <td>1.74</td>\n",
              "    </tr>\n",
              "    <tr>\n",
              "      <th>4</th>\n",
              "      <td>Lead Source_Olark Chat</td>\n",
              "      <td>1.70</td>\n",
              "    </tr>\n",
              "    <tr>\n",
              "      <th>3</th>\n",
              "      <td>Lead Origin_Lead Add Form</td>\n",
              "      <td>1.51</td>\n",
              "    </tr>\n",
              "    <tr>\n",
              "      <th>12</th>\n",
              "      <td>Last Notable Activity_Olark Chat Conversation</td>\n",
              "      <td>1.35</td>\n",
              "    </tr>\n",
              "    <tr>\n",
              "      <th>5</th>\n",
              "      <td>Lead Source_Welingak Website</td>\n",
              "      <td>1.34</td>\n",
              "    </tr>\n",
              "    <tr>\n",
              "      <th>8</th>\n",
              "      <td>What is your current occupation_Working Profes...</td>\n",
              "      <td>1.17</td>\n",
              "    </tr>\n",
              "    <tr>\n",
              "      <th>13</th>\n",
              "      <td>Last Notable Activity_Page Visited on Website</td>\n",
              "      <td>1.17</td>\n",
              "    </tr>\n",
              "    <tr>\n",
              "      <th>6</th>\n",
              "      <td>Do Not Email_Yes</td>\n",
              "      <td>1.12</td>\n",
              "    </tr>\n",
              "    <tr>\n",
              "      <th>9</th>\n",
              "      <td>Last Notable Activity_Email Link Clicked</td>\n",
              "      <td>1.06</td>\n",
              "    </tr>\n",
              "  </tbody>\n",
              "</table>\n",
              "</div>"
            ],
            "text/plain": [
              "                                             Features   VIF\n",
              "2                                Page Views Per Visit  5.30\n",
              "0                                         TotalVisits  5.28\n",
              "11                     Last Notable Activity_Modified  2.02\n",
              "1                         Total Time Spent on Website  1.99\n",
              "7               Last Activity_Olark Chat Conversation  1.95\n",
              "10                 Last Notable Activity_Email Opened  1.74\n",
              "4                              Lead Source_Olark Chat  1.70\n",
              "3                           Lead Origin_Lead Add Form  1.51\n",
              "12      Last Notable Activity_Olark Chat Conversation  1.35\n",
              "5                        Lead Source_Welingak Website  1.34\n",
              "8   What is your current occupation_Working Profes...  1.17\n",
              "13      Last Notable Activity_Page Visited on Website  1.17\n",
              "6                                    Do Not Email_Yes  1.12\n",
              "9            Last Notable Activity_Email Link Clicked  1.06"
            ]
          },
          "execution_count": 319,
          "metadata": {},
          "output_type": "execute_result"
        }
      ],
      "source": [
        "# Creating a VIF dataframe containing all the variables\n",
        "vif = pd.DataFrame()\n",
        "vif['Features'] = X_train.columns\n",
        "vif['VIF'] = [variance_inflation_factor(X_train.values, i) for i in range(X_train.shape[1])]\n",
        "vif['VIF'] = round(vif['VIF'], 2)\n",
        "vif = vif.sort_values(by = \"VIF\", ascending = False)\n",
        "vif"
      ]
    },
    {
      "cell_type": "code",
      "execution_count": null,
      "id": "ee1a3495",
      "metadata": {
        "id": "ee1a3495"
      },
      "outputs": [],
      "source": [
        "## Dropping the column 'Page Views Per Visit' as it has high VIF\n",
        "\n",
        "X_train.drop('Page Views Per Visit', axis = 1, inplace = True)"
      ]
    },
    {
      "cell_type": "code",
      "execution_count": null,
      "id": "54b8bf35",
      "metadata": {
        "id": "54b8bf35",
        "outputId": "b0e64115-0257-462f-c558-e8c896a694cc"
      },
      "outputs": [
        {
          "data": {
            "text/html": [
              "<table class=\"simpletable\">\n",
              "<caption>Generalized Linear Model Regression Results</caption>\n",
              "<tr>\n",
              "  <th>Dep. Variable:</th>       <td>Converted</td>    <th>  No. Observations:  </th>  <td>  6293</td> \n",
              "</tr>\n",
              "<tr>\n",
              "  <th>Model:</th>                  <td>GLM</td>       <th>  Df Residuals:      </th>  <td>  6279</td> \n",
              "</tr>\n",
              "<tr>\n",
              "  <th>Model Family:</th>        <td>Binomial</td>     <th>  Df Model:          </th>  <td>    13</td> \n",
              "</tr>\n",
              "<tr>\n",
              "  <th>Link Function:</th>         <td>Logit</td>      <th>  Scale:             </th> <td>  1.0000</td>\n",
              "</tr>\n",
              "<tr>\n",
              "  <th>Method:</th>                <td>IRLS</td>       <th>  Log-Likelihood:    </th> <td> -2608.4</td>\n",
              "</tr>\n",
              "<tr>\n",
              "  <th>Date:</th>            <td>Tue, 28 Feb 2023</td> <th>  Deviance:          </th> <td>  5216.8</td>\n",
              "</tr>\n",
              "<tr>\n",
              "  <th>Time:</th>                <td>14:43:28</td>     <th>  Pearson chi2:      </th> <td>6.60e+03</td>\n",
              "</tr>\n",
              "<tr>\n",
              "  <th>No. Iterations:</th>          <td>7</td>        <th>  Pseudo R-squ. (CS):</th>  <td>0.3917</td> \n",
              "</tr>\n",
              "<tr>\n",
              "  <th>Covariance Type:</th>     <td>nonrobust</td>    <th>                     </th>     <td> </td>   \n",
              "</tr>\n",
              "</table>\n",
              "<table class=\"simpletable\">\n",
              "<tr>\n",
              "                            <td></td>                              <th>coef</th>     <th>std err</th>      <th>z</th>      <th>P>|z|</th>  <th>[0.025</th>    <th>0.975]</th>  \n",
              "</tr>\n",
              "<tr>\n",
              "  <th>const</th>                                                <td>   -1.1340</td> <td>    0.102</td> <td>  -11.127</td> <td> 0.000</td> <td>   -1.334</td> <td>   -0.934</td>\n",
              "</tr>\n",
              "<tr>\n",
              "  <th>TotalVisits</th>                                          <td>    1.1295</td> <td>    0.242</td> <td>    4.668</td> <td> 0.000</td> <td>    0.655</td> <td>    1.604</td>\n",
              "</tr>\n",
              "<tr>\n",
              "  <th>Total Time Spent on Website</th>                          <td>    4.6760</td> <td>    0.169</td> <td>   27.716</td> <td> 0.000</td> <td>    4.345</td> <td>    5.007</td>\n",
              "</tr>\n",
              "<tr>\n",
              "  <th>Lead Origin_Lead Add Form</th>                            <td>    4.5981</td> <td>    0.259</td> <td>   17.779</td> <td> 0.000</td> <td>    4.091</td> <td>    5.105</td>\n",
              "</tr>\n",
              "<tr>\n",
              "  <th>Lead Source_Olark Chat</th>                               <td>    1.5013</td> <td>    0.119</td> <td>   12.640</td> <td> 0.000</td> <td>    1.269</td> <td>    1.734</td>\n",
              "</tr>\n",
              "<tr>\n",
              "  <th>Lead Source_Welingak Website</th>                         <td>    2.4638</td> <td>    1.042</td> <td>    2.364</td> <td> 0.018</td> <td>    0.421</td> <td>    4.507</td>\n",
              "</tr>\n",
              "<tr>\n",
              "  <th>Do Not Email_Yes</th>                                     <td>   -1.8048</td> <td>    0.177</td> <td>  -10.216</td> <td> 0.000</td> <td>   -2.151</td> <td>   -1.459</td>\n",
              "</tr>\n",
              "<tr>\n",
              "  <th>Last Activity_Olark Chat Conversation</th>                <td>   -1.2706</td> <td>    0.193</td> <td>   -6.585</td> <td> 0.000</td> <td>   -1.649</td> <td>   -0.892</td>\n",
              "</tr>\n",
              "<tr>\n",
              "  <th>What is your current occupation_Working Professional</th> <td>    2.7574</td> <td>    0.190</td> <td>   14.494</td> <td> 0.000</td> <td>    2.385</td> <td>    3.130</td>\n",
              "</tr>\n",
              "<tr>\n",
              "  <th>Last Notable Activity_Email Link Clicked</th>             <td>   -2.0312</td> <td>    0.261</td> <td>   -7.791</td> <td> 0.000</td> <td>   -2.542</td> <td>   -1.520</td>\n",
              "</tr>\n",
              "<tr>\n",
              "  <th>Last Notable Activity_Email Opened</th>                   <td>   -1.3920</td> <td>    0.089</td> <td>  -15.694</td> <td> 0.000</td> <td>   -1.566</td> <td>   -1.218</td>\n",
              "</tr>\n",
              "<tr>\n",
              "  <th>Last Notable Activity_Modified</th>                       <td>   -1.8100</td> <td>    0.098</td> <td>  -18.556</td> <td> 0.000</td> <td>   -2.001</td> <td>   -1.619</td>\n",
              "</tr>\n",
              "<tr>\n",
              "  <th>Last Notable Activity_Olark Chat Conversation</th>        <td>   -1.5069</td> <td>    0.366</td> <td>   -4.119</td> <td> 0.000</td> <td>   -2.224</td> <td>   -0.790</td>\n",
              "</tr>\n",
              "<tr>\n",
              "  <th>Last Notable Activity_Page Visited on Website</th>        <td>   -1.9247</td> <td>    0.209</td> <td>   -9.227</td> <td> 0.000</td> <td>   -2.333</td> <td>   -1.516</td>\n",
              "</tr>\n",
              "</table>"
            ],
            "text/plain": [
              "<class 'statsmodels.iolib.summary.Summary'>\n",
              "\"\"\"\n",
              "                 Generalized Linear Model Regression Results                  \n",
              "==============================================================================\n",
              "Dep. Variable:              Converted   No. Observations:                 6293\n",
              "Model:                            GLM   Df Residuals:                     6279\n",
              "Model Family:                Binomial   Df Model:                           13\n",
              "Link Function:                  Logit   Scale:                          1.0000\n",
              "Method:                          IRLS   Log-Likelihood:                -2608.4\n",
              "Date:                Tue, 28 Feb 2023   Deviance:                       5216.8\n",
              "Time:                        14:43:28   Pearson chi2:                 6.60e+03\n",
              "No. Iterations:                     7   Pseudo R-squ. (CS):             0.3917\n",
              "Covariance Type:            nonrobust                                         \n",
              "========================================================================================================================\n",
              "                                                           coef    std err          z      P>|z|      [0.025      0.975]\n",
              "------------------------------------------------------------------------------------------------------------------------\n",
              "const                                                   -1.1340      0.102    -11.127      0.000      -1.334      -0.934\n",
              "TotalVisits                                              1.1295      0.242      4.668      0.000       0.655       1.604\n",
              "Total Time Spent on Website                              4.6760      0.169     27.716      0.000       4.345       5.007\n",
              "Lead Origin_Lead Add Form                                4.5981      0.259     17.779      0.000       4.091       5.105\n",
              "Lead Source_Olark Chat                                   1.5013      0.119     12.640      0.000       1.269       1.734\n",
              "Lead Source_Welingak Website                             2.4638      1.042      2.364      0.018       0.421       4.507\n",
              "Do Not Email_Yes                                        -1.8048      0.177    -10.216      0.000      -2.151      -1.459\n",
              "Last Activity_Olark Chat Conversation                   -1.2706      0.193     -6.585      0.000      -1.649      -0.892\n",
              "What is your current occupation_Working Professional     2.7574      0.190     14.494      0.000       2.385       3.130\n",
              "Last Notable Activity_Email Link Clicked                -2.0312      0.261     -7.791      0.000      -2.542      -1.520\n",
              "Last Notable Activity_Email Opened                      -1.3920      0.089    -15.694      0.000      -1.566      -1.218\n",
              "Last Notable Activity_Modified                          -1.8100      0.098    -18.556      0.000      -2.001      -1.619\n",
              "Last Notable Activity_Olark Chat Conversation           -1.5069      0.366     -4.119      0.000      -2.224      -0.790\n",
              "Last Notable Activity_Page Visited on Website           -1.9247      0.209     -9.227      0.000      -2.333      -1.516\n",
              "========================================================================================================================\n",
              "\"\"\""
            ]
          },
          "execution_count": 321,
          "metadata": {},
          "output_type": "execute_result"
        }
      ],
      "source": [
        "# Refitting the model with reduced new features set\n",
        "X_train_sm = sm.add_constant(X_train)\n",
        "logm3 = sm.GLM(y_train, X_train_sm, family = sm.families.Binomial())\n",
        "res = logm3.fit()\n",
        "res.summary()"
      ]
    },
    {
      "cell_type": "code",
      "execution_count": null,
      "id": "2821a264",
      "metadata": {
        "id": "2821a264",
        "outputId": "0955de74-62e0-465f-dca7-955e7583c2e2"
      },
      "outputs": [
        {
          "data": {
            "text/html": [
              "<div>\n",
              "<style scoped>\n",
              "    .dataframe tbody tr th:only-of-type {\n",
              "        vertical-align: middle;\n",
              "    }\n",
              "\n",
              "    .dataframe tbody tr th {\n",
              "        vertical-align: top;\n",
              "    }\n",
              "\n",
              "    .dataframe thead th {\n",
              "        text-align: right;\n",
              "    }\n",
              "</style>\n",
              "<table border=\"1\" class=\"dataframe\">\n",
              "  <thead>\n",
              "    <tr style=\"text-align: right;\">\n",
              "      <th></th>\n",
              "      <th>Features</th>\n",
              "      <th>VIF</th>\n",
              "    </tr>\n",
              "  </thead>\n",
              "  <tbody>\n",
              "    <tr>\n",
              "      <th>0</th>\n",
              "      <td>TotalVisits</td>\n",
              "      <td>2.49</td>\n",
              "    </tr>\n",
              "    <tr>\n",
              "      <th>6</th>\n",
              "      <td>Last Activity_Olark Chat Conversation</td>\n",
              "      <td>1.94</td>\n",
              "    </tr>\n",
              "    <tr>\n",
              "      <th>10</th>\n",
              "      <td>Last Notable Activity_Modified</td>\n",
              "      <td>1.94</td>\n",
              "    </tr>\n",
              "    <tr>\n",
              "      <th>1</th>\n",
              "      <td>Total Time Spent on Website</td>\n",
              "      <td>1.92</td>\n",
              "    </tr>\n",
              "    <tr>\n",
              "      <th>9</th>\n",
              "      <td>Last Notable Activity_Email Opened</td>\n",
              "      <td>1.68</td>\n",
              "    </tr>\n",
              "    <tr>\n",
              "      <th>3</th>\n",
              "      <td>Lead Source_Olark Chat</td>\n",
              "      <td>1.67</td>\n",
              "    </tr>\n",
              "    <tr>\n",
              "      <th>2</th>\n",
              "      <td>Lead Origin_Lead Add Form</td>\n",
              "      <td>1.50</td>\n",
              "    </tr>\n",
              "    <tr>\n",
              "      <th>11</th>\n",
              "      <td>Last Notable Activity_Olark Chat Conversation</td>\n",
              "      <td>1.35</td>\n",
              "    </tr>\n",
              "    <tr>\n",
              "      <th>4</th>\n",
              "      <td>Lead Source_Welingak Website</td>\n",
              "      <td>1.34</td>\n",
              "    </tr>\n",
              "    <tr>\n",
              "      <th>7</th>\n",
              "      <td>What is your current occupation_Working Profes...</td>\n",
              "      <td>1.17</td>\n",
              "    </tr>\n",
              "    <tr>\n",
              "      <th>12</th>\n",
              "      <td>Last Notable Activity_Page Visited on Website</td>\n",
              "      <td>1.15</td>\n",
              "    </tr>\n",
              "    <tr>\n",
              "      <th>5</th>\n",
              "      <td>Do Not Email_Yes</td>\n",
              "      <td>1.11</td>\n",
              "    </tr>\n",
              "    <tr>\n",
              "      <th>8</th>\n",
              "      <td>Last Notable Activity_Email Link Clicked</td>\n",
              "      <td>1.06</td>\n",
              "    </tr>\n",
              "  </tbody>\n",
              "</table>\n",
              "</div>"
            ],
            "text/plain": [
              "                                             Features   VIF\n",
              "0                                         TotalVisits  2.49\n",
              "6               Last Activity_Olark Chat Conversation  1.94\n",
              "10                     Last Notable Activity_Modified  1.94\n",
              "1                         Total Time Spent on Website  1.92\n",
              "9                  Last Notable Activity_Email Opened  1.68\n",
              "3                              Lead Source_Olark Chat  1.67\n",
              "2                           Lead Origin_Lead Add Form  1.50\n",
              "11      Last Notable Activity_Olark Chat Conversation  1.35\n",
              "4                        Lead Source_Welingak Website  1.34\n",
              "7   What is your current occupation_Working Profes...  1.17\n",
              "12      Last Notable Activity_Page Visited on Website  1.15\n",
              "5                                    Do Not Email_Yes  1.11\n",
              "8            Last Notable Activity_Email Link Clicked  1.06"
            ]
          },
          "execution_count": 322,
          "metadata": {},
          "output_type": "execute_result"
        }
      ],
      "source": [
        "# Creating a VIF dataframe containing all the variables\n",
        "vif = pd.DataFrame()\n",
        "vif['Features'] = X_train.columns\n",
        "vif['VIF'] = [variance_inflation_factor(X_train.values, i) for i in range(X_train.shape[1])]\n",
        "vif['VIF'] = round(vif['VIF'], 2)\n",
        "vif = vif.sort_values(by = \"VIF\", ascending = False)\n",
        "vif"
      ]
    },
    {
      "cell_type": "markdown",
      "id": "c832ed86",
      "metadata": {
        "id": "c832ed86"
      },
      "source": [
        "### Since all the VIF values are fine and the p-values are below 5%, so we can fix the model and proceed .\n"
      ]
    },
    {
      "cell_type": "markdown",
      "id": "c69d907a",
      "metadata": {
        "id": "c69d907a"
      },
      "source": [
        "## Prediction:\n"
      ]
    },
    {
      "cell_type": "code",
      "execution_count": null,
      "id": "73abb7a9",
      "metadata": {
        "id": "73abb7a9",
        "outputId": "659e9d4a-3bc7-4ad6-f06b-be8a7072d262"
      },
      "outputs": [
        {
          "data": {
            "text/plain": [
              "3523    0.260706\n",
              "3267    0.997343\n",
              "5653    0.376645\n",
              "5072    0.264108\n",
              "3704    0.113188\n",
              "1790    0.097252\n",
              "2482    0.151518\n",
              "1694    0.191123\n",
              "8768    0.099328\n",
              "9225    0.011388\n",
              "dtype: float64"
            ]
          },
          "execution_count": 323,
          "metadata": {},
          "output_type": "execute_result"
        }
      ],
      "source": [
        "# Checking the prediction probabilities on the train set\n",
        "\n",
        "y_train_pred = res.predict(X_train_sm)\n",
        "y_train_pred[:10]"
      ]
    },
    {
      "cell_type": "code",
      "execution_count": null,
      "id": "6d283a55",
      "metadata": {
        "id": "6d283a55",
        "outputId": "f30d68b1-f8e3-4bbf-b346-9a38cde2ef54"
      },
      "outputs": [
        {
          "data": {
            "text/plain": [
              "array([0.26070636, 0.99734291, 0.37664515, 0.26410836, 0.11318764,\n",
              "       0.09725167, 0.15151764, 0.19112275, 0.09932813, 0.01138845])"
            ]
          },
          "execution_count": 324,
          "metadata": {},
          "output_type": "execute_result"
        }
      ],
      "source": [
        "# Reshaping it to an array\n",
        "\n",
        "y_train_pred = y_train_pred.values.reshape(-1)\n",
        "y_train_pred[:10]\n"
      ]
    },
    {
      "cell_type": "code",
      "execution_count": null,
      "id": "619e5f9e",
      "metadata": {
        "id": "619e5f9e",
        "outputId": "fa9f88c7-f801-4800-f886-b4facfceb8f7"
      },
      "outputs": [
        {
          "data": {
            "text/html": [
              "<div>\n",
              "<style scoped>\n",
              "    .dataframe tbody tr th:only-of-type {\n",
              "        vertical-align: middle;\n",
              "    }\n",
              "\n",
              "    .dataframe tbody tr th {\n",
              "        vertical-align: top;\n",
              "    }\n",
              "\n",
              "    .dataframe thead th {\n",
              "        text-align: right;\n",
              "    }\n",
              "</style>\n",
              "<table border=\"1\" class=\"dataframe\">\n",
              "  <thead>\n",
              "    <tr style=\"text-align: right;\">\n",
              "      <th></th>\n",
              "      <th>Converted</th>\n",
              "      <th>Conversion_Prob</th>\n",
              "    </tr>\n",
              "  </thead>\n",
              "  <tbody>\n",
              "    <tr>\n",
              "      <th>0</th>\n",
              "      <td>0</td>\n",
              "      <td>0.260706</td>\n",
              "    </tr>\n",
              "    <tr>\n",
              "      <th>1</th>\n",
              "      <td>1</td>\n",
              "      <td>0.997343</td>\n",
              "    </tr>\n",
              "    <tr>\n",
              "      <th>2</th>\n",
              "      <td>1</td>\n",
              "      <td>0.376645</td>\n",
              "    </tr>\n",
              "    <tr>\n",
              "      <th>3</th>\n",
              "      <td>0</td>\n",
              "      <td>0.264108</td>\n",
              "    </tr>\n",
              "    <tr>\n",
              "      <th>4</th>\n",
              "      <td>0</td>\n",
              "      <td>0.113188</td>\n",
              "    </tr>\n",
              "  </tbody>\n",
              "</table>\n",
              "</div>"
            ],
            "text/plain": [
              "   Converted  Conversion_Prob\n",
              "0          0         0.260706\n",
              "1          1         0.997343\n",
              "2          1         0.376645\n",
              "3          0         0.264108\n",
              "4          0         0.113188"
            ]
          },
          "execution_count": 325,
          "metadata": {},
          "output_type": "execute_result"
        }
      ],
      "source": [
        "# Given conversion rate and probability of predicted ones\n",
        "\n",
        "y_train_pred_final = pd.DataFrame({'Converted':y_train.values, 'Conversion_Prob':y_train_pred})\n",
        "y_train_pred_final.head()"
      ]
    },
    {
      "cell_type": "code",
      "execution_count": null,
      "id": "cd8816b7",
      "metadata": {
        "id": "cd8816b7",
        "outputId": "be7b9964-1ba9-4509-bf78-887e5a587fde"
      },
      "outputs": [
        {
          "data": {
            "text/html": [
              "<div>\n",
              "<style scoped>\n",
              "    .dataframe tbody tr th:only-of-type {\n",
              "        vertical-align: middle;\n",
              "    }\n",
              "\n",
              "    .dataframe tbody tr th {\n",
              "        vertical-align: top;\n",
              "    }\n",
              "\n",
              "    .dataframe thead th {\n",
              "        text-align: right;\n",
              "    }\n",
              "</style>\n",
              "<table border=\"1\" class=\"dataframe\">\n",
              "  <thead>\n",
              "    <tr style=\"text-align: right;\">\n",
              "      <th></th>\n",
              "      <th>Converted</th>\n",
              "      <th>Conversion_Prob</th>\n",
              "      <th>Predicted</th>\n",
              "    </tr>\n",
              "  </thead>\n",
              "  <tbody>\n",
              "    <tr>\n",
              "      <th>0</th>\n",
              "      <td>0</td>\n",
              "      <td>0.260706</td>\n",
              "      <td>0</td>\n",
              "    </tr>\n",
              "    <tr>\n",
              "      <th>1</th>\n",
              "      <td>1</td>\n",
              "      <td>0.997343</td>\n",
              "      <td>1</td>\n",
              "    </tr>\n",
              "    <tr>\n",
              "      <th>2</th>\n",
              "      <td>1</td>\n",
              "      <td>0.376645</td>\n",
              "      <td>0</td>\n",
              "    </tr>\n",
              "    <tr>\n",
              "      <th>3</th>\n",
              "      <td>0</td>\n",
              "      <td>0.264108</td>\n",
              "      <td>0</td>\n",
              "    </tr>\n",
              "    <tr>\n",
              "      <th>4</th>\n",
              "      <td>0</td>\n",
              "      <td>0.113188</td>\n",
              "      <td>0</td>\n",
              "    </tr>\n",
              "  </tbody>\n",
              "</table>\n",
              "</div>"
            ],
            "text/plain": [
              "   Converted  Conversion_Prob  Predicted\n",
              "0          0         0.260706          0\n",
              "1          1         0.997343          1\n",
              "2          1         0.376645          0\n",
              "3          0         0.264108          0\n",
              "4          0         0.113188          0"
            ]
          },
          "execution_count": 326,
          "metadata": {},
          "output_type": "execute_result"
        }
      ],
      "source": [
        "# Substituting 0 or 1 with the initial cut off = 0.5\n",
        "\n",
        "y_train_pred_final['Predicted'] = y_train_pred_final.Conversion_Prob.map(lambda x: 1 if x > 0.5 else 0)\n",
        "y_train_pred_final.head()\n"
      ]
    },
    {
      "cell_type": "markdown",
      "id": "20b24acb",
      "metadata": {
        "id": "20b24acb"
      },
      "source": [
        "## Evaluation"
      ]
    },
    {
      "cell_type": "code",
      "execution_count": null,
      "id": "272c07c6",
      "metadata": {
        "id": "272c07c6"
      },
      "outputs": [],
      "source": [
        "# Importing metrics from sklearn for evaluation\n",
        "from sklearn import metrics\n"
      ]
    },
    {
      "cell_type": "code",
      "execution_count": null,
      "id": "055237d5",
      "metadata": {
        "id": "055237d5",
        "outputId": "6b2613b3-298d-40cc-805a-163cd6b3d948"
      },
      "outputs": [
        {
          "data": {
            "text/plain": [
              "array([[3476,  439],\n",
              "       [ 743, 1635]], dtype=int64)"
            ]
          },
          "execution_count": 328,
          "metadata": {},
          "output_type": "execute_result"
        }
      ],
      "source": [
        "# Creating the confusion matrix \n",
        "conf = metrics.confusion_matrix(y_train_pred_final.Converted, y_train_pred_final.Predicted )\n",
        "conf"
      ]
    },
    {
      "cell_type": "code",
      "execution_count": null,
      "id": "34b70bec",
      "metadata": {
        "id": "34b70bec"
      },
      "outputs": [],
      "source": [
        "# Predicted        No         Yes\n",
        "# Actual\n",
        "# No              3476      439\n",
        "# Yes             743      1635"
      ]
    },
    {
      "cell_type": "code",
      "execution_count": null,
      "id": "e6cef6a6",
      "metadata": {
        "id": "e6cef6a6",
        "outputId": "3ee7010f-4e55-4a25-a56d-8f515f181459"
      },
      "outputs": [
        {
          "data": {
            "text/plain": [
              "0.8121722548863817"
            ]
          },
          "execution_count": 330,
          "metadata": {},
          "output_type": "execute_result"
        }
      ],
      "source": [
        "# Check the overall accuracy\n",
        "metrics.accuracy_score(y_train_pred_final.Converted, y_train_pred_final.Predicted)"
      ]
    },
    {
      "cell_type": "markdown",
      "id": "125545c1",
      "metadata": {
        "id": "125545c1"
      },
      "source": [
        "Accuracy seems to be good at around 81%"
      ]
    },
    {
      "cell_type": "code",
      "execution_count": null,
      "id": "1ca5075f",
      "metadata": {
        "id": "1ca5075f"
      },
      "outputs": [],
      "source": [
        "# True positives\n",
        "TP = conf[1,1]\n",
        "# True negatives\n",
        "TN = conf[0,0]\n",
        "# False positives\n",
        "FP = conf[0,1] \n",
        "# False negatives\n",
        "FN = conf[1,0]"
      ]
    },
    {
      "cell_type": "code",
      "execution_count": null,
      "id": "a3b56204",
      "metadata": {
        "id": "a3b56204",
        "outputId": "66a1748e-6d54-4258-ed73-0f7f6dd65645"
      },
      "outputs": [
        {
          "data": {
            "text/plain": [
              "0.6875525651808242"
            ]
          },
          "execution_count": 332,
          "metadata": {},
          "output_type": "execute_result"
        }
      ],
      "source": [
        "# Sensitivity\n",
        "TP/(TP+FN)"
      ]
    },
    {
      "cell_type": "code",
      "execution_count": null,
      "id": "22df5caa",
      "metadata": {
        "id": "22df5caa",
        "outputId": "71e8e618-9505-421d-ef18-f8db1f1b5841"
      },
      "outputs": [
        {
          "data": {
            "text/plain": [
              "0.8878671775223499"
            ]
          },
          "execution_count": 333,
          "metadata": {},
          "output_type": "execute_result"
        }
      ],
      "source": [
        "# Specificity\n",
        "TN/(TN+FP)"
      ]
    },
    {
      "cell_type": "markdown",
      "id": "cd327266",
      "metadata": {
        "id": "cd327266"
      },
      "source": [
        "We have 81% accuracy, Sensitivity around 70% and Specificity around 89% by taking cutoff as 0.5."
      ]
    },
    {
      "cell_type": "markdown",
      "id": "b27b65f3",
      "metadata": {
        "id": "b27b65f3"
      },
      "source": [
        "## Optimise Cut off (plotting the ROC Curve)"
      ]
    },
    {
      "cell_type": "code",
      "execution_count": null,
      "id": "94d1c9d6",
      "metadata": {
        "id": "94d1c9d6"
      },
      "outputs": [],
      "source": [
        "# ROC function\n",
        "def draw_roc( actual, probs ):\n",
        "    fpr, tpr, thresholds = metrics.roc_curve( actual, probs,\n",
        "                                              drop_intermediate = False )\n",
        "    auc_score = metrics.roc_auc_score( actual, probs )\n",
        "    plt.figure(figsize=(5, 5))\n",
        "    plt.plot( fpr, tpr, label='ROC curve (area = %0.2f)' % auc_score )\n",
        "    plt.plot([0, 1], [0, 1], 'k--')\n",
        "    plt.xlim([0.0, 1.0])\n",
        "    plt.ylim([0.0, 1.05])\n",
        "    plt.xlabel('False Positive Rate or [1 - True Negative Rate]')\n",
        "    plt.ylabel('True Positive Rate')\n",
        "    plt.title('Receiver operating characteristic example')\n",
        "    plt.legend(loc=\"lower right\")\n",
        "    plt.show()\n",
        "\n",
        "    return None\n"
      ]
    },
    {
      "cell_type": "code",
      "execution_count": null,
      "id": "d7aea5dd",
      "metadata": {
        "id": "d7aea5dd"
      },
      "outputs": [],
      "source": [
        "fpr, tpr, thresholds = metrics.roc_curve( y_train_pred_final.Converted, y_train_pred_final.Conversion_Prob, drop_intermediate = False )"
      ]
    },
    {
      "cell_type": "code",
      "execution_count": null,
      "id": "3c83ac66",
      "metadata": {
        "id": "3c83ac66",
        "outputId": "8d7822b8-dba4-48b6-b715-cfff3b4dd589"
      },
      "outputs": [
        {
          "data": {
            "image/png": "[encoded data removed]",
            "text/plain": [
              "<Figure size 360x360 with 1 Axes>"
            ]
          },
          "metadata": {
            "needs_background": "light"
          },
          "output_type": "display_data"
        }
      ],
      "source": [
        "# Calling ROC function\n",
        "draw_roc(y_train_pred_final.Converted, y_train_pred_final.Conversion_Prob)"
      ]
    },
    {
      "cell_type": "markdown",
      "id": "707de3d8",
      "metadata": {
        "id": "707de3d8"
      },
      "source": [
        "Area under the curve is 0.88 which is nice."
      ]
    },
    {
      "cell_type": "code",
      "execution_count": null,
      "id": "ad8e64f9",
      "metadata": {
        "id": "ad8e64f9",
        "outputId": "c19eafab-7d16-44ee-c213-f95ed13dc238"
      },
      "outputs": [
        {
          "data": {
            "text/html": [
              "<div>\n",
              "<style scoped>\n",
              "    .dataframe tbody tr th:only-of-type {\n",
              "        vertical-align: middle;\n",
              "    }\n",
              "\n",
              "    .dataframe tbody tr th {\n",
              "        vertical-align: top;\n",
              "    }\n",
              "\n",
              "    .dataframe thead th {\n",
              "        text-align: right;\n",
              "    }\n",
              "</style>\n",
              "<table border=\"1\" class=\"dataframe\">\n",
              "  <thead>\n",
              "    <tr style=\"text-align: right;\">\n",
              "      <th></th>\n",
              "      <th>Converted</th>\n",
              "      <th>Conversion_Prob</th>\n",
              "      <th>Predicted</th>\n",
              "      <th>0.0</th>\n",
              "      <th>0.1</th>\n",
              "      <th>0.2</th>\n",
              "      <th>0.3</th>\n",
              "      <th>0.4</th>\n",
              "      <th>0.5</th>\n",
              "      <th>0.6</th>\n",
              "      <th>0.7</th>\n",
              "      <th>0.8</th>\n",
              "      <th>0.9</th>\n",
              "    </tr>\n",
              "  </thead>\n",
              "  <tbody>\n",
              "    <tr>\n",
              "      <th>0</th>\n",
              "      <td>0</td>\n",
              "      <td>0.260706</td>\n",
              "      <td>0</td>\n",
              "      <td>1</td>\n",
              "      <td>1</td>\n",
              "      <td>1</td>\n",
              "      <td>0</td>\n",
              "      <td>0</td>\n",
              "      <td>0</td>\n",
              "      <td>0</td>\n",
              "      <td>0</td>\n",
              "      <td>0</td>\n",
              "      <td>0</td>\n",
              "    </tr>\n",
              "    <tr>\n",
              "      <th>1</th>\n",
              "      <td>1</td>\n",
              "      <td>0.997343</td>\n",
              "      <td>1</td>\n",
              "      <td>1</td>\n",
              "      <td>1</td>\n",
              "      <td>1</td>\n",
              "      <td>1</td>\n",
              "      <td>1</td>\n",
              "      <td>1</td>\n",
              "      <td>1</td>\n",
              "      <td>1</td>\n",
              "      <td>1</td>\n",
              "      <td>1</td>\n",
              "    </tr>\n",
              "    <tr>\n",
              "      <th>2</th>\n",
              "      <td>1</td>\n",
              "      <td>0.376645</td>\n",
              "      <td>0</td>\n",
              "      <td>1</td>\n",
              "      <td>1</td>\n",
              "      <td>1</td>\n",
              "      <td>1</td>\n",
              "      <td>0</td>\n",
              "      <td>0</td>\n",
              "      <td>0</td>\n",
              "      <td>0</td>\n",
              "      <td>0</td>\n",
              "      <td>0</td>\n",
              "    </tr>\n",
              "    <tr>\n",
              "      <th>3</th>\n",
              "      <td>0</td>\n",
              "      <td>0.264108</td>\n",
              "      <td>0</td>\n",
              "      <td>1</td>\n",
              "      <td>1</td>\n",
              "      <td>1</td>\n",
              "      <td>0</td>\n",
              "      <td>0</td>\n",
              "      <td>0</td>\n",
              "      <td>0</td>\n",
              "      <td>0</td>\n",
              "      <td>0</td>\n",
              "      <td>0</td>\n",
              "    </tr>\n",
              "    <tr>\n",
              "      <th>4</th>\n",
              "      <td>0</td>\n",
              "      <td>0.113188</td>\n",
              "      <td>0</td>\n",
              "      <td>1</td>\n",
              "      <td>1</td>\n",
              "      <td>0</td>\n",
              "      <td>0</td>\n",
              "      <td>0</td>\n",
              "      <td>0</td>\n",
              "      <td>0</td>\n",
              "      <td>0</td>\n",
              "      <td>0</td>\n",
              "      <td>0</td>\n",
              "    </tr>\n",
              "  </tbody>\n",
              "</table>\n",
              "</div>"
            ],
            "text/plain": [
              "   Converted  Conversion_Prob  Predicted  0.0  0.1  0.2  0.3  0.4  0.5  0.6  \\\n",
              "0          0         0.260706          0    1    1    1    0    0    0    0   \n",
              "1          1         0.997343          1    1    1    1    1    1    1    1   \n",
              "2          1         0.376645          0    1    1    1    1    0    0    0   \n",
              "3          0         0.264108          0    1    1    1    0    0    0    0   \n",
              "4          0         0.113188          0    1    1    0    0    0    0    0   \n",
              "\n",
              "   0.7  0.8  0.9  \n",
              "0    0    0    0  \n",
              "1    1    1    1  \n",
              "2    0    0    0  \n",
              "3    0    0    0  \n",
              "4    0    0    0  "
            ]
          },
          "execution_count": 337,
          "metadata": {},
          "output_type": "execute_result"
        }
      ],
      "source": [
        "# Creating columns with different probability cutoffs \n",
        "items = [float(x)/10 for x in range(10)]\n",
        "for i in items:\n",
        "    y_train_pred_final[i]= y_train_pred_final.Conversion_Prob.map(lambda x: 1 if x > i else 0)\n",
        "y_train_pred_final.head()"
      ]
    },
    {
      "cell_type": "code",
      "execution_count": null,
      "id": "95c67601",
      "metadata": {
        "id": "95c67601",
        "outputId": "3a803b55-72f9-4634-d34f-afb64297d22e"
      },
      "outputs": [
        {
          "data": {
            "text/html": [
              "<div>\n",
              "<style scoped>\n",
              "    .dataframe tbody tr th:only-of-type {\n",
              "        vertical-align: middle;\n",
              "    }\n",
              "\n",
              "    .dataframe tbody tr th {\n",
              "        vertical-align: top;\n",
              "    }\n",
              "\n",
              "    .dataframe thead th {\n",
              "        text-align: right;\n",
              "    }\n",
              "</style>\n",
              "<table border=\"1\" class=\"dataframe\">\n",
              "  <thead>\n",
              "    <tr style=\"text-align: right;\">\n",
              "      <th></th>\n",
              "      <th>prob</th>\n",
              "      <th>accuracy</th>\n",
              "      <th>sens</th>\n",
              "      <th>spec</th>\n",
              "    </tr>\n",
              "  </thead>\n",
              "  <tbody>\n",
              "    <tr>\n",
              "      <th>0.0</th>\n",
              "      <td>0.0</td>\n",
              "      <td>0.377880</td>\n",
              "      <td>1.000000</td>\n",
              "      <td>0.000000</td>\n",
              "    </tr>\n",
              "    <tr>\n",
              "      <th>0.1</th>\n",
              "      <td>0.1</td>\n",
              "      <td>0.599873</td>\n",
              "      <td>0.961312</td>\n",
              "      <td>0.380332</td>\n",
              "    </tr>\n",
              "    <tr>\n",
              "      <th>0.2</th>\n",
              "      <td>0.2</td>\n",
              "      <td>0.759256</td>\n",
              "      <td>0.902019</td>\n",
              "      <td>0.672542</td>\n",
              "    </tr>\n",
              "    <tr>\n",
              "      <th>0.3</th>\n",
              "      <td>0.3</td>\n",
              "      <td>0.801367</td>\n",
              "      <td>0.833053</td>\n",
              "      <td>0.782120</td>\n",
              "    </tr>\n",
              "    <tr>\n",
              "      <th>0.4</th>\n",
              "      <td>0.4</td>\n",
              "      <td>0.812013</td>\n",
              "      <td>0.765349</td>\n",
              "      <td>0.840358</td>\n",
              "    </tr>\n",
              "    <tr>\n",
              "      <th>0.5</th>\n",
              "      <td>0.5</td>\n",
              "      <td>0.812172</td>\n",
              "      <td>0.687553</td>\n",
              "      <td>0.887867</td>\n",
              "    </tr>\n",
              "    <tr>\n",
              "      <th>0.6</th>\n",
              "      <td>0.6</td>\n",
              "      <td>0.794375</td>\n",
              "      <td>0.572330</td>\n",
              "      <td>0.929246</td>\n",
              "    </tr>\n",
              "    <tr>\n",
              "      <th>0.7</th>\n",
              "      <td>0.7</td>\n",
              "      <td>0.782457</td>\n",
              "      <td>0.500421</td>\n",
              "      <td>0.953768</td>\n",
              "    </tr>\n",
              "    <tr>\n",
              "      <th>0.8</th>\n",
              "      <td>0.8</td>\n",
              "      <td>0.764818</td>\n",
              "      <td>0.419680</td>\n",
              "      <td>0.974457</td>\n",
              "    </tr>\n",
              "    <tr>\n",
              "      <th>0.9</th>\n",
              "      <td>0.9</td>\n",
              "      <td>0.716193</td>\n",
              "      <td>0.266611</td>\n",
              "      <td>0.989272</td>\n",
              "    </tr>\n",
              "  </tbody>\n",
              "</table>\n",
              "</div>"
            ],
            "text/plain": [
              "     prob  accuracy      sens      spec\n",
              "0.0   0.0  0.377880  1.000000  0.000000\n",
              "0.1   0.1  0.599873  0.961312  0.380332\n",
              "0.2   0.2  0.759256  0.902019  0.672542\n",
              "0.3   0.3  0.801367  0.833053  0.782120\n",
              "0.4   0.4  0.812013  0.765349  0.840358\n",
              "0.5   0.5  0.812172  0.687553  0.887867\n",
              "0.6   0.6  0.794375  0.572330  0.929246\n",
              "0.7   0.7  0.782457  0.500421  0.953768\n",
              "0.8   0.8  0.764818  0.419680  0.974457\n",
              "0.9   0.9  0.716193  0.266611  0.989272"
            ]
          },
          "execution_count": 338,
          "metadata": {},
          "output_type": "execute_result"
        }
      ],
      "source": [
        "# Creating a dataframe to see the values of accuracy, sensitivity, and specificity at different values of probabiity cutoffs\n",
        "cutoff_df = pd.DataFrame( columns = ['prob','accuracy','sens','spec'])\n",
        "\n",
        "# Making confusing matrix to find values of sensitivity, accurace and specificity for each level of probablity\n",
        "from sklearn.metrics import confusion_matrix\n",
        "num = [0.0,0.1,0.2,0.3,0.4,0.5,0.6,0.7,0.8,0.9]\n",
        "for i in num:\n",
        "    con = metrics.confusion_matrix(y_train_pred_final.Converted, y_train_pred_final[i] )\n",
        "    total1=sum(sum(con))\n",
        "    accuracy = (con[0,0]+con[1,1])/total1\n",
        "    \n",
        "    spec = con[0,0]/(con[0,0]+con[0,1])\n",
        "    sens = con[1,1]/(con[1,0]+con[1,1])\n",
        "    cutoff_df.loc[i] =[ i ,accuracy,sens,spec]\n",
        "cutoff_df"
      ]
    },
    {
      "cell_type": "code",
      "execution_count": null,
      "id": "47c4f413",
      "metadata": {
        "id": "47c4f413",
        "outputId": "5c59fbcf-2460-4212-8501-1e1a57d3469f"
      },
      "outputs": [
        {
          "data": {
            "image/png": "[encoded data removed]",
            "text/plain": [
              "<Figure size 432x288 with 1 Axes>"
            ]
          },
          "metadata": {
            "needs_background": "light"
          },
          "output_type": "display_data"
        }
      ],
      "source": [
        "# Plotting the graph\n",
        "cutoff_df.plot.line(x='prob', y=['accuracy','sens','spec'])\n",
        "plt.show()"
      ]
    },
    {
      "cell_type": "markdown",
      "id": "38e032b2",
      "metadata": {
        "id": "38e032b2"
      },
      "source": [
        "From the above graph the optimal cut off can be observe at 0.35."
      ]
    },
    {
      "cell_type": "code",
      "execution_count": null,
      "id": "0458848f",
      "metadata": {
        "id": "0458848f",
        "outputId": "f3ec595d-6b16-4c9d-ff77-6186c6229b2d"
      },
      "outputs": [
        {
          "data": {
            "text/html": [
              "<div>\n",
              "<style scoped>\n",
              "    .dataframe tbody tr th:only-of-type {\n",
              "        vertical-align: middle;\n",
              "    }\n",
              "\n",
              "    .dataframe tbody tr th {\n",
              "        vertical-align: top;\n",
              "    }\n",
              "\n",
              "    .dataframe thead th {\n",
              "        text-align: right;\n",
              "    }\n",
              "</style>\n",
              "<table border=\"1\" class=\"dataframe\">\n",
              "  <thead>\n",
              "    <tr style=\"text-align: right;\">\n",
              "      <th></th>\n",
              "      <th>Converted</th>\n",
              "      <th>Conversion_Prob</th>\n",
              "      <th>Predicted</th>\n",
              "      <th>0.0</th>\n",
              "      <th>0.1</th>\n",
              "      <th>0.2</th>\n",
              "      <th>0.3</th>\n",
              "      <th>0.4</th>\n",
              "      <th>0.5</th>\n",
              "      <th>0.6</th>\n",
              "      <th>0.7</th>\n",
              "      <th>0.8</th>\n",
              "      <th>0.9</th>\n",
              "      <th>final_predicted</th>\n",
              "    </tr>\n",
              "  </thead>\n",
              "  <tbody>\n",
              "    <tr>\n",
              "      <th>0</th>\n",
              "      <td>0</td>\n",
              "      <td>0.260706</td>\n",
              "      <td>0</td>\n",
              "      <td>1</td>\n",
              "      <td>1</td>\n",
              "      <td>1</td>\n",
              "      <td>0</td>\n",
              "      <td>0</td>\n",
              "      <td>0</td>\n",
              "      <td>0</td>\n",
              "      <td>0</td>\n",
              "      <td>0</td>\n",
              "      <td>0</td>\n",
              "      <td>0</td>\n",
              "    </tr>\n",
              "    <tr>\n",
              "      <th>1</th>\n",
              "      <td>1</td>\n",
              "      <td>0.997343</td>\n",
              "      <td>1</td>\n",
              "      <td>1</td>\n",
              "      <td>1</td>\n",
              "      <td>1</td>\n",
              "      <td>1</td>\n",
              "      <td>1</td>\n",
              "      <td>1</td>\n",
              "      <td>1</td>\n",
              "      <td>1</td>\n",
              "      <td>1</td>\n",
              "      <td>1</td>\n",
              "      <td>1</td>\n",
              "    </tr>\n",
              "    <tr>\n",
              "      <th>2</th>\n",
              "      <td>1</td>\n",
              "      <td>0.376645</td>\n",
              "      <td>0</td>\n",
              "      <td>1</td>\n",
              "      <td>1</td>\n",
              "      <td>1</td>\n",
              "      <td>1</td>\n",
              "      <td>0</td>\n",
              "      <td>0</td>\n",
              "      <td>0</td>\n",
              "      <td>0</td>\n",
              "      <td>0</td>\n",
              "      <td>0</td>\n",
              "      <td>1</td>\n",
              "    </tr>\n",
              "    <tr>\n",
              "      <th>3</th>\n",
              "      <td>0</td>\n",
              "      <td>0.264108</td>\n",
              "      <td>0</td>\n",
              "      <td>1</td>\n",
              "      <td>1</td>\n",
              "      <td>1</td>\n",
              "      <td>0</td>\n",
              "      <td>0</td>\n",
              "      <td>0</td>\n",
              "      <td>0</td>\n",
              "      <td>0</td>\n",
              "      <td>0</td>\n",
              "      <td>0</td>\n",
              "      <td>0</td>\n",
              "    </tr>\n",
              "    <tr>\n",
              "      <th>4</th>\n",
              "      <td>0</td>\n",
              "      <td>0.113188</td>\n",
              "      <td>0</td>\n",
              "      <td>1</td>\n",
              "      <td>1</td>\n",
              "      <td>0</td>\n",
              "      <td>0</td>\n",
              "      <td>0</td>\n",
              "      <td>0</td>\n",
              "      <td>0</td>\n",
              "      <td>0</td>\n",
              "      <td>0</td>\n",
              "      <td>0</td>\n",
              "      <td>0</td>\n",
              "    </tr>\n",
              "  </tbody>\n",
              "</table>\n",
              "</div>"
            ],
            "text/plain": [
              "   Converted  Conversion_Prob  Predicted  0.0  0.1  0.2  0.3  0.4  0.5  0.6  \\\n",
              "0          0         0.260706          0    1    1    1    0    0    0    0   \n",
              "1          1         0.997343          1    1    1    1    1    1    1    1   \n",
              "2          1         0.376645          0    1    1    1    1    0    0    0   \n",
              "3          0         0.264108          0    1    1    1    0    0    0    0   \n",
              "4          0         0.113188          0    1    1    0    0    0    0    0   \n",
              "\n",
              "   0.7  0.8  0.9  final_predicted  \n",
              "0    0    0    0                0  \n",
              "1    1    1    1                1  \n",
              "2    0    0    0                1  \n",
              "3    0    0    0                0  \n",
              "4    0    0    0                0  "
            ]
          },
          "execution_count": 340,
          "metadata": {},
          "output_type": "execute_result"
        }
      ],
      "source": [
        "y_train_pred_final['final_predicted'] = y_train_pred_final.Conversion_Prob.map( lambda x: 1 if x > 0.35 else 0)\n",
        "y_train_pred_final.head()"
      ]
    },
    {
      "cell_type": "code",
      "execution_count": null,
      "id": "e8f964a6",
      "metadata": {
        "id": "e8f964a6",
        "outputId": "a9544eae-b6ba-4956-eb97-19661f80823c"
      },
      "outputs": [
        {
          "data": {
            "text/plain": [
              "0.8074050532337518"
            ]
          },
          "execution_count": 341,
          "metadata": {},
          "output_type": "execute_result"
        }
      ],
      "source": [
        "# Checking the overall accuracy of the model\n",
        "metrics.accuracy_score(y_train_pred_final.Converted, y_train_pred_final.final_predicted)\n"
      ]
    },
    {
      "cell_type": "code",
      "execution_count": null,
      "id": "e3c5de33",
      "metadata": {
        "id": "e3c5de33",
        "outputId": "ba02f052-a383-4470-9fc4-037ac0d8354e"
      },
      "outputs": [
        {
          "data": {
            "text/plain": [
              "array([[3179,  736],\n",
              "       [ 476, 1902]], dtype=int64)"
            ]
          },
          "execution_count": 342,
          "metadata": {},
          "output_type": "execute_result"
        }
      ],
      "source": [
        "# Creating confusion matrix \n",
        "conf2 = metrics.confusion_matrix(y_train_pred_final.Converted, y_train_pred_final.final_predicted )\n",
        "conf2"
      ]
    },
    {
      "cell_type": "code",
      "execution_count": null,
      "id": "13fe7e94",
      "metadata": {
        "id": "13fe7e94"
      },
      "outputs": [],
      "source": [
        "# True positives\n",
        "TP = conf2[1,1]\n",
        "# True negatives\n",
        "TN = conf2[0,0]\n",
        "# False positives\n",
        "FP = conf2[0,1] \n",
        "# False negatives\n",
        "FN = conf2[1,0]"
      ]
    },
    {
      "cell_type": "code",
      "execution_count": null,
      "id": "859e3382",
      "metadata": {
        "id": "859e3382",
        "outputId": "53fa7197-7f5b-4b3e-c330-c5b32596cb60"
      },
      "outputs": [
        {
          "data": {
            "text/plain": [
              "0.7998317914213625"
            ]
          },
          "execution_count": 344,
          "metadata": {},
          "output_type": "execute_result"
        }
      ],
      "source": [
        "# Sensitivity\n",
        "TP/(TP+FN)\n"
      ]
    },
    {
      "cell_type": "code",
      "execution_count": null,
      "id": "c1f31759",
      "metadata": {
        "id": "c1f31759",
        "outputId": "cdba716d-64b7-4c34-ce84-ab1559f814c6"
      },
      "outputs": [
        {
          "data": {
            "text/plain": [
              "0.8120051085568327"
            ]
          },
          "execution_count": 345,
          "metadata": {},
          "output_type": "execute_result"
        }
      ],
      "source": [
        "# Specificity\n",
        "TN/(TN+FP)"
      ]
    },
    {
      "cell_type": "markdown",
      "id": "d976a143",
      "metadata": {
        "id": "d976a143"
      },
      "source": [
        "We can observe accuracy, sensitivity and specificity all of them around 80% with the cutoff at 0.35"
      ]
    },
    {
      "cell_type": "markdown",
      "id": "6237b2fe",
      "metadata": {
        "id": "6237b2fe"
      },
      "source": [
        "## Test Set Prediction"
      ]
    },
    {
      "cell_type": "code",
      "execution_count": null,
      "id": "14bec79b",
      "metadata": {
        "id": "14bec79b"
      },
      "outputs": [],
      "source": [
        "# Scaling of numeric columns\n",
        "X_test[['TotalVisits', 'Page Views Per Visit', 'Total Time Spent on Website']] = scaler.transform(X_test[['TotalVisits', 'Page Views Per Visit', 'Total Time Spent on Website']])"
      ]
    },
    {
      "cell_type": "code",
      "execution_count": null,
      "id": "969a83bc",
      "metadata": {
        "id": "969a83bc"
      },
      "outputs": [],
      "source": [
        "col = X_train.columns"
      ]
    },
    {
      "cell_type": "code",
      "execution_count": null,
      "id": "417a4101",
      "metadata": {
        "id": "417a4101",
        "outputId": "c30b686d-e720-40f1-f2bf-9b302e8a0c12"
      },
      "outputs": [
        {
          "data": {
            "text/html": [
              "<div>\n",
              "<style scoped>\n",
              "    .dataframe tbody tr th:only-of-type {\n",
              "        vertical-align: middle;\n",
              "    }\n",
              "\n",
              "    .dataframe tbody tr th {\n",
              "        vertical-align: top;\n",
              "    }\n",
              "\n",
              "    .dataframe thead th {\n",
              "        text-align: right;\n",
              "    }\n",
              "</style>\n",
              "<table border=\"1\" class=\"dataframe\">\n",
              "  <thead>\n",
              "    <tr style=\"text-align: right;\">\n",
              "      <th></th>\n",
              "      <th>const</th>\n",
              "      <th>TotalVisits</th>\n",
              "      <th>Total Time Spent on Website</th>\n",
              "      <th>Lead Origin_Lead Add Form</th>\n",
              "      <th>Lead Source_Olark Chat</th>\n",
              "      <th>Lead Source_Welingak Website</th>\n",
              "      <th>Do Not Email_Yes</th>\n",
              "      <th>Last Activity_Olark Chat Conversation</th>\n",
              "      <th>What is your current occupation_Working Professional</th>\n",
              "      <th>Last Notable Activity_Email Link Clicked</th>\n",
              "      <th>Last Notable Activity_Email Opened</th>\n",
              "      <th>Last Notable Activity_Modified</th>\n",
              "      <th>Last Notable Activity_Olark Chat Conversation</th>\n",
              "      <th>Last Notable Activity_Page Visited on Website</th>\n",
              "    </tr>\n",
              "  </thead>\n",
              "  <tbody>\n",
              "    <tr>\n",
              "      <th>3308</th>\n",
              "      <td>1.0</td>\n",
              "      <td>0.117647</td>\n",
              "      <td>0.050176</td>\n",
              "      <td>0</td>\n",
              "      <td>0</td>\n",
              "      <td>0</td>\n",
              "      <td>0</td>\n",
              "      <td>0</td>\n",
              "      <td>0</td>\n",
              "      <td>0</td>\n",
              "      <td>1</td>\n",
              "      <td>0</td>\n",
              "      <td>0</td>\n",
              "      <td>0</td>\n",
              "    </tr>\n",
              "    <tr>\n",
              "      <th>4421</th>\n",
              "      <td>1.0</td>\n",
              "      <td>0.000000</td>\n",
              "      <td>0.000000</td>\n",
              "      <td>0</td>\n",
              "      <td>1</td>\n",
              "      <td>0</td>\n",
              "      <td>0</td>\n",
              "      <td>0</td>\n",
              "      <td>0</td>\n",
              "      <td>0</td>\n",
              "      <td>0</td>\n",
              "      <td>0</td>\n",
              "      <td>0</td>\n",
              "      <td>0</td>\n",
              "    </tr>\n",
              "    <tr>\n",
              "      <th>8855</th>\n",
              "      <td>1.0</td>\n",
              "      <td>0.058824</td>\n",
              "      <td>0.547975</td>\n",
              "      <td>0</td>\n",
              "      <td>0</td>\n",
              "      <td>0</td>\n",
              "      <td>0</td>\n",
              "      <td>0</td>\n",
              "      <td>0</td>\n",
              "      <td>0</td>\n",
              "      <td>0</td>\n",
              "      <td>1</td>\n",
              "      <td>0</td>\n",
              "      <td>0</td>\n",
              "    </tr>\n",
              "    <tr>\n",
              "      <th>5302</th>\n",
              "      <td>1.0</td>\n",
              "      <td>0.000000</td>\n",
              "      <td>0.000000</td>\n",
              "      <td>0</td>\n",
              "      <td>1</td>\n",
              "      <td>0</td>\n",
              "      <td>0</td>\n",
              "      <td>1</td>\n",
              "      <td>0</td>\n",
              "      <td>0</td>\n",
              "      <td>0</td>\n",
              "      <td>1</td>\n",
              "      <td>0</td>\n",
              "      <td>0</td>\n",
              "    </tr>\n",
              "    <tr>\n",
              "      <th>2169</th>\n",
              "      <td>1.0</td>\n",
              "      <td>0.588235</td>\n",
              "      <td>0.390405</td>\n",
              "      <td>0</td>\n",
              "      <td>0</td>\n",
              "      <td>0</td>\n",
              "      <td>0</td>\n",
              "      <td>0</td>\n",
              "      <td>0</td>\n",
              "      <td>0</td>\n",
              "      <td>1</td>\n",
              "      <td>0</td>\n",
              "      <td>0</td>\n",
              "      <td>0</td>\n",
              "    </tr>\n",
              "    <tr>\n",
              "      <th>...</th>\n",
              "      <td>...</td>\n",
              "      <td>...</td>\n",
              "      <td>...</td>\n",
              "      <td>...</td>\n",
              "      <td>...</td>\n",
              "      <td>...</td>\n",
              "      <td>...</td>\n",
              "      <td>...</td>\n",
              "      <td>...</td>\n",
              "      <td>...</td>\n",
              "      <td>...</td>\n",
              "      <td>...</td>\n",
              "      <td>...</td>\n",
              "      <td>...</td>\n",
              "    </tr>\n",
              "    <tr>\n",
              "      <th>5655</th>\n",
              "      <td>1.0</td>\n",
              "      <td>0.058824</td>\n",
              "      <td>0.218310</td>\n",
              "      <td>0</td>\n",
              "      <td>0</td>\n",
              "      <td>0</td>\n",
              "      <td>0</td>\n",
              "      <td>0</td>\n",
              "      <td>0</td>\n",
              "      <td>0</td>\n",
              "      <td>0</td>\n",
              "      <td>1</td>\n",
              "      <td>0</td>\n",
              "      <td>0</td>\n",
              "    </tr>\n",
              "    <tr>\n",
              "      <th>7836</th>\n",
              "      <td>1.0</td>\n",
              "      <td>0.588235</td>\n",
              "      <td>0.227113</td>\n",
              "      <td>0</td>\n",
              "      <td>0</td>\n",
              "      <td>0</td>\n",
              "      <td>0</td>\n",
              "      <td>0</td>\n",
              "      <td>1</td>\n",
              "      <td>1</td>\n",
              "      <td>0</td>\n",
              "      <td>0</td>\n",
              "      <td>0</td>\n",
              "      <td>0</td>\n",
              "    </tr>\n",
              "    <tr>\n",
              "      <th>8378</th>\n",
              "      <td>1.0</td>\n",
              "      <td>0.588235</td>\n",
              "      <td>0.179577</td>\n",
              "      <td>0</td>\n",
              "      <td>0</td>\n",
              "      <td>0</td>\n",
              "      <td>1</td>\n",
              "      <td>0</td>\n",
              "      <td>0</td>\n",
              "      <td>0</td>\n",
              "      <td>0</td>\n",
              "      <td>0</td>\n",
              "      <td>0</td>\n",
              "      <td>1</td>\n",
              "    </tr>\n",
              "    <tr>\n",
              "      <th>1263</th>\n",
              "      <td>1.0</td>\n",
              "      <td>0.117647</td>\n",
              "      <td>0.376320</td>\n",
              "      <td>0</td>\n",
              "      <td>0</td>\n",
              "      <td>0</td>\n",
              "      <td>0</td>\n",
              "      <td>0</td>\n",
              "      <td>1</td>\n",
              "      <td>0</td>\n",
              "      <td>0</td>\n",
              "      <td>0</td>\n",
              "      <td>0</td>\n",
              "      <td>0</td>\n",
              "    </tr>\n",
              "    <tr>\n",
              "      <th>8633</th>\n",
              "      <td>1.0</td>\n",
              "      <td>0.058824</td>\n",
              "      <td>0.150088</td>\n",
              "      <td>0</td>\n",
              "      <td>0</td>\n",
              "      <td>0</td>\n",
              "      <td>1</td>\n",
              "      <td>0</td>\n",
              "      <td>0</td>\n",
              "      <td>0</td>\n",
              "      <td>0</td>\n",
              "      <td>1</td>\n",
              "      <td>0</td>\n",
              "      <td>0</td>\n",
              "    </tr>\n",
              "  </tbody>\n",
              "</table>\n",
              "<p>2698 rows × 14 columns</p>\n",
              "</div>"
            ],
            "text/plain": [
              "      const  TotalVisits  Total Time Spent on Website  \\\n",
              "3308    1.0     0.117647                     0.050176   \n",
              "4421    1.0     0.000000                     0.000000   \n",
              "8855    1.0     0.058824                     0.547975   \n",
              "5302    1.0     0.000000                     0.000000   \n",
              "2169    1.0     0.588235                     0.390405   \n",
              "...     ...          ...                          ...   \n",
              "5655    1.0     0.058824                     0.218310   \n",
              "7836    1.0     0.588235                     0.227113   \n",
              "8378    1.0     0.588235                     0.179577   \n",
              "1263    1.0     0.117647                     0.376320   \n",
              "8633    1.0     0.058824                     0.150088   \n",
              "\n",
              "      Lead Origin_Lead Add Form  Lead Source_Olark Chat  \\\n",
              "3308                          0                       0   \n",
              "4421                          0                       1   \n",
              "8855                          0                       0   \n",
              "5302                          0                       1   \n",
              "2169                          0                       0   \n",
              "...                         ...                     ...   \n",
              "5655                          0                       0   \n",
              "7836                          0                       0   \n",
              "8378                          0                       0   \n",
              "1263                          0                       0   \n",
              "8633                          0                       0   \n",
              "\n",
              "      Lead Source_Welingak Website  Do Not Email_Yes  \\\n",
              "3308                             0                 0   \n",
              "4421                             0                 0   \n",
              "8855                             0                 0   \n",
              "5302                             0                 0   \n",
              "2169                             0                 0   \n",
              "...                            ...               ...   \n",
              "5655                             0                 0   \n",
              "7836                             0                 0   \n",
              "8378                             0                 1   \n",
              "1263                             0                 0   \n",
              "8633                             0                 1   \n",
              "\n",
              "      Last Activity_Olark Chat Conversation  \\\n",
              "3308                                      0   \n",
              "4421                                      0   \n",
              "8855                                      0   \n",
              "5302                                      1   \n",
              "2169                                      0   \n",
              "...                                     ...   \n",
              "5655                                      0   \n",
              "7836                                      0   \n",
              "8378                                      0   \n",
              "1263                                      0   \n",
              "8633                                      0   \n",
              "\n",
              "      What is your current occupation_Working Professional  \\\n",
              "3308                                                  0      \n",
              "4421                                                  0      \n",
              "8855                                                  0      \n",
              "5302                                                  0      \n",
              "2169                                                  0      \n",
              "...                                                 ...      \n",
              "5655                                                  0      \n",
              "7836                                                  1      \n",
              "8378                                                  0      \n",
              "1263                                                  1      \n",
              "8633                                                  0      \n",
              "\n",
              "      Last Notable Activity_Email Link Clicked  \\\n",
              "3308                                         0   \n",
              "4421                                         0   \n",
              "8855                                         0   \n",
              "5302                                         0   \n",
              "2169                                         0   \n",
              "...                                        ...   \n",
              "5655                                         0   \n",
              "7836                                         1   \n",
              "8378                                         0   \n",
              "1263                                         0   \n",
              "8633                                         0   \n",
              "\n",
              "      Last Notable Activity_Email Opened  Last Notable Activity_Modified  \\\n",
              "3308                                   1                               0   \n",
              "4421                                   0                               0   \n",
              "8855                                   0                               1   \n",
              "5302                                   0                               1   \n",
              "2169                                   1                               0   \n",
              "...                                  ...                             ...   \n",
              "5655                                   0                               1   \n",
              "7836                                   0                               0   \n",
              "8378                                   0                               0   \n",
              "1263                                   0                               0   \n",
              "8633                                   0                               1   \n",
              "\n",
              "      Last Notable Activity_Olark Chat Conversation  \\\n",
              "3308                                              0   \n",
              "4421                                              0   \n",
              "8855                                              0   \n",
              "5302                                              0   \n",
              "2169                                              0   \n",
              "...                                             ...   \n",
              "5655                                              0   \n",
              "7836                                              0   \n",
              "8378                                              0   \n",
              "1263                                              0   \n",
              "8633                                              0   \n",
              "\n",
              "      Last Notable Activity_Page Visited on Website  \n",
              "3308                                              0  \n",
              "4421                                              0  \n",
              "8855                                              0  \n",
              "5302                                              0  \n",
              "2169                                              0  \n",
              "...                                             ...  \n",
              "5655                                              0  \n",
              "7836                                              0  \n",
              "8378                                              1  \n",
              "1263                                              0  \n",
              "8633                                              0  \n",
              "\n",
              "[2698 rows x 14 columns]"
            ]
          },
          "execution_count": 348,
          "metadata": {},
          "output_type": "execute_result"
        }
      ],
      "source": [
        "# Selecting the columns of X_train for X_test too\n",
        "X_test = X_test[col]\n",
        "\n",
        "# Adding constant to X_test\n",
        "X_test_sm = sm.add_constant(X_test[col])\n",
        "X_test_sm"
      ]
    },
    {
      "cell_type": "code",
      "execution_count": null,
      "id": "06105fcb",
      "metadata": {
        "id": "06105fcb",
        "outputId": "d5afb63a-40a1-46d5-ca92-c0ce5822498e"
      },
      "outputs": [
        {
          "data": {
            "text/html": [
              "<div>\n",
              "<style scoped>\n",
              "    .dataframe tbody tr th:only-of-type {\n",
              "        vertical-align: middle;\n",
              "    }\n",
              "\n",
              "    .dataframe tbody tr th {\n",
              "        vertical-align: top;\n",
              "    }\n",
              "\n",
              "    .dataframe thead th {\n",
              "        text-align: right;\n",
              "    }\n",
              "</style>\n",
              "<table border=\"1\" class=\"dataframe\">\n",
              "  <thead>\n",
              "    <tr style=\"text-align: right;\">\n",
              "      <th></th>\n",
              "      <th>Converted</th>\n",
              "      <th>Conversion_Probability</th>\n",
              "    </tr>\n",
              "  </thead>\n",
              "  <tbody>\n",
              "    <tr>\n",
              "      <th>0</th>\n",
              "      <td>0</td>\n",
              "      <td>0.103537</td>\n",
              "    </tr>\n",
              "    <tr>\n",
              "      <th>1</th>\n",
              "      <td>1</td>\n",
              "      <td>0.590803</td>\n",
              "    </tr>\n",
              "    <tr>\n",
              "      <th>2</th>\n",
              "      <td>1</td>\n",
              "      <td>0.421832</td>\n",
              "    </tr>\n",
              "    <tr>\n",
              "      <th>3</th>\n",
              "      <td>0</td>\n",
              "      <td>0.062189</td>\n",
              "    </tr>\n",
              "    <tr>\n",
              "      <th>4</th>\n",
              "      <td>0</td>\n",
              "      <td>0.490974</td>\n",
              "    </tr>\n",
              "  </tbody>\n",
              "</table>\n",
              "</div>"
            ],
            "text/plain": [
              "   Converted  Conversion_Probability\n",
              "0          0                0.103537\n",
              "1          1                0.590803\n",
              "2          1                0.421832\n",
              "3          0                0.062189\n",
              "4          0                0.490974"
            ]
          },
          "execution_count": 349,
          "metadata": {},
          "output_type": "execute_result"
        }
      ],
      "source": [
        "# Storing prediction of test set in the variable 'y_test_pred'\n",
        "y_test_pred = res.predict(X_test_sm)\n",
        "\n",
        "# Coverting it to dataframe\n",
        "y_pred_df = pd.DataFrame(y_test_pred)\n",
        "\n",
        "# Converting y_test to dataframe\n",
        "y_test_df = pd.DataFrame(y_test)\n",
        "\n",
        "# Remove index for both dataframes to append them side by side \n",
        "y_pred_df.reset_index(drop=True, inplace=True)\n",
        "y_test_df.reset_index(drop=True, inplace=True)\n",
        "\n",
        "# Append y_test_df and y_pred_df\n",
        "y_pred_final = pd.concat([y_test_df, y_pred_df], axis=1)\n",
        "\n",
        "# Renaming column \n",
        "y_pred_final= y_pred_final.rename(columns = {0 : 'Conversion_Probability'})\n",
        "y_pred_final.head()"
      ]
    },
    {
      "cell_type": "code",
      "execution_count": null,
      "id": "23bbe321",
      "metadata": {
        "id": "23bbe321",
        "outputId": "43806e29-9d30-4cf4-e642-6111165df992"
      },
      "outputs": [
        {
          "data": {
            "text/html": [
              "<div>\n",
              "<style scoped>\n",
              "    .dataframe tbody tr th:only-of-type {\n",
              "        vertical-align: middle;\n",
              "    }\n",
              "\n",
              "    .dataframe tbody tr th {\n",
              "        vertical-align: top;\n",
              "    }\n",
              "\n",
              "    .dataframe thead th {\n",
              "        text-align: right;\n",
              "    }\n",
              "</style>\n",
              "<table border=\"1\" class=\"dataframe\">\n",
              "  <thead>\n",
              "    <tr style=\"text-align: right;\">\n",
              "      <th></th>\n",
              "      <th>Converted</th>\n",
              "      <th>Conversion_Probability</th>\n",
              "      <th>final_predicted</th>\n",
              "    </tr>\n",
              "  </thead>\n",
              "  <tbody>\n",
              "    <tr>\n",
              "      <th>0</th>\n",
              "      <td>0</td>\n",
              "      <td>0.103537</td>\n",
              "      <td>0</td>\n",
              "    </tr>\n",
              "    <tr>\n",
              "      <th>1</th>\n",
              "      <td>1</td>\n",
              "      <td>0.590803</td>\n",
              "      <td>1</td>\n",
              "    </tr>\n",
              "    <tr>\n",
              "      <th>2</th>\n",
              "      <td>1</td>\n",
              "      <td>0.421832</td>\n",
              "      <td>1</td>\n",
              "    </tr>\n",
              "    <tr>\n",
              "      <th>3</th>\n",
              "      <td>0</td>\n",
              "      <td>0.062189</td>\n",
              "      <td>0</td>\n",
              "    </tr>\n",
              "    <tr>\n",
              "      <th>4</th>\n",
              "      <td>0</td>\n",
              "      <td>0.490974</td>\n",
              "      <td>1</td>\n",
              "    </tr>\n",
              "    <tr>\n",
              "      <th>...</th>\n",
              "      <td>...</td>\n",
              "      <td>...</td>\n",
              "      <td>...</td>\n",
              "    </tr>\n",
              "    <tr>\n",
              "      <th>2693</th>\n",
              "      <td>1</td>\n",
              "      <td>0.135079</td>\n",
              "      <td>0</td>\n",
              "    </tr>\n",
              "    <tr>\n",
              "      <th>2694</th>\n",
              "      <td>1</td>\n",
              "      <td>0.788931</td>\n",
              "      <td>1</td>\n",
              "    </tr>\n",
              "    <tr>\n",
              "      <th>2695</th>\n",
              "      <td>0</td>\n",
              "      <td>0.033588</td>\n",
              "      <td>0</td>\n",
              "    </tr>\n",
              "    <tr>\n",
              "      <th>2696</th>\n",
              "      <td>1</td>\n",
              "      <td>0.971137</td>\n",
              "      <td>1</td>\n",
              "    </tr>\n",
              "    <tr>\n",
              "      <th>2697</th>\n",
              "      <td>0</td>\n",
              "      <td>0.018332</td>\n",
              "      <td>0</td>\n",
              "    </tr>\n",
              "  </tbody>\n",
              "</table>\n",
              "<p>2698 rows × 3 columns</p>\n",
              "</div>"
            ],
            "text/plain": [
              "      Converted  Conversion_Probability  final_predicted\n",
              "0             0                0.103537                0\n",
              "1             1                0.590803                1\n",
              "2             1                0.421832                1\n",
              "3             0                0.062189                0\n",
              "4             0                0.490974                1\n",
              "...         ...                     ...              ...\n",
              "2693          1                0.135079                0\n",
              "2694          1                0.788931                1\n",
              "2695          0                0.033588                0\n",
              "2696          1                0.971137                1\n",
              "2697          0                0.018332                0\n",
              "\n",
              "[2698 rows x 3 columns]"
            ]
          },
          "execution_count": 350,
          "metadata": {},
          "output_type": "execute_result"
        }
      ],
      "source": [
        "# Making prediction using cut off 0.35\n",
        "\n",
        "y_pred_final['final_predicted'] = y_pred_final.Conversion_Probability.map(lambda x: 1 if x > 0.35 else 0)\n",
        "y_pred_final"
      ]
    },
    {
      "cell_type": "code",
      "execution_count": null,
      "id": "ce6ec04a",
      "metadata": {
        "id": "ce6ec04a",
        "outputId": "42df046b-38ba-406a-f846-9864033d0bcf"
      },
      "outputs": [
        {
          "data": {
            "text/plain": [
              "0.801704966641957"
            ]
          },
          "execution_count": 351,
          "metadata": {},
          "output_type": "execute_result"
        }
      ],
      "source": [
        "# Check the overall accuracy\n",
        "\n",
        "metrics.accuracy_score(y_pred_final['Converted'], y_pred_final.final_predicted)"
      ]
    },
    {
      "cell_type": "code",
      "execution_count": null,
      "id": "fd9a3ad4",
      "metadata": {
        "id": "fd9a3ad4",
        "outputId": "2093ee68-e49f-45cb-c6d9-98ed2523478e"
      },
      "outputs": [
        {
          "data": {
            "text/plain": [
              "array([[1345,  332],\n",
              "       [ 203,  818]], dtype=int64)"
            ]
          },
          "execution_count": 352,
          "metadata": {},
          "output_type": "execute_result"
        }
      ],
      "source": [
        "# Creating confusion matrix \n",
        "\n",
        "conf3 = metrics.confusion_matrix(y_pred_final['Converted'], y_pred_final.final_predicted )\n",
        "conf3"
      ]
    },
    {
      "cell_type": "code",
      "execution_count": null,
      "id": "a537e7c3",
      "metadata": {
        "id": "a537e7c3"
      },
      "outputs": [],
      "source": [
        "# True positives\n",
        "TP = conf3[1,1]\n",
        "# True negatives\n",
        "TN = conf3[0,0]\n",
        "# False positives\n",
        "FP = conf3[0,1] \n",
        "# False negatives\n",
        "FN = conf3[1,0]"
      ]
    },
    {
      "cell_type": "code",
      "execution_count": null,
      "id": "ed643362",
      "metadata": {
        "id": "ed643362",
        "outputId": "6ab3956f-17e4-4eaf-e8de-81bef760834d"
      },
      "outputs": [
        {
          "data": {
            "text/plain": [
              "0.801175318315377"
            ]
          },
          "execution_count": 354,
          "metadata": {},
          "output_type": "execute_result"
        }
      ],
      "source": [
        "# Sensitivity\n",
        "TP/(TP+FN)\n"
      ]
    },
    {
      "cell_type": "code",
      "execution_count": null,
      "id": "c871a0da",
      "metadata": {
        "id": "c871a0da",
        "outputId": "20e0c757-6e30-4673-b7bb-66f8689dd0fc"
      },
      "outputs": [
        {
          "data": {
            "text/plain": [
              "0.8020274299344067"
            ]
          },
          "execution_count": 355,
          "metadata": {},
          "output_type": "execute_result"
        }
      ],
      "source": [
        "# Specificity\n",
        "TN/(TN+FP)"
      ]
    },
    {
      "cell_type": "markdown",
      "id": "a3c4ba69",
      "metadata": {
        "id": "a3c4ba69"
      },
      "source": [
        "The accuracy, sensitivity and specificity are all around 80% with the cutoff at 0.35"
      ]
    },
    {
      "cell_type": "markdown",
      "id": "35bc0964",
      "metadata": {
        "id": "35bc0964"
      },
      "source": [
        "## Precision Recall"
      ]
    },
    {
      "cell_type": "code",
      "execution_count": null,
      "id": "9820274f",
      "metadata": {
        "id": "9820274f",
        "outputId": "ef067cc8-aaf0-4d7e-f97d-a1100c760847"
      },
      "outputs": [
        {
          "data": {
            "text/plain": [
              "array([[3476,  439],\n",
              "       [ 743, 1635]], dtype=int64)"
            ]
          },
          "execution_count": 356,
          "metadata": {},
          "output_type": "execute_result"
        }
      ],
      "source": [
        "# Confusion Matrix\n",
        "conf = metrics.confusion_matrix(y_train_pred_final.Converted, y_train_pred_final.Predicted )\n",
        "conf"
      ]
    },
    {
      "cell_type": "code",
      "execution_count": null,
      "id": "6fa95f4a",
      "metadata": {
        "id": "6fa95f4a",
        "outputId": "c92cc4cd-d59e-4ef2-ea9f-5960797ec01e"
      },
      "outputs": [
        {
          "data": {
            "text/plain": [
              "0.7883317261330762"
            ]
          },
          "execution_count": 357,
          "metadata": {},
          "output_type": "execute_result"
        }
      ],
      "source": [
        "# Precision = TP / TP + FP\n",
        "\n",
        "conf[1,1]/(conf[0,1]+conf[1,1])"
      ]
    },
    {
      "cell_type": "code",
      "execution_count": null,
      "id": "545515f4",
      "metadata": {
        "id": "545515f4",
        "outputId": "c8dc4438-1316-4b5a-88a1-8973ebc971c5"
      },
      "outputs": [
        {
          "data": {
            "text/plain": [
              "0.6875525651808242"
            ]
          },
          "execution_count": 358,
          "metadata": {},
          "output_type": "execute_result"
        }
      ],
      "source": [
        "#Recall = TP / TP + FN\n",
        "\n",
        "conf[1,1]/(conf[1,0]+conf[1,1])"
      ]
    },
    {
      "cell_type": "markdown",
      "id": "4e409218",
      "metadata": {
        "id": "4e409218"
      },
      "source": [
        "The Precision is around 80% and Recall is around 70% with the cutoff at 0.35"
      ]
    },
    {
      "cell_type": "markdown",
      "id": "ecb0b035",
      "metadata": {
        "id": "ecb0b035"
      },
      "source": [
        "### Precision-Recall tradeoff"
      ]
    },
    {
      "cell_type": "code",
      "execution_count": null,
      "id": "6e9dc9b8",
      "metadata": {
        "id": "6e9dc9b8"
      },
      "outputs": [],
      "source": [
        "from sklearn.metrics import precision_recall_curve"
      ]
    },
    {
      "cell_type": "code",
      "execution_count": null,
      "id": "251ced0c",
      "metadata": {
        "id": "251ced0c",
        "outputId": "032745ec-94ab-4ccf-ec73-deaa38cb248f"
      },
      "outputs": [
        {
          "data": {
            "text/plain": [
              "(0       0\n",
              " 1       1\n",
              " 2       1\n",
              " 3       0\n",
              " 4       0\n",
              "        ..\n",
              " 6288    1\n",
              " 6289    1\n",
              " 6290    1\n",
              " 6291    0\n",
              " 6292    1\n",
              " Name: Converted, Length: 6293, dtype: int64,\n",
              " 0       0\n",
              " 1       1\n",
              " 2       0\n",
              " 3       0\n",
              " 4       0\n",
              "        ..\n",
              " 6288    0\n",
              " 6289    0\n",
              " 6290    1\n",
              " 6291    0\n",
              " 6292    1\n",
              " Name: Predicted, Length: 6293, dtype: int64)"
            ]
          },
          "execution_count": 360,
          "metadata": {},
          "output_type": "execute_result"
        }
      ],
      "source": [
        "y_train_pred_final.Converted, y_train_pred_final.Predicted"
      ]
    },
    {
      "cell_type": "code",
      "execution_count": null,
      "id": "f16c9821",
      "metadata": {
        "id": "f16c9821"
      },
      "outputs": [],
      "source": [
        "pr, re, thresholds = precision_recall_curve(y_train_pred_final.Converted, y_train_pred_final.Conversion_Prob)"
      ]
    },
    {
      "cell_type": "code",
      "execution_count": null,
      "id": "f4a04975",
      "metadata": {
        "id": "f4a04975",
        "outputId": "8144ac2b-06ec-4b07-ec7a-6718c2f84543"
      },
      "outputs": [
        {
          "data": {
            "image/png": "[encoded data removed]",
            "text/plain": [
              "<Figure size 432x288 with 1 Axes>"
            ]
          },
          "metadata": {
            "needs_background": "light"
          },
          "output_type": "display_data"
        }
      ],
      "source": [
        "\n",
        "plt.plot(thresholds, pr[:-1], \"g-\")\n",
        "plt.plot(thresholds, re[:-1], \"r-\")\n",
        "plt.show()"
      ]
    },
    {
      "cell_type": "markdown",
      "id": "4de09de7",
      "metadata": {
        "id": "4de09de7"
      },
      "source": [
        "Observing the cutoff threshold at 0.4"
      ]
    },
    {
      "cell_type": "code",
      "execution_count": null,
      "id": "f06fac11",
      "metadata": {
        "id": "f06fac11",
        "outputId": "d098f51b-8ea6-467a-ac83-0b7b769e034a"
      },
      "outputs": [
        {
          "data": {
            "text/html": [
              "<div>\n",
              "<style scoped>\n",
              "    .dataframe tbody tr th:only-of-type {\n",
              "        vertical-align: middle;\n",
              "    }\n",
              "\n",
              "    .dataframe tbody tr th {\n",
              "        vertical-align: top;\n",
              "    }\n",
              "\n",
              "    .dataframe thead th {\n",
              "        text-align: right;\n",
              "    }\n",
              "</style>\n",
              "<table border=\"1\" class=\"dataframe\">\n",
              "  <thead>\n",
              "    <tr style=\"text-align: right;\">\n",
              "      <th></th>\n",
              "      <th>Converted</th>\n",
              "      <th>Conversion_Prob</th>\n",
              "      <th>Predicted</th>\n",
              "      <th>0.0</th>\n",
              "      <th>0.1</th>\n",
              "      <th>0.2</th>\n",
              "      <th>0.3</th>\n",
              "      <th>0.4</th>\n",
              "      <th>0.5</th>\n",
              "      <th>0.6</th>\n",
              "      <th>0.7</th>\n",
              "      <th>0.8</th>\n",
              "      <th>0.9</th>\n",
              "      <th>final_predicted</th>\n",
              "    </tr>\n",
              "  </thead>\n",
              "  <tbody>\n",
              "    <tr>\n",
              "      <th>0</th>\n",
              "      <td>0</td>\n",
              "      <td>0.260706</td>\n",
              "      <td>0</td>\n",
              "      <td>1</td>\n",
              "      <td>1</td>\n",
              "      <td>1</td>\n",
              "      <td>0</td>\n",
              "      <td>0</td>\n",
              "      <td>0</td>\n",
              "      <td>0</td>\n",
              "      <td>0</td>\n",
              "      <td>0</td>\n",
              "      <td>0</td>\n",
              "      <td>0</td>\n",
              "    </tr>\n",
              "    <tr>\n",
              "      <th>1</th>\n",
              "      <td>1</td>\n",
              "      <td>0.997343</td>\n",
              "      <td>1</td>\n",
              "      <td>1</td>\n",
              "      <td>1</td>\n",
              "      <td>1</td>\n",
              "      <td>1</td>\n",
              "      <td>1</td>\n",
              "      <td>1</td>\n",
              "      <td>1</td>\n",
              "      <td>1</td>\n",
              "      <td>1</td>\n",
              "      <td>1</td>\n",
              "      <td>1</td>\n",
              "    </tr>\n",
              "    <tr>\n",
              "      <th>2</th>\n",
              "      <td>1</td>\n",
              "      <td>0.376645</td>\n",
              "      <td>0</td>\n",
              "      <td>1</td>\n",
              "      <td>1</td>\n",
              "      <td>1</td>\n",
              "      <td>1</td>\n",
              "      <td>0</td>\n",
              "      <td>0</td>\n",
              "      <td>0</td>\n",
              "      <td>0</td>\n",
              "      <td>0</td>\n",
              "      <td>0</td>\n",
              "      <td>0</td>\n",
              "    </tr>\n",
              "    <tr>\n",
              "      <th>3</th>\n",
              "      <td>0</td>\n",
              "      <td>0.264108</td>\n",
              "      <td>0</td>\n",
              "      <td>1</td>\n",
              "      <td>1</td>\n",
              "      <td>1</td>\n",
              "      <td>0</td>\n",
              "      <td>0</td>\n",
              "      <td>0</td>\n",
              "      <td>0</td>\n",
              "      <td>0</td>\n",
              "      <td>0</td>\n",
              "      <td>0</td>\n",
              "      <td>0</td>\n",
              "    </tr>\n",
              "    <tr>\n",
              "      <th>4</th>\n",
              "      <td>0</td>\n",
              "      <td>0.113188</td>\n",
              "      <td>0</td>\n",
              "      <td>1</td>\n",
              "      <td>1</td>\n",
              "      <td>0</td>\n",
              "      <td>0</td>\n",
              "      <td>0</td>\n",
              "      <td>0</td>\n",
              "      <td>0</td>\n",
              "      <td>0</td>\n",
              "      <td>0</td>\n",
              "      <td>0</td>\n",
              "      <td>0</td>\n",
              "    </tr>\n",
              "  </tbody>\n",
              "</table>\n",
              "</div>"
            ],
            "text/plain": [
              "   Converted  Conversion_Prob  Predicted  0.0  0.1  0.2  0.3  0.4  0.5  0.6  \\\n",
              "0          0         0.260706          0    1    1    1    0    0    0    0   \n",
              "1          1         0.997343          1    1    1    1    1    1    1    1   \n",
              "2          1         0.376645          0    1    1    1    1    0    0    0   \n",
              "3          0         0.264108          0    1    1    1    0    0    0    0   \n",
              "4          0         0.113188          0    1    1    0    0    0    0    0   \n",
              "\n",
              "   0.7  0.8  0.9  final_predicted  \n",
              "0    0    0    0                0  \n",
              "1    1    1    1                1  \n",
              "2    0    0    0                0  \n",
              "3    0    0    0                0  \n",
              "4    0    0    0                0  "
            ]
          },
          "execution_count": 363,
          "metadata": {},
          "output_type": "execute_result"
        }
      ],
      "source": [
        "y_train_pred_final['final_predicted'] = y_train_pred_final.Conversion_Prob.map(lambda x: 1 if x > 0.4 else 0)\n",
        "y_train_pred_final.head()"
      ]
    },
    {
      "cell_type": "code",
      "execution_count": null,
      "id": "54b368da",
      "metadata": {
        "id": "54b368da",
        "outputId": "c0aa44ac-ea62-4651-d94d-33018892f3b7"
      },
      "outputs": [
        {
          "data": {
            "text/plain": [
              "0.8120133481646273"
            ]
          },
          "execution_count": 364,
          "metadata": {},
          "output_type": "execute_result"
        }
      ],
      "source": [
        "# Accuracy\n",
        "metrics.accuracy_score(y_train_pred_final.Converted, y_train_pred_final.final_predicted)"
      ]
    },
    {
      "cell_type": "code",
      "execution_count": null,
      "id": "b5a23a77",
      "metadata": {
        "id": "b5a23a77",
        "outputId": "59f4d10a-6844-4f15-ab87-e4fe8009521c"
      },
      "outputs": [
        {
          "data": {
            "text/plain": [
              "array([[3290,  625],\n",
              "       [ 558, 1820]], dtype=int64)"
            ]
          },
          "execution_count": 365,
          "metadata": {},
          "output_type": "execute_result"
        }
      ],
      "source": [
        "# Creating confusion matrix again\n",
        "conf2 = metrics.confusion_matrix(y_train_pred_final.Converted, y_train_pred_final.final_predicted )\n",
        "conf2"
      ]
    },
    {
      "cell_type": "code",
      "execution_count": null,
      "id": "71e8129e",
      "metadata": {
        "id": "71e8129e"
      },
      "outputs": [],
      "source": [
        "# True positives\n",
        "TP = conf2[1,1]\n",
        "# True negatives\n",
        "TN = conf2[0,0]\n",
        "# False positives\n",
        "FP = conf2[0,1] \n",
        "# False negatives\n",
        "FN = conf2[1,0]"
      ]
    },
    {
      "cell_type": "code",
      "execution_count": null,
      "id": "27c1da01",
      "metadata": {
        "id": "27c1da01",
        "outputId": "530440cc-1d7c-4f1e-f91b-2e1736c1872b"
      },
      "outputs": [
        {
          "data": {
            "text/plain": [
              "0.7443762781186094"
            ]
          },
          "execution_count": 367,
          "metadata": {},
          "output_type": "execute_result"
        }
      ],
      "source": [
        "# Precision = TP / TP + FP\n",
        "TP / (TP + FP)"
      ]
    },
    {
      "cell_type": "code",
      "execution_count": null,
      "id": "ceee0696",
      "metadata": {
        "id": "ceee0696",
        "outputId": "3274f007-1441-4d04-c0cc-23b3de7c9472"
      },
      "outputs": [
        {
          "data": {
            "text/plain": [
              "0.7653490328006728"
            ]
          },
          "execution_count": 368,
          "metadata": {},
          "output_type": "execute_result"
        }
      ],
      "source": [
        "#Recall = TP / TP + FN\n",
        "TP / (TP + FN)"
      ]
    },
    {
      "cell_type": "markdown",
      "id": "746ff62b",
      "metadata": {
        "id": "746ff62b"
      },
      "source": [
        "With the current cut off as 0.40 we can observe Accuracy around 81%, Precision around 75% and Recall around 77%."
      ]
    },
    {
      "cell_type": "markdown",
      "id": "a42b36b0",
      "metadata": {
        "id": "a42b36b0"
      },
      "source": [
        "## Prediction on Test Dataset"
      ]
    },
    {
      "cell_type": "code",
      "execution_count": null,
      "id": "59b0469d",
      "metadata": {
        "id": "59b0469d",
        "outputId": "b03030c4-b20c-412a-9408-1490a0c1a1ba"
      },
      "outputs": [
        {
          "data": {
            "text/html": [
              "<div>\n",
              "<style scoped>\n",
              "    .dataframe tbody tr th:only-of-type {\n",
              "        vertical-align: middle;\n",
              "    }\n",
              "\n",
              "    .dataframe tbody tr th {\n",
              "        vertical-align: top;\n",
              "    }\n",
              "\n",
              "    .dataframe thead th {\n",
              "        text-align: right;\n",
              "    }\n",
              "</style>\n",
              "<table border=\"1\" class=\"dataframe\">\n",
              "  <thead>\n",
              "    <tr style=\"text-align: right;\">\n",
              "      <th></th>\n",
              "      <th>Converted</th>\n",
              "      <th>Conversion_Probability</th>\n",
              "    </tr>\n",
              "  </thead>\n",
              "  <tbody>\n",
              "    <tr>\n",
              "      <th>0</th>\n",
              "      <td>0</td>\n",
              "      <td>0.103537</td>\n",
              "    </tr>\n",
              "    <tr>\n",
              "      <th>1</th>\n",
              "      <td>1</td>\n",
              "      <td>0.590803</td>\n",
              "    </tr>\n",
              "    <tr>\n",
              "      <th>2</th>\n",
              "      <td>1</td>\n",
              "      <td>0.421832</td>\n",
              "    </tr>\n",
              "    <tr>\n",
              "      <th>3</th>\n",
              "      <td>0</td>\n",
              "      <td>0.062189</td>\n",
              "    </tr>\n",
              "    <tr>\n",
              "      <th>4</th>\n",
              "      <td>0</td>\n",
              "      <td>0.490974</td>\n",
              "    </tr>\n",
              "  </tbody>\n",
              "</table>\n",
              "</div>"
            ],
            "text/plain": [
              "   Converted  Conversion_Probability\n",
              "0          0                0.103537\n",
              "1          1                0.590803\n",
              "2          1                0.421832\n",
              "3          0                0.062189\n",
              "4          0                0.490974"
            ]
          },
          "execution_count": 369,
          "metadata": {},
          "output_type": "execute_result"
        }
      ],
      "source": [
        "# Storing prediction of test set in the variable 'y_test_pred'\n",
        "y_test_pred = res.predict(X_test_sm)\n",
        "\n",
        "# Coverting it to dataframe\n",
        "y_pred_df = pd.DataFrame(y_test_pred)\n",
        "\n",
        "# Converting y_test to dataframe\n",
        "y_test_df = pd.DataFrame(y_test)\n",
        "\n",
        "# Remove index for both dataframes to append them side by side \n",
        "y_pred_df.reset_index(drop=True, inplace=True)\n",
        "y_test_df.reset_index(drop=True, inplace=True)\n",
        "\n",
        "# Append y_test_df and y_pred_df\n",
        "y_pred_final = pd.concat([y_test_df, y_pred_df],axis=1)\n",
        "\n",
        "# Renaming column \n",
        "y_pred_final= y_pred_final.rename(columns = {0 : 'Conversion_Probability'})\n",
        "y_pred_final.head()"
      ]
    },
    {
      "cell_type": "code",
      "execution_count": null,
      "id": "3b247f82",
      "metadata": {
        "id": "3b247f82",
        "outputId": "5f37ac89-cd56-46df-a3db-6f1280e2a306"
      },
      "outputs": [
        {
          "data": {
            "text/html": [
              "<div>\n",
              "<style scoped>\n",
              "    .dataframe tbody tr th:only-of-type {\n",
              "        vertical-align: middle;\n",
              "    }\n",
              "\n",
              "    .dataframe tbody tr th {\n",
              "        vertical-align: top;\n",
              "    }\n",
              "\n",
              "    .dataframe thead th {\n",
              "        text-align: right;\n",
              "    }\n",
              "</style>\n",
              "<table border=\"1\" class=\"dataframe\">\n",
              "  <thead>\n",
              "    <tr style=\"text-align: right;\">\n",
              "      <th></th>\n",
              "      <th>Converted</th>\n",
              "      <th>Conversion_Probability</th>\n",
              "      <th>final_predicted</th>\n",
              "    </tr>\n",
              "  </thead>\n",
              "  <tbody>\n",
              "    <tr>\n",
              "      <th>0</th>\n",
              "      <td>0</td>\n",
              "      <td>0.103537</td>\n",
              "      <td>0</td>\n",
              "    </tr>\n",
              "    <tr>\n",
              "      <th>1</th>\n",
              "      <td>1</td>\n",
              "      <td>0.590803</td>\n",
              "      <td>1</td>\n",
              "    </tr>\n",
              "    <tr>\n",
              "      <th>2</th>\n",
              "      <td>1</td>\n",
              "      <td>0.421832</td>\n",
              "      <td>1</td>\n",
              "    </tr>\n",
              "    <tr>\n",
              "      <th>3</th>\n",
              "      <td>0</td>\n",
              "      <td>0.062189</td>\n",
              "      <td>0</td>\n",
              "    </tr>\n",
              "    <tr>\n",
              "      <th>4</th>\n",
              "      <td>0</td>\n",
              "      <td>0.490974</td>\n",
              "      <td>1</td>\n",
              "    </tr>\n",
              "    <tr>\n",
              "      <th>...</th>\n",
              "      <td>...</td>\n",
              "      <td>...</td>\n",
              "      <td>...</td>\n",
              "    </tr>\n",
              "    <tr>\n",
              "      <th>2693</th>\n",
              "      <td>1</td>\n",
              "      <td>0.135079</td>\n",
              "      <td>0</td>\n",
              "    </tr>\n",
              "    <tr>\n",
              "      <th>2694</th>\n",
              "      <td>1</td>\n",
              "      <td>0.788931</td>\n",
              "      <td>1</td>\n",
              "    </tr>\n",
              "    <tr>\n",
              "      <th>2695</th>\n",
              "      <td>0</td>\n",
              "      <td>0.033588</td>\n",
              "      <td>0</td>\n",
              "    </tr>\n",
              "    <tr>\n",
              "      <th>2696</th>\n",
              "      <td>1</td>\n",
              "      <td>0.971137</td>\n",
              "      <td>1</td>\n",
              "    </tr>\n",
              "    <tr>\n",
              "      <th>2697</th>\n",
              "      <td>0</td>\n",
              "      <td>0.018332</td>\n",
              "      <td>0</td>\n",
              "    </tr>\n",
              "  </tbody>\n",
              "</table>\n",
              "<p>2698 rows × 3 columns</p>\n",
              "</div>"
            ],
            "text/plain": [
              "      Converted  Conversion_Probability  final_predicted\n",
              "0             0                0.103537                0\n",
              "1             1                0.590803                1\n",
              "2             1                0.421832                1\n",
              "3             0                0.062189                0\n",
              "4             0                0.490974                1\n",
              "...         ...                     ...              ...\n",
              "2693          1                0.135079                0\n",
              "2694          1                0.788931                1\n",
              "2695          0                0.033588                0\n",
              "2696          1                0.971137                1\n",
              "2697          0                0.018332                0\n",
              "\n",
              "[2698 rows x 3 columns]"
            ]
          },
          "execution_count": 370,
          "metadata": {},
          "output_type": "execute_result"
        }
      ],
      "source": [
        "# Making prediction using cut off 0.40\n",
        "y_pred_final['final_predicted'] = y_pred_final.Conversion_Probability.map(lambda x: 1 if x > 0.40 else 0)\n",
        "y_pred_final"
      ]
    },
    {
      "cell_type": "code",
      "execution_count": null,
      "id": "4bf21885",
      "metadata": {
        "id": "4bf21885",
        "outputId": "49c32069-3d53-4b3b-b6cd-7476f38bd3d0"
      },
      "outputs": [
        {
          "data": {
            "text/plain": [
              "0.8039288361749444"
            ]
          },
          "execution_count": 371,
          "metadata": {},
          "output_type": "execute_result"
        }
      ],
      "source": [
        "# Checking overall accuracy\n",
        "metrics.accuracy_score(y_pred_final['Converted'], y_pred_final.final_predicted)"
      ]
    },
    {
      "cell_type": "code",
      "execution_count": null,
      "id": "78f370ca",
      "metadata": {
        "id": "78f370ca",
        "outputId": "0af76828-5cd8-4cf5-b722-ed45ea426fcb"
      },
      "outputs": [
        {
          "data": {
            "text/plain": [
              "array([[1390,  287],\n",
              "       [ 242,  779]], dtype=int64)"
            ]
          },
          "execution_count": 372,
          "metadata": {},
          "output_type": "execute_result"
        }
      ],
      "source": [
        "# Creating the confusion matrix \n",
        "conf2 = metrics.confusion_matrix(y_pred_final['Converted'], y_pred_final.final_predicted )\n",
        "conf2"
      ]
    },
    {
      "cell_type": "code",
      "execution_count": null,
      "id": "1f52bd5c",
      "metadata": {
        "id": "1f52bd5c"
      },
      "outputs": [],
      "source": [
        "# True positives\n",
        "TP = conf2[1,1]\n",
        "# True negatives\n",
        "TN = conf2[0,0]\n",
        "# False positives\n",
        "FP = conf2[0,1] \n",
        "# False negatives\n",
        "FN = conf2[1,0]"
      ]
    },
    {
      "cell_type": "code",
      "execution_count": null,
      "id": "bf90835f",
      "metadata": {
        "id": "bf90835f",
        "outputId": "576615ee-ade9-41b8-feac-548488e9d01b"
      },
      "outputs": [
        {
          "data": {
            "text/plain": [
              "0.7307692307692307"
            ]
          },
          "execution_count": 374,
          "metadata": {},
          "output_type": "execute_result"
        }
      ],
      "source": [
        "# Precision = TP / TP + FP\n",
        "TP / (TP + FP)"
      ]
    },
    {
      "cell_type": "code",
      "execution_count": null,
      "id": "cec9ebe1",
      "metadata": {
        "id": "cec9ebe1",
        "outputId": "b714e763-9f30-41e7-dc87-3dabba40185a"
      },
      "outputs": [
        {
          "data": {
            "text/plain": [
              "0.7629774730656219"
            ]
          },
          "execution_count": 375,
          "metadata": {},
          "output_type": "execute_result"
        }
      ],
      "source": [
        "#Recall = TP / TP + FN\n",
        "TP / (TP + FN)"
      ]
    },
    {
      "cell_type": "markdown",
      "id": "2beeb60e",
      "metadata": {
        "id": "2beeb60e"
      },
      "source": [
        "We can observe the Accuracy at 80%, Precision around 73% and Recall around 76% with the cutoff at 0.40."
      ]
    },
    {
      "cell_type": "markdown",
      "id": "4dd44d51",
      "metadata": {
        "id": "4dd44d51"
      },
      "source": [
        "### Hence we can observe that model predicts a good Conversion Rate and we can give company CEO confidence in making positive calls based on the above model."
      ]
    },
    {
      "cell_type": "markdown",
      "id": "64c6a8f9",
      "metadata": {
        "id": "64c6a8f9"
      },
      "source": [
        "# Conclusion"
      ]
    },
    {
      "cell_type": "markdown",
      "id": "61eb441f",
      "metadata": {
        "id": "61eb441f"
      },
      "source": [
        "\n",
        "#### It was observed that important variables in the selecting potential buyers are listed below:\n",
        "\n",
        "#### TotalVisits\n",
        "#### Last Activity_Olark Chat Conversation\t\n",
        "#### Last Notable Activity_Modified\t\n",
        "#### Total Time Spent on Website\t\n",
        "#### Last Notable Activity_Email Opened\t\n",
        "#### Lead Source_Olark Chat\t\n",
        "#### Lead Origin_Lead Add Form\t\n",
        "#### Last Notable Activity_Olark Chat Conversation\t\n",
        "#### Lead Source_Welingak Website\t\n",
        "#### What is your current occupation_Working Profes...\t\n",
        "#### Last Notable Activity_Page Visited on Website\t\n",
        "#### Do Not Email_Yes\t\n",
        "#### Last Notable Activity_Email Link Clicked\t\n",
        "\n",
        "### The 'X Education' can bloom its business by focusing on the above variables, since the probability to convert almost all the potential buyers is high.\n",
        "\n",
        "\n"
      ]
    },
    {
      "cell_type": "code",
      "execution_count": null,
      "id": "83461296",
      "metadata": {
        "id": "83461296"
      },
      "outputs": [],
      "source": []
    }
  ],
  "metadata": {
    "kernelspec": {
      "display_name": "Python 3 (ipykernel)",
      "language": "python",
      "name": "python3"
    },
    "language_info": {
      "codemirror_mode": {
        "name": "ipython",
        "version": 3
      },
      "file_extension": ".py",
      "mimetype": "text/x-python",
      "name": "python",
      "nbconvert_exporter": "python",
      "pygments_lexer": "ipython3",
      "version": "3.9.12"
    },
    "colab": {
      "provenance": []
    }
  },
  "nbformat": 4,
  "nbformat_minor": 5
}